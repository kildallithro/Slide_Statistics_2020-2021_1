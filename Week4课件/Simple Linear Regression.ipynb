{
 "cells": [
  {
   "cell_type": "markdown",
   "metadata": {},
   "source": [
    "# Week4 Simple Linear Regression\n",
    "## 背景描述\n",
    "考虑一个公司销售和维修小型计算机的案例：为了研究**维修服务时长**和**电脑中必须修理或更换的电子元件数量**之间的关系，收集了服务调用记录的样本。\n",
    "\n",
    "## 数据描述\n",
    "| 变量名 | 变量含义 | 变量类型 | 变量取值范围 |\n",
    "| :----------: | :--------: | :----------: | :----------: |\n",
    "| （自变量）Units | 修复的组件数量 | discrete variable | $\\mathbb{Z}^+$ |\n",
    "| （因变量）Minutes | 维修服务时长 | continuous variable(单位: 分钟) | $\\mathbb{R}$ |\n",
    "\n"
   ]
  },
  {
   "cell_type": "code",
   "execution_count": 37,
   "metadata": {
    "scrolled": true
   },
   "outputs": [
    {
     "name": "stdout",
     "output_type": "stream",
     "text": [
      "Data: \n",
      " [[  1   1  23]\n",
      " [  2   2  29]\n",
      " [  3   3  49]\n",
      " [  4   4  64]\n",
      " [  5   4  74]\n",
      " [  6   5  87]\n",
      " [  7   6  96]\n",
      " [  8   6  97]\n",
      " [  9   7 109]\n",
      " [ 10   8 119]\n",
      " [ 11   9 149]\n",
      " [ 12   9 145]\n",
      " [ 13  10 154]\n",
      " [ 14  10 166]]\n"
     ]
    }
   ],
   "source": [
    "import pandas as pd\n",
    "print('Data: \\n', pd.read_csv('Computer_repair.csv').values)"
   ]
  },
  {
   "cell_type": "markdown",
   "metadata": {},
   "source": [
    "## 问题\n",
    "这里使用 $\\alpha=0.05$ 的水平\n",
    "1. 请用统计模型描述维修服务时长与组件个数的关系.\n",
    "2. 请问 Q1 中所建立的模型是否合理.\n",
    "3. 如果一个客户需要维修 3 个组件，请给出一个合理区间，告知客户其可能需要的维修服务时长.\n",
    "\n",
    "## 解决方案"
   ]
  },
  {
   "cell_type": "markdown",
   "metadata": {},
   "source": [
    "**Q1:**  \n",
    "列出线性模型为：$Minutes = \\beta_0 + \\beta_1*Units + \\epsilon$"
   ]
  },
  {
   "cell_type": "code",
   "execution_count": 2,
   "metadata": {},
   "outputs": [
    {
     "name": "stdout",
     "output_type": "stream",
     "text": [
      "   Units  Minutes\n",
      "0      1       23\n",
      "1      2       29\n",
      "2      3       49\n",
      "3      4       64\n",
      "4      4       74\n",
      "\n",
      "\n",
      "8.142857142857142\n",
      "参数估计值: \n",
      " Intercept     4.1617\n",
      "Units        15.5088\n",
      "dtype: float64\n"
     ]
    },
    {
     "name": "stderr",
     "output_type": "stream",
     "text": [
      "D:\\Program_Files\\Anaconda3\\lib\\site-packages\\scipy\\stats\\stats.py:1604: UserWarning: kurtosistest only valid for n>=20 ... continuing anyway, n=14\n",
      "  \"anyway, n=%i\" % int(n))\n"
     ]
    },
    {
     "data": {
      "text/html": [
       "<table class=\"simpletable\">\n",
       "<caption>OLS Regression Results</caption>\n",
       "<tr>\n",
       "  <th>Dep. Variable:</th>         <td>Minutes</td>     <th>  R-squared:         </th> <td>   0.987</td>\n",
       "</tr>\n",
       "<tr>\n",
       "  <th>Model:</th>                   <td>OLS</td>       <th>  Adj. R-squared:    </th> <td>   0.986</td>\n",
       "</tr>\n",
       "<tr>\n",
       "  <th>Method:</th>             <td>Least Squares</td>  <th>  F-statistic:       </th> <td>   943.2</td>\n",
       "</tr>\n",
       "<tr>\n",
       "  <th>Date:</th>             <td>Mon, 29 Mar 2021</td> <th>  Prob (F-statistic):</th> <td>8.92e-13</td>\n",
       "</tr>\n",
       "<tr>\n",
       "  <th>Time:</th>                 <td>16:54:25</td>     <th>  Log-Likelihood:    </th> <td> -42.374</td>\n",
       "</tr>\n",
       "<tr>\n",
       "  <th>No. Observations:</th>      <td>    14</td>      <th>  AIC:               </th> <td>   88.75</td>\n",
       "</tr>\n",
       "<tr>\n",
       "  <th>Df Residuals:</th>          <td>    12</td>      <th>  BIC:               </th> <td>   90.03</td>\n",
       "</tr>\n",
       "<tr>\n",
       "  <th>Df Model:</th>              <td>     1</td>      <th>                     </th>     <td> </td>   \n",
       "</tr>\n",
       "<tr>\n",
       "  <th>Covariance Type:</th>      <td>nonrobust</td>    <th>                     </th>     <td> </td>   \n",
       "</tr>\n",
       "</table>\n",
       "<table class=\"simpletable\">\n",
       "<tr>\n",
       "      <td></td>         <th>coef</th>     <th>std err</th>      <th>t</th>      <th>P>|t|</th>  <th>[0.025</th>    <th>0.975]</th>  \n",
       "</tr>\n",
       "<tr>\n",
       "  <th>Intercept</th> <td>    4.1617</td> <td>    3.355</td> <td>    1.240</td> <td> 0.239</td> <td>   -3.148</td> <td>   11.472</td>\n",
       "</tr>\n",
       "<tr>\n",
       "  <th>Units</th>     <td>   15.5088</td> <td>    0.505</td> <td>   30.712</td> <td> 0.000</td> <td>   14.409</td> <td>   16.609</td>\n",
       "</tr>\n",
       "</table>\n",
       "<table class=\"simpletable\">\n",
       "<tr>\n",
       "  <th>Omnibus:</th>       <td> 0.746</td> <th>  Durbin-Watson:     </th> <td>   2.051</td>\n",
       "</tr>\n",
       "<tr>\n",
       "  <th>Prob(Omnibus):</th> <td> 0.689</td> <th>  Jarque-Bera (JB):  </th> <td>   0.624</td>\n",
       "</tr>\n",
       "<tr>\n",
       "  <th>Skew:</th>          <td>-0.069</td> <th>  Prob(JB):          </th> <td>   0.732</td>\n",
       "</tr>\n",
       "<tr>\n",
       "  <th>Kurtosis:</th>      <td> 1.975</td> <th>  Cond. No.          </th> <td>    15.8</td>\n",
       "</tr>\n",
       "</table><br/><br/>Notes:<br/>[1] Standard Errors assume that the covariance matrix of the errors is correctly specified."
      ],
      "text/plain": [
       "<class 'statsmodels.iolib.summary.Summary'>\n",
       "\"\"\"\n",
       "                            OLS Regression Results                            \n",
       "==============================================================================\n",
       "Dep. Variable:                Minutes   R-squared:                       0.987\n",
       "Model:                            OLS   Adj. R-squared:                  0.986\n",
       "Method:                 Least Squares   F-statistic:                     943.2\n",
       "Date:                Mon, 29 Mar 2021   Prob (F-statistic):           8.92e-13\n",
       "Time:                        16:54:25   Log-Likelihood:                -42.374\n",
       "No. Observations:                  14   AIC:                             88.75\n",
       "Df Residuals:                      12   BIC:                             90.03\n",
       "Df Model:                           1                                         \n",
       "Covariance Type:            nonrobust                                         \n",
       "==============================================================================\n",
       "                 coef    std err          t      P>|t|      [0.025      0.975]\n",
       "------------------------------------------------------------------------------\n",
       "Intercept      4.1617      3.355      1.240      0.239      -3.148      11.472\n",
       "Units         15.5088      0.505     30.712      0.000      14.409      16.609\n",
       "==============================================================================\n",
       "Omnibus:                        0.746   Durbin-Watson:                   2.051\n",
       "Prob(Omnibus):                  0.689   Jarque-Bera (JB):                0.624\n",
       "Skew:                          -0.069   Prob(JB):                        0.732\n",
       "Kurtosis:                       1.975   Cond. No.                         15.8\n",
       "==============================================================================\n",
       "\n",
       "Notes:\n",
       "[1] Standard Errors assume that the covariance matrix of the errors is correctly specified.\n",
       "\"\"\""
      ]
     },
     "execution_count": 2,
     "metadata": {},
     "output_type": "execute_result"
    }
   ],
   "source": [
    "# Import standard packages\n",
    "import numpy as np\n",
    "import pandas as pd\n",
    "import scipy.stats as stats\n",
    "import matplotlib.pyplot as plt\n",
    "import math\n",
    "\n",
    "# Import additional packages\n",
    "from statsmodels.formula.api import ols\n",
    "from statsmodels.stats.anova import anova_lm\n",
    "from scipy.stats import f\n",
    "from scipy.stats import t\n",
    "\n",
    "alpha = 0.05\n",
    "n = 14\n",
    "\n",
    "x = pd.read_csv('Computer_repair.csv')\n",
    "data = x.values[:,1:3]\n",
    "df = pd.DataFrame(data, columns = ['Units', 'Minutes'])\n",
    "print(df.head())\n",
    "print('\\n')\n",
    "print(np.var(data[:,0]))\n",
    "\n",
    "# Do the simple linear regression\n",
    "model = ols('Minutes ~ Units', df).fit()\n",
    "beta = model.params\n",
    "print('参数估计值: \\n', round(beta, 4))\n",
    "model.summary()\n"
   ]
  },
  {
   "cell_type": "code",
   "execution_count": 3,
   "metadata": {},
   "outputs": [
    {
     "name": "stdout",
     "output_type": "stream",
     "text": [
      "Minutes_hat = 4.1617 + 15.5088 * Units\n"
     ]
    },
    {
     "data": {
      "image/png": "[encoded data removed]",
      "text/plain": [
       "<Figure size 432x288 with 1 Axes>"
      ]
     },
     "metadata": {
      "needs_background": "light"
     },
     "output_type": "display_data"
    }
   ],
   "source": [
    "# 输出一元线性回归方程\n",
    "print('Minutes_hat =', round(beta[0], 4), '+', round(beta[1], 4), '* Units')\n",
    "\n",
    "# 画图\n",
    "x = data[:, 0]\n",
    "y = data[:, 1]\n",
    "Y = model.fittedvalues   # 预测值\n",
    "plt.scatter(x, y, c = 'blue', label='Minutes') # 原始数据\n",
    "plt.plot(x, Y, 'red', label='Fit_minutes') # 拟合数据\n",
    "plt.title('Computer Repair data: Scatter plot of Minutes versus Units. ')\n",
    "plt.xlabel('units')\n",
    "plt.ylabel('minutes')\n",
    "plt.show()"
   ]
  },
  {
   "cell_type": "markdown",
   "metadata": {},
   "source": [
    "由此可知，该线性回归模型为：$Minutes = 4.162 + 15.509 * Units$"
   ]
  },
  {
   "cell_type": "markdown",
   "metadata": {},
   "source": [
    "**Q2:**  \n",
    "检验假设：$H_0: \\beta_1=0$ vs $H_1: \\beta_1 \\neq 0$"
   ]
  },
  {
   "cell_type": "code",
   "execution_count": 4,
   "metadata": {},
   "outputs": [
    {
     "name": "stdout",
     "output_type": "stream",
     "text": [
      "[ 1 23]\n"
     ]
    }
   ],
   "source": [
    "# 求解相关项\n",
    "print(data[0])\n",
    "x_mean = np.mean(data[0])  # 自变量 x 的均值\n",
    "y_mean = np.mean(data[1])  # 因变量 y 的均值\n",
    "sigma2 = sum((y - beta[0] - beta[1] * x) ** 2) / (n - 2)  # 方差\n",
    "sigma = np.sqrt(sigma2)  # 标准差\n",
    "lxx = sum((x - np.mean(x)) ** 2)  # 求l_xx\n",
    "lyy = sum((y - np.mean(y)) ** 2)  # 求l_yy\n",
    "lxy = sum((x - np.mean(x)) * (y - np.mean(y)))  # 求l_xy"
   ]
  },
  {
   "cell_type": "markdown",
   "metadata": {},
   "source": [
    "**一元线性模型的显著性检验——F 检验:**"
   ]
  },
  {
   "cell_type": "code",
   "execution_count": 5,
   "metadata": {},
   "outputs": [
    {
     "name": "stdout",
     "output_type": "stream",
     "text": [
      "The ANOVA table: \n",
      "             df    sum_sq   mean_sq      F  PR(>F)\n",
      "Units      1.0  27419.51  27419.51  943.2     0.0\n",
      "Residual  12.0    348.85     29.07    NaN     NaN\n",
      "\n",
      "Since p-value < 0.05, reject H0.\n",
      "Since F0 > F(0.95, 1, 12) =  4.75 , reject H0.\n"
     ]
    }
   ],
   "source": [
    "# F检验\n",
    "anova_results = round(anova_lm(model), 2)\n",
    "print('The ANOVA table: \\n', anova_results)\n",
    "\n",
    "# 法1：\n",
    "pVal1 = anova_results['PR(>F)'][0]\n",
    "if pVal1 < alpha:\n",
    "    print('\\nSince p-value < 0.05, reject H0.')\n",
    "else:\n",
    "    print('\\nAccept H0.') \n",
    "    \n",
    "# 法2：\n",
    "F0 = anova_results['F'][0]\n",
    "F = round(f.ppf(1 - alpha, dfn = 1,dfd = n - 2), 2)\n",
    "if F0 > F:\n",
    "    print('Since F0 > F(0.95, 1, 12) = ', F, ', reject H0.')\n",
    "else:\n",
    "    print('Accept H0.') "
   ]
  },
  {
   "cell_type": "markdown",
   "metadata": {},
   "source": [
    "**一元线性模型的显著性检验——t 检验:**"
   ]
  },
  {
   "cell_type": "code",
   "execution_count": 6,
   "metadata": {},
   "outputs": [
    {
     "name": "stdout",
     "output_type": "stream",
     "text": [
      "t0值为： 30.7116\n",
      "t的临界值为： 2.1788\n",
      "P值为： 0.0\n",
      "\n",
      "Since p-value < 0.05, reject H0.\n",
      "Since t0 > t(0.975,12) =  2.1788 , reject H0.\n"
     ]
    }
   ],
   "source": [
    "# t检验\n",
    "t0 = beta[1] * np.sqrt(lxx) / sigma  # 求t值\n",
    "print('t0值为：', round(t0, 4))\n",
    "tVal = t.ppf(1 - alpha / 2, n - 2)  # 分位点函数（CDF的逆）\n",
    "print('t的临界值为：', round(tVal, 4))\n",
    "pVal2 = t.sf(t0, n - 2)  # 用残存函数（1-CDF）求p值 \n",
    "# pVal2 = 1 - t.cdf(t0, n - 2)\n",
    "print('P值为：', round(pVal2, 4))\n",
    "\n",
    "# 法1：\n",
    "if pVal2 < alpha:\n",
    "    print ('\\nSince p-value < 0.05, reject H0.')\n",
    "else:\n",
    "    print('\\nAccept H0.')\n",
    "    \n",
    "# 法2：\n",
    "if abs(t0) > tVal:\n",
    "    print('Since t0 > t(0.975,12) = ', round(tVal, 4), ', reject H0.')\n",
    "else:\n",
    "    print('Accept H0.') "
   ]
  },
  {
   "cell_type": "markdown",
   "metadata": {},
   "source": [
    "**相关系数的检验:**  \n",
    "检验假设：$H_0: \\rho=0$ vs $H_1: \\rho \\neq 0$"
   ]
  },
  {
   "cell_type": "code",
   "execution_count": 7,
   "metadata": {},
   "outputs": [
    {
     "name": "stdout",
     "output_type": "stream",
     "text": [
      "法 1 求得的相关系数： 0.9937\n",
      "法 2 求得的相关系数：\n",
      "           Units  Minutes\n",
      "Units    1.0000   0.9937\n",
      "Minutes  0.9937   1.0000\n",
      "\n",
      "Since r > r(0.975, 12) =  0.5325 , reject H0.\n"
     ]
    }
   ],
   "source": [
    "# 相关系数检验\n",
    "# 法1：代公式求得\n",
    "r1 = lxy / np.sqrt(lxx * lyy)\n",
    "print('法 1 求得的相关系数：', round(r1, 4))\n",
    "\n",
    "# 法2：用pandas中DataFrame对象corr()方法\n",
    "r2 = df.corr()\n",
    "print('法 2 求得的相关系数：\\n', round(r2, 4))\n",
    "\n",
    "rVal = np.sqrt(F / (F + (n - 2)))\n",
    "if abs(r1) > rVal:\n",
    "    print ('\\nSince r > r(0.975, 12) = ', round(rVal, 4), ', reject H0.')\n",
    "else:\n",
    "    print('\\nAccept H0.')\n"
   ]
  },
  {
   "cell_type": "markdown",
   "metadata": {},
   "source": [
    "由此可知，Q1中所建立的模型是合理的。"
   ]
  },
  {
   "cell_type": "markdown",
   "metadata": {},
   "source": [
    "**残差分析0: 计算维修服务时长的残差**"
   ]
  },
  {
   "cell_type": "code",
   "execution_count": 8,
   "metadata": {},
   "outputs": [
    {
     "name": "stdout",
     "output_type": "stream",
     "text": [
      "   Units  Minutes_res\n",
      "0    1.0     3.329574\n",
      "1    2.0    -6.179198\n",
      "2    3.0    -1.687970\n",
      "3    4.0    -2.196742\n",
      "4    4.0     7.803258\n"
     ]
    }
   ],
   "source": [
    "# 计算维修服务时长的残差\n",
    "data_res = data * 1.0\n",
    "for i in range(n):\n",
    "    data_res[:,1] = y - Y\n",
    "df = pd.DataFrame(data_res, columns = ['Units', 'Minutes_res'])\n",
    "print(df.head())"
   ]
  },
  {
   "cell_type": "markdown",
   "metadata": {},
   "source": [
    "**残差分析1: 残差的正态概率图** "
   ]
  },
  {
   "cell_type": "code",
   "execution_count": 9,
   "metadata": {},
   "outputs": [
    {
     "data": {
      "image/png": "[encoded data removed]",
      "text/plain": [
       "<Figure size 432x288 with 1 Axes>"
      ]
     },
     "metadata": {
      "needs_background": "light"
     },
     "output_type": "display_data"
    }
   ],
   "source": [
    "# 残差的正态概率图\n",
    "res = data_res[:, 1]\n",
    "osm, osr = stats.probplot(res, dist = 'norm', plot = plt)\n",
    "plt.grid()\n",
    "plt.show()"
   ]
  },
  {
   "cell_type": "markdown",
   "metadata": {},
   "source": [
    "**残差分析2: 残差与拟合值的关系图**  "
   ]
  },
  {
   "cell_type": "code",
   "execution_count": 13,
   "metadata": {},
   "outputs": [
    {
     "data": {
      "text/plain": [
       "Text(0, 0.5, 'e_i')"
      ]
     },
     "execution_count": 13,
     "metadata": {},
     "output_type": "execute_result"
    },
    {
     "data": {
      "image/png": "[encoded data removed]",
      "text/plain": [
       "<Figure size 432x288 with 1 Axes>"
      ]
     },
     "metadata": {
      "needs_background": "light"
     },
     "output_type": "display_data"
    }
   ],
   "source": [
    "# 残差与预测值的关系图\n",
    "plt.scatter(Y, res, c = 'red')\n",
    "plt.title('Plot of residuals versus y_i')\n",
    "plt.xlabel('y_i')\n",
    "plt.ylabel('e_i')"
   ]
  },
  {
   "cell_type": "markdown",
   "metadata": {},
   "source": [
    "**Q3:**"
   ]
  },
  {
   "cell_type": "markdown",
   "metadata": {},
   "source": [
    "**关于 $E(y_0)$ 的估计:**"
   ]
  },
  {
   "cell_type": "code",
   "execution_count": 11,
   "metadata": {},
   "outputs": [
    {
     "name": "stdout",
     "output_type": "stream",
     "text": [
      "3\n",
      "给定 x = 3, E(y_0) 的置信区间： [40.2998 61.0761]\n"
     ]
    }
   ],
   "source": [
    "# 给定 x_0，求 E(y_0) 的估计值\n",
    "def confidence_interval(x0):\n",
    "    Y0 = beta[0] + beta[1] * float(x0)\n",
    "    delta0 = tVal * sigma * np.sqrt(1 / n + (float(x0) - x_mean) ** 2 / lxx)\n",
    "    Y0_int = [Y0 - delta0, Y0 + delta0]\n",
    "    return Y0_int\n",
    "\n",
    "x0 = input()\n",
    "print('给定 x = %d, E(y_0) 的置信区间：'%int(x0), np.round(confidence_interval(x0), 4))"
   ]
  },
  {
   "cell_type": "markdown",
   "metadata": {},
   "source": [
    "**关于 $y_0$ 的预测:**"
   ]
  },
  {
   "cell_type": "code",
   "execution_count": 12,
   "metadata": {},
   "outputs": [
    {
     "name": "stdout",
     "output_type": "stream",
     "text": [
      "3\n",
      "给定 x = 3, y_0 的预测区间： [35.0062 66.3698]\n"
     ]
    }
   ],
   "source": [
    "# 给定 x_0，求 y_0 的预测区间\n",
    "def confidence_interval(x0):\n",
    "    Y0 = beta[0] + beta[1] * float(x0)\n",
    "    delta1 = tVal * sigma * np.sqrt(1 + 1 / n + (float(x0) - x_mean) ** 2 / lxx)\n",
    "    Y0_int = [Y0 - delta1, Y0 + delta1]\n",
    "    return Y0_int\n",
    "\n",
    "x00 = input()\n",
    "print('给定 x = %d, y_0 的预测区间：'%int(x00), np.round(confidence_interval(x0), 4))"
   ]
  },
  {
   "cell_type": "markdown",
   "metadata": {},
   "source": [
    "## 第四周练习题\n",
    "数据集：Project4.csv(内附文档)  \n",
    "统计方法：Simple Linear Regression   \n",
    "软件：Jupyter Notebook  \n",
    "作业发到邮箱：51205903029@stu.ecnu.edu.cn  \n",
    "压缩包名字：学号-姓名  \n",
    "Deadline：下周一晚上10：00之前交  \n",
    "注：要有完整的解题过程，不能只有代码"
   ]
  },
  {
   "cell_type": "code",
   "execution_count": null,
   "metadata": {},
   "outputs": [],
   "source": []
  }
 ],
 "metadata": {
  "kernelspec": {
   "display_name": "Python 3",
   "language": "python",
   "name": "python3"
  },
  "language_info": {
   "codemirror_mode": {
    "name": "ipython",
    "version": 3
   },
   "file_extension": ".py",
   "mimetype": "text/x-python",
   "name": "python",
   "nbconvert_exporter": "python",
   "pygments_lexer": "ipython3",
   "version": "3.8.8"
  }
 },
 "nbformat": 4,
 "nbformat_minor": 4
}
