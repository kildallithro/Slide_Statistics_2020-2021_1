{
 "cells": [
  {
   "cell_type": "code",
   "execution_count": 20,
   "metadata": {},
   "outputs": [
    {
     "name": "stdout",
     "output_type": "stream",
     "text": [
      "   Percent_Hardwood  Strength\n",
      "0                10       160\n",
      "1                15       171\n",
      "2                15       175\n",
      "3                20       182\n",
      "4                20       184\n",
      "\n",
      "\n",
      "参数估计值: \n",
      " Intercept           143.8244\n",
      "Percent_Hardwood      1.8786\n",
      "dtype: float64\n"
     ]
    },
    {
     "name": "stderr",
     "output_type": "stream",
     "text": [
      "D:\\Program_Files\\Anaconda3\\lib\\site-packages\\scipy\\stats\\stats.py:1604: UserWarning: kurtosistest only valid for n>=20 ... continuing anyway, n=10\n",
      "  \"anyway, n=%i\" % int(n))\n"
     ]
    },
    {
     "data": {
      "text/html": [
       "<table class=\"simpletable\">\n",
       "<caption>OLS Regression Results</caption>\n",
       "<tr>\n",
       "  <th>Dep. Variable:</th>        <td>Strength</td>     <th>  R-squared:         </th> <td>   0.970</td>\n",
       "</tr>\n",
       "<tr>\n",
       "  <th>Model:</th>                   <td>OLS</td>       <th>  Adj. R-squared:    </th> <td>   0.966</td>\n",
       "</tr>\n",
       "<tr>\n",
       "  <th>Method:</th>             <td>Least Squares</td>  <th>  F-statistic:       </th> <td>   260.0</td>\n",
       "</tr>\n",
       "<tr>\n",
       "  <th>Date:</th>             <td>Sun, 04 Apr 2021</td> <th>  Prob (F-statistic):</th> <td>2.20e-07</td>\n",
       "</tr>\n",
       "<tr>\n",
       "  <th>Time:</th>                 <td>15:21:22</td>     <th>  Log-Likelihood:    </th> <td> -20.973</td>\n",
       "</tr>\n",
       "<tr>\n",
       "  <th>No. Observations:</th>      <td>    10</td>      <th>  AIC:               </th> <td>   45.95</td>\n",
       "</tr>\n",
       "<tr>\n",
       "  <th>Df Residuals:</th>          <td>     8</td>      <th>  BIC:               </th> <td>   46.55</td>\n",
       "</tr>\n",
       "<tr>\n",
       "  <th>Df Model:</th>              <td>     1</td>      <th>                     </th>     <td> </td>   \n",
       "</tr>\n",
       "<tr>\n",
       "  <th>Covariance Type:</th>      <td>nonrobust</td>    <th>                     </th>     <td> </td>   \n",
       "</tr>\n",
       "</table>\n",
       "<table class=\"simpletable\">\n",
       "<tr>\n",
       "          <td></td>            <th>coef</th>     <th>std err</th>      <th>t</th>      <th>P>|t|</th>  <th>[0.025</th>    <th>0.975]</th>  \n",
       "</tr>\n",
       "<tr>\n",
       "  <th>Intercept</th>        <td>  143.8244</td> <td>    2.522</td> <td>   57.039</td> <td> 0.000</td> <td>  138.010</td> <td>  149.639</td>\n",
       "</tr>\n",
       "<tr>\n",
       "  <th>Percent_Hardwood</th> <td>    1.8786</td> <td>    0.117</td> <td>   16.125</td> <td> 0.000</td> <td>    1.610</td> <td>    2.147</td>\n",
       "</tr>\n",
       "</table>\n",
       "<table class=\"simpletable\">\n",
       "<tr>\n",
       "  <th>Omnibus:</th>       <td> 1.211</td> <th>  Durbin-Watson:     </th> <td>   2.132</td>\n",
       "</tr>\n",
       "<tr>\n",
       "  <th>Prob(Omnibus):</th> <td> 0.546</td> <th>  Jarque-Bera (JB):  </th> <td>   0.701</td>\n",
       "</tr>\n",
       "<tr>\n",
       "  <th>Skew:</th>          <td> 0.157</td> <th>  Prob(JB):          </th> <td>   0.704</td>\n",
       "</tr>\n",
       "<tr>\n",
       "  <th>Kurtosis:</th>      <td> 1.742</td> <th>  Cond. No.          </th> <td>    78.5</td>\n",
       "</tr>\n",
       "</table><br/><br/>Notes:<br/>[1] Standard Errors assume that the covariance matrix of the errors is correctly specified."
      ],
      "text/plain": [
       "<class 'statsmodels.iolib.summary.Summary'>\n",
       "\"\"\"\n",
       "                            OLS Regression Results                            \n",
       "==============================================================================\n",
       "Dep. Variable:               Strength   R-squared:                       0.970\n",
       "Model:                            OLS   Adj. R-squared:                  0.966\n",
       "Method:                 Least Squares   F-statistic:                     260.0\n",
       "Date:                Sun, 04 Apr 2021   Prob (F-statistic):           2.20e-07\n",
       "Time:                        15:21:22   Log-Likelihood:                -20.973\n",
       "No. Observations:                  10   AIC:                             45.95\n",
       "Df Residuals:                       8   BIC:                             46.55\n",
       "Df Model:                           1                                         \n",
       "Covariance Type:            nonrobust                                         \n",
       "====================================================================================\n",
       "                       coef    std err          t      P>|t|      [0.025      0.975]\n",
       "------------------------------------------------------------------------------------\n",
       "Intercept          143.8244      2.522     57.039      0.000     138.010     149.639\n",
       "Percent_Hardwood     1.8786      0.117     16.125      0.000       1.610       2.147\n",
       "==============================================================================\n",
       "Omnibus:                        1.211   Durbin-Watson:                   2.132\n",
       "Prob(Omnibus):                  0.546   Jarque-Bera (JB):                0.701\n",
       "Skew:                           0.157   Prob(JB):                        0.704\n",
       "Kurtosis:                       1.742   Cond. No.                         78.5\n",
       "==============================================================================\n",
       "\n",
       "Notes:\n",
       "[1] Standard Errors assume that the covariance matrix of the errors is correctly specified.\n",
       "\"\"\""
      ]
     },
     "execution_count": 20,
     "metadata": {},
     "output_type": "execute_result"
    }
   ],
   "source": [
    "# Import standard packages\n",
    "import numpy as np\n",
    "import pandas as pd\n",
    "import scipy.stats as stats\n",
    "import matplotlib.pyplot as plt\n",
    "import math\n",
    "\n",
    "# Import additional packages\n",
    "from statsmodels.formula.api import ols\n",
    "from statsmodels.stats.anova import anova_lm\n",
    "from scipy.stats import f\n",
    "from scipy.stats import t\n",
    "\n",
    "alpha = 0.05\n",
    "n = 10\n",
    "\n",
    "x = pd.read_csv('Project4.csv')\n",
    "data = x.values[:,1:3]\n",
    "df = pd.DataFrame(data, columns = ['Percent_Hardwood', 'Strength'])\n",
    "print(df.head())\n",
    "print('\\n')\n",
    "\n",
    "# Do the simple linear regression\n",
    "model = ols('Strength ~ Percent_Hardwood', df).fit()\n",
    "beta = model.params\n",
    "print('参数估计值: \\n', round(beta, 4))\n",
    "model.summary()\n",
    "\n",
    "\n"
   ]
  },
  {
   "cell_type": "code",
   "execution_count": 21,
   "metadata": {},
   "outputs": [
    {
     "name": "stdout",
     "output_type": "stream",
     "text": [
      "Percent_Hardwood = 143.8244 + 1.8786 * Strength\n"
     ]
    },
    {
     "data": {
      "image/png": "[encoded data removed]",
      "text/plain": [
       "<Figure size 432x288 with 1 Axes>"
      ]
     },
     "metadata": {
      "needs_background": "light"
     },
     "output_type": "display_data"
    }
   ],
   "source": [
    "# 输出一元线性回归方程\n",
    "print('Percent_Hardwood =', round(beta[0], 4), '+', round(beta[1], 4), '* Strength')\n",
    "\n",
    "# 画图\n",
    "x = data[:, 0]\n",
    "y = data[:, 1]\n",
    "Y = model.fittedvalues   # 预测值\n",
    "plt.scatter(x, y, c = 'blue', label='Percent_Hardwood') # 原始数据\n",
    "plt.plot(x, Y, 'red', label='Fit_percent_hardwoods') # 拟合数据\n",
    "plt.title('Computer Repair data: Scatter plot of Percent_Hardwood versus Strength. ')\n",
    "plt.xlabel('strength')\n",
    "plt.ylabel('percent_hardwoods')\n",
    "plt.show()"
   ]
  },
  {
   "cell_type": "code",
   "execution_count": 28,
   "metadata": {},
   "outputs": [
    {
     "name": "stdout",
     "output_type": "stream",
     "text": [
      "[ 10 160]\n"
     ]
    }
   ],
   "source": [
    "# 求解相关项\n",
    "print(data[0])\n",
    "x_mean = np.mean(data[:, 0])  # 自变量 x 的均值\n",
    "y_mean = np.mean(data[:, 1])  # 因变量 y 的均值\n",
    "sigma2 = sum((y - beta[0] - beta[1] * x) ** 2) / (n - 2)  # 方差\n",
    "sigma = np.sqrt(sigma2)  # 标准差\n",
    "lxx = sum((x - np.mean(x)) ** 2)  # 求l_xx\n",
    "lyy = sum((y - np.mean(y)) ** 2)  # 求l_yy\n",
    "lxy = sum((x - np.mean(x)) * (y - np.mean(y)))  # 求l_xy"
   ]
  },
  {
   "cell_type": "code",
   "execution_count": 29,
   "metadata": {},
   "outputs": [
    {
     "name": "stdout",
     "output_type": "stream",
     "text": [
      "The ANOVA table: \n",
      "                    df   sum_sq  mean_sq      F  PR(>F)\n",
      "Percent_Hardwood  1.0  1262.07  1262.07  260.0     0.0\n",
      "Residual          8.0    38.83     4.85    NaN     NaN\n",
      "\n",
      "Since p-value < 0.05, reject H0.\n",
      "Since F0 > F(0.95, 1, n - 2) =  5.32 , reject H0.\n"
     ]
    }
   ],
   "source": [
    "# F检验\n",
    "anova_results = round(anova_lm(model), 2)\n",
    "print('The ANOVA table: \\n', anova_results)\n",
    "\n",
    "# 法1：\n",
    "pVal1 = anova_results['PR(>F)'][0]\n",
    "if pVal1 < alpha:\n",
    "    print('\\nSince p-value < 0.05, reject H0.')\n",
    "else:\n",
    "    print('\\nAccept H0.') \n",
    "    \n",
    "# 法2：\n",
    "F0 = anova_results['F'][0]\n",
    "F = round(f.ppf(0.95, dfn = 1,dfd = n - 2), 2)\n",
    "if F0 > F:\n",
    "    print('Since F0 > F(0.95, 1, n - 2) = ', F, ', reject H0.')\n",
    "else:\n",
    "    print('Accept H0.') "
   ]
  },
  {
   "cell_type": "code",
   "execution_count": 30,
   "metadata": {},
   "outputs": [
    {
     "name": "stdout",
     "output_type": "stream",
     "text": [
      "t0值为： 16.1245\n",
      "t的临界值为： 2.306\n",
      "P值为： 0.0\n",
      "\n",
      "Since p-value < 0.05, reject H0.\n",
      "Since t0 > t(0.975,12) =  2.306 , reject H0.\n"
     ]
    }
   ],
   "source": [
    "# t检验\n",
    "t0 = beta[1] * np.sqrt(lxx) / sigma  # 求t值\n",
    "print('t0值为：', round(t0, 4))\n",
    "tVal = t.ppf(1 - alpha / 2, n - 2)  # 分位点函数（CDF的逆）\n",
    "print('t的临界值为：', round(tVal, 4))\n",
    "pVal2 = t.sf(t0, n - 2)  # 用残存函数（1-CDF）求p值 \n",
    "# pVal2 = 1 - t.cdf(t0, n - 2)\n",
    "print('P值为：', round(pVal2, 4))\n",
    "\n",
    "# 法1：\n",
    "if pVal2 < alpha:\n",
    "    print ('\\nSince p-value < 0.05, reject H0.')\n",
    "else:\n",
    "    print('\\nAccept H0.')\n",
    "    \n",
    "# 法2：\n",
    "if abs(t0) > tVal:\n",
    "    print('Since t0 > t(0.975,12) = ', round(tVal, 4), ', reject H0.')\n",
    "else:\n",
    "    print('Accept H0.') "
   ]
  },
  {
   "cell_type": "code",
   "execution_count": 31,
   "metadata": {
    "scrolled": true
   },
   "outputs": [
    {
     "name": "stdout",
     "output_type": "stream",
     "text": [
      "法 1 求得的相关系数： 0.985\n",
      "法 2 求得的相关系数：\n",
      "                   Percent_Hardwood  Strength\n",
      "Percent_Hardwood             1.000     0.985\n",
      "Strength                     0.985     1.000\n",
      "\n",
      "Since r > r(0.975, n - 2) =  0.632 , reject H0.\n"
     ]
    }
   ],
   "source": [
    "# 相关系数检验\n",
    "# 法1：代公式求得\n",
    "r1 = lxy / np.sqrt(lxx * lyy)\n",
    "print('法 1 求得的相关系数：', round(r1, 4))\n",
    "\n",
    "# 法2：用pandas中DataFrame对象corr()方法\n",
    "r2 = df.corr()\n",
    "print('法 2 求得的相关系数：\\n', round(r2, 4))\n",
    "\n",
    "rVal = np.sqrt(F / (F + (n - 2)))\n",
    "if abs(r1) > rVal:\n",
    "    print ('\\nSince r > r(0.975, n - 2) = ', round(rVal, 4), ', reject H0.')\n",
    "else:\n",
    "    print('\\nAccept H0.')"
   ]
  },
  {
   "cell_type": "code",
   "execution_count": 35,
   "metadata": {},
   "outputs": [
    {
     "name": "stdout",
     "output_type": "stream",
     "text": [
      "3\n",
      "给定 x = 3, E(y_0) 的置信区间： [144.4153 154.5052]\n"
     ]
    }
   ],
   "source": [
    "# 给定 x_0，求 E(y_0) 的估计值\n",
    "def confidence_interval(x0):\n",
    "    Y0 = beta[0] + beta[1] * float(x0)\n",
    "    delta0 = tVal * sigma * np.sqrt(1 / n + (float(x0) - x_mean) ** 2 / lxx)\n",
    "    Y0_int = [Y0 - delta0, Y0 + delta0]\n",
    "    return Y0_int\n",
    "\n",
    "x0 = input()\n",
    "print('给定 x = %d, E(y_0) 的置信区间：'%int(x0), np.round(confidence_interval(x0), 4))"
   ]
  },
  {
   "cell_type": "code",
   "execution_count": 34,
   "metadata": {},
   "outputs": [
    {
     "name": "stdout",
     "output_type": "stream",
     "text": [
      "18\n",
      "给定 x = 18, y_0 的预测区间： [172.2584 183.0212]\n"
     ]
    }
   ],
   "source": [
    "# 给定 x_0，求 y_0 的预测区间\n",
    "def confidence_interval(x0):\n",
    "    Y0 = beta[0] + beta[1] * float(x0)\n",
    "    delta1 = tVal * sigma * np.sqrt(1 + 1 / n + (float(x0) - x_mean) ** 2 / lxx)\n",
    "    Y0_int = [Y0 - delta1, Y0 + delta1]\n",
    "    return Y0_int\n",
    "\n",
    "x00 = input()\n",
    "print('给定 x = %d, y_0 的预测区间：'%int(x00), np.round(confidence_interval(x0), 4))"
   ]
  },
  {
   "cell_type": "code",
   "execution_count": null,
   "metadata": {},
   "outputs": [],
   "source": []
  }
 ],
 "metadata": {
  "kernelspec": {
   "display_name": "Python 3",
   "language": "python",
   "name": "python3"
  },
  "language_info": {
   "codemirror_mode": {
    "name": "ipython",
    "version": 3
   },
   "file_extension": ".py",
   "mimetype": "text/x-python",
   "name": "python",
   "nbconvert_exporter": "python",
   "pygments_lexer": "ipython3",
   "version": "3.7.10"
  }
 },
 "nbformat": 4,
 "nbformat_minor": 4
}
