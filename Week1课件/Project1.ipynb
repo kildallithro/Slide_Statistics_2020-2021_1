{
 "cells": [
  {
   "cell_type": "markdown",
   "metadata": {},
   "source": [
    "Q1:"
   ]
  },
  {
   "cell_type": "code",
   "execution_count": 3,
   "metadata": {
    "scrolled": false
   },
   "outputs": [
    {
     "name": "stdout",
     "output_type": "stream",
     "text": [
      "The ANOVA table: \n",
      "                 df   sum_sq  mean_sq      F  PR(>F)\n",
      "C(chocolate)   2.0  1952.64   976.32  93.58     0.0\n",
      "Residual      33.0   344.31    10.43    NaN     NaN\n",
      "\n",
      "Since p-value < 0.05, reject H0.\n",
      "Since F0 > F(0.05,2,33) =  3.28 , reject H0.\n"
     ]
    }
   ],
   "source": [
    "# Import standard packages\n",
    "import numpy as np\n",
    "import pandas as pd\n",
    "import scipy.stats as stats\n",
    "import matplotlib.pyplot as plt\n",
    "import math\n",
    "\n",
    "# Import additional packages\n",
    "from statsmodels.formula.api import ols\n",
    "from statsmodels.stats.anova import anova_lm\n",
    "from scipy.stats import f\n",
    "\n",
    "alpha = 0.05\n",
    "a = 3\n",
    "n = 12\n",
    "x = pd.read_csv(\"Project1.csv\")\n",
    "data = x.values[:,1:3]\n",
    "# print(data)\n",
    "\n",
    "# Sort them into groups, according to column 1(\"Power\")\n",
    "group1 = data[data[:,0] == 1,1]\n",
    "group2 = data[data[:,0] == 2,1]\n",
    "group3 = data[data[:,0] == 3,1]\n",
    "\n",
    "# Do the one-way ANOVA\n",
    "df = pd.DataFrame(data, columns = ['chocolate', 'capacity'])   \n",
    "model = ols('capacity ~ C(chocolate)', df).fit()\n",
    "anovaResults = round(anova_lm(model), 2)\n",
    "print('The ANOVA table: \\n', anovaResults)  \n",
    "\n",
    "F0, pVal1 = stats.f_oneway(group1, group2, group3)\n",
    "# 法1：\n",
    "if pVal1 < alpha:\n",
    "    print('\\nSince p-value < 0.05, reject H0.')\n",
    "else:\n",
    "    print('\\nAccept H0.') \n",
    "    \n",
    "# 法2：\n",
    "F = round(f.ppf(0.95,dfn = 2,dfd = 33), 2)\n",
    "if F0 > F:\n",
    "    print('Since F0 > F(0.05,2,33) = ', F, ', reject H0.')\n",
    "else:\n",
    "    print('Accept H0.') "
   ]
  },
  {
   "cell_type": "markdown",
   "metadata": {},
   "source": [
    "Q2:"
   ]
  },
  {
   "cell_type": "code",
   "execution_count": 15,
   "metadata": {},
   "outputs": [
    {
     "data": {
      "text/plain": [
       "Text(0, 0.5, 'Residuals')"
      ]
     },
     "execution_count": 15,
     "metadata": {},
     "output_type": "execute_result"
    },
    {
     "data": {
      "image/png": "[encoded data removed]",
      "text/plain": [
       "<Figure size 432x288 with 1 Axes>"
      ]
     },
     "metadata": {
      "needs_background": "light"
     },
     "output_type": "display_data"
    }
   ],
   "source": [
    "# 计算蚀刻率的残差\n",
    "data_res = data.astype(float)\n",
    "list_power = [1, 2, 3]\n",
    "for k in list_power:\n",
    "    cnt = data_res[data_res[:,0] == k,1]\n",
    "    data_res[data_res[:,0] == k,1] = cnt - np.mean(cnt)\n",
    "# print(data_res)\n",
    "\n",
    "# 画出残差时序图，检测残差之间是否具有独立性\n",
    "order = data_res[:,1]\n",
    "x_order = np.linspace(1,36,36)\n",
    "plt.scatter(x_order, order)\n",
    "plt.title('Plot of residuals versus run order or time')\n",
    "plt.xlabel('Run order or time')\n",
    "plt.ylabel('Residuals')"
   ]
  },
  {
   "cell_type": "code",
   "execution_count": 16,
   "metadata": {},
   "outputs": [
    {
     "name": "stdout",
     "output_type": "stream",
     "text": [
      "Durbin-Watson检验的统计量为： 2.3\n"
     ]
    }
   ],
   "source": [
    "# 用Durbin-Watson检验进行独立性检验\n",
    "def durbin_watson(residuals):\n",
    "    nume = sum(np.diff(residuals.T) ** 2)\n",
    "    deno = sum(residuals ** 2)\n",
    "    return nume / deno\n",
    "res = data_res[:,1]\n",
    "dw = durbin_watson(res)\n",
    "print('Durbin-Watson检验的统计量为：', round(dw,2))"
   ]
  },
  {
   "cell_type": "code",
   "execution_count": 18,
   "metadata": {},
   "outputs": [
    {
     "name": "stdout",
     "output_type": "stream",
     "text": [
      "Bartlett检验的P值为： 0.81\n",
      "Accept H0\n",
      "Bartlett检验统计量： 0.42\n",
      "𝜒_(𝛼,𝑎−1)^2:  5.99\n",
      "Accept H0\n"
     ]
    }
   ],
   "source": [
    "# 用Bartlett检验进行方差齐性检验\n",
    "bart, pVal3 = stats.bartlett(group1, group2, group3)\n",
    "bart_stat = stats.chi2.isf(alpha, a-1)\n",
    "\n",
    "# 法1：\n",
    "print('Bartlett检验的P值为：', round(pVal3, 2))\n",
    "if pVal3 < alpha:\n",
    "    print('Since p-value < 0.05, reject H0.')\n",
    "else:\n",
    "    print('Accept H0')  \n",
    "\n",
    "# 法2：\n",
    "print('Bartlett检验统计量：', round(bart, 2))\n",
    "print('𝜒_(𝛼,𝑎−1)^2: ', round(bart_stat, 2))\n",
    "if bart > bart_stat:\n",
    "    print('Since 𝜒_0^2 > 𝜒_(𝛼,𝑎−1)^2, reject H0.')\n",
    "else:\n",
    "    print('Accept H0')  "
   ]
  },
  {
   "cell_type": "code",
   "execution_count": 21,
   "metadata": {},
   "outputs": [
    {
     "name": "stdout",
     "output_type": "stream",
     "text": [
      "Levene检验的P值为： 0.98\n",
      "Accept H0\n"
     ]
    }
   ],
   "source": [
    "# 用Levene检验进行方差齐性检验\n",
    "lene, pVal4 = stats.levene(group1, group2, group3)\n",
    "print('Levene检验的P值为：', round(pVal4, 2))\n",
    "if pVal4 < alpha:\n",
    "    print('Since p-value < 0.05, reject H0.')\n",
    "else:\n",
    "    print('Accept H0')  \n",
    "   "
   ]
  },
  {
   "cell_type": "code",
   "execution_count": 22,
   "metadata": {},
   "outputs": [
    {
     "data": {
      "image/png": "[encoded data removed]",
      "text/plain": [
       "<Figure size 432x288 with 1 Axes>"
      ]
     },
     "metadata": {
      "needs_background": "light"
     },
     "output_type": "display_data"
    },
    {
     "name": "stdout",
     "output_type": "stream",
     "text": [
      "[-8.15833333 -7.2        -5.48333333 -3.6        -2.45833333 -2.38333333\n",
      " -1.8        -1.58333333 -1.48333333 -1.38333333 -0.95833333 -0.9\n",
      " -0.7        -0.65833333 -0.58333333 -0.48333333 -0.45833333 -0.45833333\n",
      " -0.25833333 -0.15833333  0.2         0.4         0.71666667  0.84166667\n",
      "  1.2         1.9         1.91666667  2.          2.51666667  2.61666667\n",
      "  2.74166667  3.44166667  3.8         4.7         5.61666667  6.54166667]\n"
     ]
    }
   ],
   "source": [
    "# 用qq图进行正态性检验\n",
    "osm, osr = stats.probplot(res, dist = 'norm', plot = plt)\n",
    "x1 = osm[0][0]\n",
    "y1 = osm[1][0]\n",
    "plt.text(x1, y1, '%.2f' % float(y1), ha = 'center', va = 'bottom',fontsize = 9)\n",
    "x2 = osm[0][-1]\n",
    "y2 = osm[1][-1]\n",
    "plt.text(x2, y2, '%.2f' % float(y2), ha = 'center', va = 'bottom',fontsize = 9)\n",
    "plt.grid()\n",
    "plt.show()\n",
    "\n",
    "print(osm[1])"
   ]
  },
  {
   "cell_type": "code",
   "execution_count": 26,
   "metadata": {},
   "outputs": [
    {
     "name": "stdout",
     "output_type": "stream",
     "text": [
      "0.96\n",
      "0.26\n",
      "\n",
      "Accept the null hypothesis.\n"
     ]
    }
   ],
   "source": [
    "# 用Shapiro-Wilk检验进行正态性检验\n",
    "SW, pVal2= stats.shapiro(res)\n",
    "print(round(SW, 2))\n",
    "print(round(pVal2, 2))\n",
    "\n",
    "if pVal2 > alpha:\n",
    "    print('\\nAccept the null hypothesis.')\n",
    "else:\n",
    "    print('\\nSince p-value > 0.05, reject the null null hypothesis') "
   ]
  },
  {
   "cell_type": "code",
   "execution_count": 30,
   "metadata": {},
   "outputs": [
    {
     "name": "stdout",
     "output_type": "stream",
     "text": [
      "Estimate of the population mean：[116.06 100.7  100.18]\n",
      "An estimate of the population variance：10.43\n"
     ]
    }
   ],
   "source": [
    "# Estimation of Parameter(𝜎2 and 𝜇𝑖 )\n",
    "mu_1 = np.mean(group1)\n",
    "mu_2 = np.mean(group2)\n",
    "mu_3 = np.mean(group3)\n",
    "\n",
    "mu = [mu_1, mu_2, mu_3]\n",
    "\n",
    "sse = 0\n",
    "for i in range(a):\n",
    "    se = 0\n",
    "    chocolate_list = data[data[:,0] == i + 1,1]\n",
    "    for j in range(n):\n",
    "        se += (chocolate_list[j] - mu[i]) ** 2\n",
    "    sse += se\n",
    "var = round(sse / (a * (n - 1)),2) \n",
    "print('Estimate of the population mean：{0}'.format(np.round(mu, 2)))\n",
    "print('An estimate of the population variance：{0}'.format(var))\n"
   ]
  },
  {
   "cell_type": "code",
   "execution_count": 28,
   "metadata": {
    "scrolled": true
   },
   "outputs": [
    {
     "name": "stdout",
     "output_type": "stream",
     "text": [
      "The difference between group 1 and group 2 :  15.4\n",
      "The difference between group 1 and group 3 :  15.9\n",
      "The difference between group 2 and group 3 :  0.5\n",
      "Value of LSD:  2.68\n",
      "Reject H0, and there is significant difference in the mean value of any two treatments\n"
     ]
    }
   ],
   "source": [
    "#LSD(least significant difference)最小显著差异\n",
    "def LSD():   \n",
    "    df = a * (n-1)\n",
    "    t_value = stats.t(df).isf(alpha / 2)    \n",
    "    mse = var\n",
    "    lsd = t_value * math.sqrt(2.0 * mse / n)\n",
    "    # print(lsd)\n",
    "    return lsd\n",
    "\n",
    "for i in range(a):\n",
    "    for j in range(i + 1,a):\n",
    "        dist = round(abs(mu[i] - mu[j]), 1)\n",
    "        print('The difference between group', i + 1, 'and group', j + 1, ': ', dist)\n",
    "print('Value of LSD: ', round(LSD(),2))\n",
    "        \n",
    "cmp = 0\n",
    "for s in range(a):\n",
    "    for t in range(i + 1, a):\n",
    "        lsd = LSD()\n",
    "        dist = round(abs(mu[s] - mu[t]), 1)\n",
    "        if(dist < lsd):\n",
    "            print('No difference between group', s + 1, 'and group', t + 1, ': ')\n",
    "            cmp += 1\n",
    "if(cmp == 0):\n",
    "    print('Reject H0, and there is significant difference in the mean value of any two treatments')"
   ]
  },
  {
   "cell_type": "code",
   "execution_count": null,
   "metadata": {},
   "outputs": [],
   "source": []
  }
 ],
 "metadata": {
  "kernelspec": {
   "display_name": "Python 3",
   "language": "python",
   "name": "python3"
  },
  "language_info": {
   "codemirror_mode": {
    "name": "ipython",
    "version": 3
   },
   "file_extension": ".py",
   "mimetype": "text/x-python",
   "name": "python",
   "nbconvert_exporter": "python",
   "pygments_lexer": "ipython3",
   "version": "3.8.5"
  }
 },
 "nbformat": 4,
 "nbformat_minor": 4
}
