{
 "cells": [
  {
   "cell_type": "code",
   "execution_count": 1,
   "metadata": {},
   "outputs": [
    {
     "name": "stdout",
     "output_type": "stream",
     "text": [
      "参数估计值: \n",
      " Intercept   -266.0312\n",
      "X1             0.0107\n",
      "X2             3.1348\n",
      "X3             1.8674\n",
      "dtype: float64\n"
     ]
    },
    {
     "name": "stderr",
     "output_type": "stream",
     "text": [
      "D:\\Program_Files\\Anaconda3\\lib\\site-packages\\scipy\\stats\\stats.py:1604: UserWarning: kurtosistest only valid for n>=20 ... continuing anyway, n=12\n",
      "  \"anyway, n=%i\" % int(n))\n"
     ]
    },
    {
     "data": {
      "text/html": [
       "<table class=\"simpletable\">\n",
       "<caption>OLS Regression Results</caption>\n",
       "<tr>\n",
       "  <th>Dep. Variable:</th>            <td>Y</td>        <th>  R-squared:         </th> <td>   0.807</td>\n",
       "</tr>\n",
       "<tr>\n",
       "  <th>Model:</th>                   <td>OLS</td>       <th>  Adj. R-squared:    </th> <td>   0.734</td>\n",
       "</tr>\n",
       "<tr>\n",
       "  <th>Method:</th>             <td>Least Squares</td>  <th>  F-statistic:       </th> <td>   11.12</td>\n",
       "</tr>\n",
       "<tr>\n",
       "  <th>Date:</th>             <td>Tue, 06 Apr 2021</td> <th>  Prob (F-statistic):</th>  <td>0.00317</td>\n",
       "</tr>\n",
       "<tr>\n",
       "  <th>Time:</th>                 <td>17:57:20</td>     <th>  Log-Likelihood:    </th> <td> -40.708</td>\n",
       "</tr>\n",
       "<tr>\n",
       "  <th>No. Observations:</th>      <td>    12</td>      <th>  AIC:               </th> <td>   89.42</td>\n",
       "</tr>\n",
       "<tr>\n",
       "  <th>Df Residuals:</th>          <td>     8</td>      <th>  BIC:               </th> <td>   91.36</td>\n",
       "</tr>\n",
       "<tr>\n",
       "  <th>Df Model:</th>              <td>     3</td>      <th>                     </th>     <td> </td>   \n",
       "</tr>\n",
       "<tr>\n",
       "  <th>Covariance Type:</th>      <td>nonrobust</td>    <th>                     </th>     <td> </td>   \n",
       "</tr>\n",
       "</table>\n",
       "<table class=\"simpletable\">\n",
       "<tr>\n",
       "      <td></td>         <th>coef</th>     <th>std err</th>      <th>t</th>      <th>P>|t|</th>  <th>[0.025</th>    <th>0.975]</th>  \n",
       "</tr>\n",
       "<tr>\n",
       "  <th>Intercept</th> <td> -266.0312</td> <td>   92.674</td> <td>   -2.871</td> <td> 0.021</td> <td> -479.737</td> <td>  -52.325</td>\n",
       "</tr>\n",
       "<tr>\n",
       "  <th>X1</th>        <td>    0.0107</td> <td>    0.004</td> <td>    2.390</td> <td> 0.044</td> <td>    0.000</td> <td>    0.021</td>\n",
       "</tr>\n",
       "<tr>\n",
       "  <th>X2</th>        <td>    3.1348</td> <td>    0.844</td> <td>    3.712</td> <td> 0.006</td> <td>    1.188</td> <td>    5.082</td>\n",
       "</tr>\n",
       "<tr>\n",
       "  <th>X3</th>        <td>    1.8674</td> <td>    0.535</td> <td>    3.494</td> <td> 0.008</td> <td>    0.635</td> <td>    3.100</td>\n",
       "</tr>\n",
       "</table>\n",
       "<table class=\"simpletable\">\n",
       "<tr>\n",
       "  <th>Omnibus:</th>       <td> 0.392</td> <th>  Durbin-Watson:     </th> <td>   1.043</td>\n",
       "</tr>\n",
       "<tr>\n",
       "  <th>Prob(Omnibus):</th> <td> 0.822</td> <th>  Jarque-Bera (JB):  </th> <td>   0.230</td>\n",
       "</tr>\n",
       "<tr>\n",
       "  <th>Skew:</th>          <td>-0.282</td> <th>  Prob(JB):          </th> <td>   0.891</td>\n",
       "</tr>\n",
       "<tr>\n",
       "  <th>Kurtosis:</th>      <td> 2.625</td> <th>  Cond. No.          </th> <td>9.03e+04</td>\n",
       "</tr>\n",
       "</table><br/><br/>Notes:<br/>[1] Standard Errors assume that the covariance matrix of the errors is correctly specified.<br/>[2] The condition number is large, 9.03e+04. This might indicate that there are<br/>strong multicollinearity or other numerical problems."
      ],
      "text/plain": [
       "<class 'statsmodels.iolib.summary.Summary'>\n",
       "\"\"\"\n",
       "                            OLS Regression Results                            \n",
       "==============================================================================\n",
       "Dep. Variable:                      Y   R-squared:                       0.807\n",
       "Model:                            OLS   Adj. R-squared:                  0.734\n",
       "Method:                 Least Squares   F-statistic:                     11.12\n",
       "Date:                Tue, 06 Apr 2021   Prob (F-statistic):            0.00317\n",
       "Time:                        17:57:20   Log-Likelihood:                -40.708\n",
       "No. Observations:                  12   AIC:                             89.42\n",
       "Df Residuals:                       8   BIC:                             91.36\n",
       "Df Model:                           3                                         \n",
       "Covariance Type:            nonrobust                                         \n",
       "==============================================================================\n",
       "                 coef    std err          t      P>|t|      [0.025      0.975]\n",
       "------------------------------------------------------------------------------\n",
       "Intercept   -266.0312     92.674     -2.871      0.021    -479.737     -52.325\n",
       "X1             0.0107      0.004      2.390      0.044       0.000       0.021\n",
       "X2             3.1348      0.844      3.712      0.006       1.188       5.082\n",
       "X3             1.8674      0.535      3.494      0.008       0.635       3.100\n",
       "==============================================================================\n",
       "Omnibus:                        0.392   Durbin-Watson:                   1.043\n",
       "Prob(Omnibus):                  0.822   Jarque-Bera (JB):                0.230\n",
       "Skew:                          -0.282   Prob(JB):                        0.891\n",
       "Kurtosis:                       2.625   Cond. No.                     9.03e+04\n",
       "==============================================================================\n",
       "\n",
       "Notes:\n",
       "[1] Standard Errors assume that the covariance matrix of the errors is correctly specified.\n",
       "[2] The condition number is large, 9.03e+04. This might indicate that there are\n",
       "strong multicollinearity or other numerical problems.\n",
       "\"\"\""
      ]
     },
     "execution_count": 1,
     "metadata": {},
     "output_type": "execute_result"
    }
   ],
   "source": [
    "# Import standard packages\n",
    "import numpy as np\n",
    "import pandas as pd\n",
    "import scipy.stats as stats\n",
    "import matplotlib.pyplot as plt\n",
    "import math\n",
    "\n",
    "# Import additional packages\n",
    "from statsmodels.formula.api import ols\n",
    "from statsmodels.stats.anova import anova_lm\n",
    "from scipy.stats import f\n",
    "from scipy.stats import t\n",
    "\n",
    "alpha = 0.05\n",
    "p = 3\n",
    "n = 12\n",
    "\n",
    "x = pd.read_csv('Project5.csv')\n",
    "x.insert(0, 'intercept', np.ones(len(x)))\n",
    "data = x.values * 1.0\n",
    "df = pd.DataFrame(data, columns = ['intercept', 'X1', 'X2', 'X3', 'Y'])\n",
    "\n",
    "# Do the simple linear regression\n",
    "model = ols('Y ~ X1 + X2 + X3', df).fit()\n",
    "beta = model.params\n",
    "print('参数估计值: \\n', round(beta, 4))\n",
    "X = data[:,0:p+1]\n",
    "Y = data[:,-1]\n",
    "Y_hat = model.fittedvalues \n",
    "model.summary()\n",
    "\n"
   ]
  },
  {
   "cell_type": "code",
   "execution_count": 2,
   "metadata": {},
   "outputs": [
    {
     "name": "stdout",
     "output_type": "stream",
     "text": [
      "Y_hat = -266.0312 + 0.0107 * X1 + 3.1348 * X2 + 1.8674 * X3\n"
     ]
    }
   ],
   "source": [
    "# 输出一元线性回归方程\n",
    "print('Y_hat =', round(beta[0], 4), '+', round(beta[1], 4), '* X1 +', round(beta[2], 4), '* X2 +', round(beta[3], 4), '* X3')\n"
   ]
  },
  {
   "cell_type": "code",
   "execution_count": 4,
   "metadata": {},
   "outputs": [
    {
     "name": "stdout",
     "output_type": "stream",
     "text": [
      "参数估计值: \n",
      " Intercept   -0.0000\n",
      "P1_cent      0.0107\n",
      "P2_cent      3.1348\n",
      "P3_cent      1.8674\n",
      "dtype: float64\n"
     ]
    },
    {
     "name": "stderr",
     "output_type": "stream",
     "text": [
      "D:\\Program_Files\\Anaconda3\\lib\\site-packages\\scipy\\stats\\stats.py:1604: UserWarning: kurtosistest only valid for n>=20 ... continuing anyway, n=12\n",
      "  \"anyway, n=%i\" % int(n))\n"
     ]
    },
    {
     "data": {
      "text/html": [
       "<table class=\"simpletable\">\n",
       "<caption>OLS Regression Results</caption>\n",
       "<tr>\n",
       "  <th>Dep. Variable:</th>         <td>F_cent</td>      <th>  R-squared:         </th> <td>   0.807</td>\n",
       "</tr>\n",
       "<tr>\n",
       "  <th>Model:</th>                   <td>OLS</td>       <th>  Adj. R-squared:    </th> <td>   0.734</td>\n",
       "</tr>\n",
       "<tr>\n",
       "  <th>Method:</th>             <td>Least Squares</td>  <th>  F-statistic:       </th> <td>   11.12</td>\n",
       "</tr>\n",
       "<tr>\n",
       "  <th>Date:</th>             <td>Tue, 06 Apr 2021</td> <th>  Prob (F-statistic):</th>  <td>0.00317</td>\n",
       "</tr>\n",
       "<tr>\n",
       "  <th>Time:</th>                 <td>17:57:45</td>     <th>  Log-Likelihood:    </th> <td> -40.708</td>\n",
       "</tr>\n",
       "<tr>\n",
       "  <th>No. Observations:</th>      <td>    12</td>      <th>  AIC:               </th> <td>   89.42</td>\n",
       "</tr>\n",
       "<tr>\n",
       "  <th>Df Residuals:</th>          <td>     8</td>      <th>  BIC:               </th> <td>   91.36</td>\n",
       "</tr>\n",
       "<tr>\n",
       "  <th>Df Model:</th>              <td>     3</td>      <th>                     </th>     <td> </td>   \n",
       "</tr>\n",
       "<tr>\n",
       "  <th>Covariance Type:</th>      <td>nonrobust</td>    <th>                     </th>     <td> </td>   \n",
       "</tr>\n",
       "</table>\n",
       "<table class=\"simpletable\">\n",
       "<tr>\n",
       "      <td></td>         <th>coef</th>     <th>std err</th>      <th>t</th>      <th>P>|t|</th>  <th>[0.025</th>    <th>0.975]</th>  \n",
       "</tr>\n",
       "<tr>\n",
       "  <th>Intercept</th> <td>-2.776e-16</td> <td>    2.544</td> <td>-1.09e-16</td> <td> 1.000</td> <td>   -5.866</td> <td>    5.866</td>\n",
       "</tr>\n",
       "<tr>\n",
       "  <th>P1_cent</th>   <td>    0.0107</td> <td>    0.004</td> <td>    2.390</td> <td> 0.044</td> <td>    0.000</td> <td>    0.021</td>\n",
       "</tr>\n",
       "<tr>\n",
       "  <th>P2_cent</th>   <td>    3.1348</td> <td>    0.844</td> <td>    3.712</td> <td> 0.006</td> <td>    1.188</td> <td>    5.082</td>\n",
       "</tr>\n",
       "<tr>\n",
       "  <th>P3_cent</th>   <td>    1.8674</td> <td>    0.535</td> <td>    3.494</td> <td> 0.008</td> <td>    0.635</td> <td>    3.100</td>\n",
       "</tr>\n",
       "</table>\n",
       "<table class=\"simpletable\">\n",
       "<tr>\n",
       "  <th>Omnibus:</th>       <td> 0.392</td> <th>  Durbin-Watson:     </th> <td>   1.043</td>\n",
       "</tr>\n",
       "<tr>\n",
       "  <th>Prob(Omnibus):</th> <td> 0.822</td> <th>  Jarque-Bera (JB):  </th> <td>   0.230</td>\n",
       "</tr>\n",
       "<tr>\n",
       "  <th>Skew:</th>          <td>-0.282</td> <th>  Prob(JB):          </th> <td>   0.891</td>\n",
       "</tr>\n",
       "<tr>\n",
       "  <th>Kurtosis:</th>      <td> 2.625</td> <th>  Cond. No.          </th> <td>    574.</td>\n",
       "</tr>\n",
       "</table><br/><br/>Notes:<br/>[1] Standard Errors assume that the covariance matrix of the errors is correctly specified."
      ],
      "text/plain": [
       "<class 'statsmodels.iolib.summary.Summary'>\n",
       "\"\"\"\n",
       "                            OLS Regression Results                            \n",
       "==============================================================================\n",
       "Dep. Variable:                 F_cent   R-squared:                       0.807\n",
       "Model:                            OLS   Adj. R-squared:                  0.734\n",
       "Method:                 Least Squares   F-statistic:                     11.12\n",
       "Date:                Tue, 06 Apr 2021   Prob (F-statistic):            0.00317\n",
       "Time:                        17:57:45   Log-Likelihood:                -40.708\n",
       "No. Observations:                  12   AIC:                             89.42\n",
       "Df Residuals:                       8   BIC:                             91.36\n",
       "Df Model:                           3                                         \n",
       "Covariance Type:            nonrobust                                         \n",
       "==============================================================================\n",
       "                 coef    std err          t      P>|t|      [0.025      0.975]\n",
       "------------------------------------------------------------------------------\n",
       "Intercept  -2.776e-16      2.544  -1.09e-16      1.000      -5.866       5.866\n",
       "P1_cent        0.0107      0.004      2.390      0.044       0.000       0.021\n",
       "P2_cent        3.1348      0.844      3.712      0.006       1.188       5.082\n",
       "P3_cent        1.8674      0.535      3.494      0.008       0.635       3.100\n",
       "==============================================================================\n",
       "Omnibus:                        0.392   Durbin-Watson:                   1.043\n",
       "Prob(Omnibus):                  0.822   Jarque-Bera (JB):                0.230\n",
       "Skew:                          -0.282   Prob(JB):                        0.891\n",
       "Kurtosis:                       2.625   Cond. No.                         574.\n",
       "==============================================================================\n",
       "\n",
       "Notes:\n",
       "[1] Standard Errors assume that the covariance matrix of the errors is correctly specified.\n",
       "\"\"\""
      ]
     },
     "execution_count": 4,
     "metadata": {},
     "output_type": "execute_result"
    }
   ],
   "source": [
    "# 求均值\n",
    "X_mean = []\n",
    "for k in range(p + 1):\n",
    "    X_mean.append(np.mean(data[:, k]))  # 自变量 x 的均值\n",
    "Y_mean = np.mean(data[:, -1])  # 因变量 y 的均值\n",
    "\n",
    "# 数据中心化\n",
    "X_cent = X * 1.0\n",
    "X_cent[:,1:4] = X[:,1:4] - X_mean[1:4]\n",
    "Y_cent = Y - Y_mean\n",
    "\n",
    "# Do the simple linear regression\n",
    "df = pd.DataFrame(X_cent, columns = ['intercept', 'P1_cent', 'P2_cent', 'P3_cent'])\n",
    "df['F_cent'] = Y_cent\n",
    "model_cent = ols('F_cent ~ P1_cent + P2_cent + P3_cent', df).fit()\n",
    "beta_cent = model_cent.params\n",
    "print('参数估计值: \\n', round(beta_cent, 4))\n",
    "Y_hat_cent = model_cent.fittedvalues\n",
    "model_cent.summary()"
   ]
  },
  {
   "cell_type": "code",
   "execution_count": 5,
   "metadata": {},
   "outputs": [
    {
     "name": "stdout",
     "output_type": "stream",
     "text": [
      "Y_hat_cent = -0.0 + ( 0.0107 * X1_cent) + ( 3.1348 * X2_cent) + ( 1.8674 * X3)\n"
     ]
    }
   ],
   "source": [
    "# 输出一元线性回归方程\n",
    "print('Y_hat_cent =', round(beta_cent[0], 4), '+ (', round(beta_cent[1], 4), '* X1_cent) + (', round(beta_cent[2], 4), '* X2_cent) + (', round(beta[3], 4), '* X3)')\n"
   ]
  },
  {
   "cell_type": "code",
   "execution_count": 10,
   "metadata": {},
   "outputs": [],
   "source": [
    "# 求解相关项\n",
    "SSE = sum((Y - Y_hat) ** 2)\n",
    "SST = sum((Y - Y_mean) ** 2)\n",
    "SSR = sum((Y_hat - Y_mean) ** 2)\n",
    "\n",
    "sigma2 = SSE / (n - p - 1)  # 方差\n",
    "sigma = np.sqrt(sigma2)  # 标准差\n",
    "\n",
    "c = np.dot(X.T, X)\n",
    "C = np.linalg.inv(c)  # 求逆\n",
    "# print(C)"
   ]
  },
  {
   "cell_type": "code",
   "execution_count": 7,
   "metadata": {},
   "outputs": [
    {
     "name": "stdout",
     "output_type": "stream",
     "text": [
      "F0:  11.12\n",
      "pVal1:  0.0\n",
      "\n",
      "Since p-value < 0.05, reject H0.\n",
      "Since F0 > F(0.95, 2, 19) =  4.07 , reject H0.\n"
     ]
    }
   ],
   "source": [
    "# 计算F0\n",
    "F0 = (SSR / p) / (SSE / (n - p - 1))\n",
    "# F0 = model.fvalue\n",
    "print('F0: ', round(F0, 2))\n",
    "F = round(f.ppf(0.95, dfn = p,dfd = n - p - 1), 2)\n",
    "\n",
    "# 法1：\n",
    "pVal1 = f.sf(F0, p, n - p - 1)\n",
    "# pVal1 = model.f_pvalue\n",
    "print('pVal1: ', round(pVal1, 2))\n",
    "if pVal1 < alpha:\n",
    "    print('\\nSince p-value < 0.05, reject H0.')\n",
    "else:\n",
    "    print('\\nAccept H0.') \n",
    "\n",
    "# 法2：\n",
    "if F0 > F:\n",
    "    print('Since F0 > F(0.95, 2, 19) = ', F, ', reject H0.')\n",
    "else:\n",
    "    print('Accept H0.') "
   ]
  },
  {
   "cell_type": "code",
   "execution_count": 8,
   "metadata": {},
   "outputs": [
    {
     "name": "stdout",
     "output_type": "stream",
     "text": [
      "t0值为： [-2.8706  2.3896  3.7123  3.4936]\n",
      "t的临界值为： 2.306\n",
      "P值为： [0.0104 0.0219 0.003  0.0041]\n",
      "\n",
      "\n",
      "Since p1-value < 0.05, reject H01 .\n",
      "Since p2-value < 0.05, reject H02 .\n",
      "Since p3-value < 0.05, reject H03 .\n",
      "\n",
      "\n",
      "Since t01 > t(0.975, 19) =  2.306 , reject H01 .\n",
      "Since t02 > t(0.975, 19) =  2.306 , reject H02 .\n",
      "Since t03 > t(0.975, 19) =  2.306 , reject H03 .\n"
     ]
    }
   ],
   "source": [
    "# t检验\n",
    "t0 = []\n",
    "for i in range(p + 1):   \n",
    "    t0.append(beta[i] / (np.sqrt(C[i][i] * sigma2)))  # 求t值\n",
    "# t0 = model.tvalues\n",
    "print('t0值为：', np.round(t0, 4))\n",
    "tVal = t.ppf(1 - alpha / 2, n - p - 1)\n",
    "print('t的临界值为：', np.round(tVal, 4))\n",
    "pVal2 = []\n",
    "for i in range(p + 1):\n",
    "    P = t.sf(abs(t0[i]), n - p - 1)\n",
    "    pVal2.append(P)  # 已知临界值求p值\n",
    "print('P值为：', np.round(pVal2, 4))\n",
    "\n",
    "print('\\n')\n",
    "# 法1：\n",
    "for i in range(p):\n",
    "    if pVal2[i + 1] < alpha:\n",
    "        print ('Since p%d-value < 0.05, reject H0%d'%(i + 1, i + 1), '.')\n",
    "    else:\n",
    "        print('Accept H0%d'%(i + 1), '.')\n",
    "print('\\n')   \n",
    "\n",
    "# 法2：\n",
    "for i in range(p):\n",
    "    if abs(t0[i + 1]) > tVal:\n",
    "        print('Since t0%d > t(0.975, 19) = '%(i + 1), round(tVal, 4), ', reject H0%d'%(i + 1), '.')\n",
    "    else:\n",
    "        print('Accept H0%d'%(i + 1), '.') "
   ]
  },
  {
   "cell_type": "code",
   "execution_count": 11,
   "metadata": {},
   "outputs": [
    {
     "name": "stdout",
     "output_type": "stream",
     "text": [
      "0.8065\n"
     ]
    }
   ],
   "source": [
    "R2 = SSR / SST\n",
    "print(round(R2, 4))"
   ]
  },
  {
   "cell_type": "code",
   "execution_count": 72,
   "metadata": {},
   "outputs": [
    {
     "name": "stdout",
     "output_type": "stream",
     "text": [
      "   intercept      P1    P2     P3      F_res\n",
      "0        1.0  2000.0  90.0  100.0   0.731289\n",
      "1        1.0  1800.0  94.0   95.0 -13.328247\n",
      "2        1.0  2400.0  88.0  110.0 -11.958476\n",
      "3        1.0  1900.0  91.0   96.0   3.137442\n",
      "4        1.0  1600.0  86.0  100.0  11.555798\n"
     ]
    }
   ],
   "source": [
    "# 计算期末成绩的残差\n",
    "data_res = data * 1.0  # 乘1.0 不然会损失精度\n",
    "for i in range(n):\n",
    "    data_res[:, p + 1] = Y - Y_hat\n",
    "df = pd.DataFrame(data_res, columns = ['intercept', 'P1', 'P2', 'P3', 'F_res'])\n",
    "print(df.head())"
   ]
  },
  {
   "cell_type": "code",
   "execution_count": 79,
   "metadata": {},
   "outputs": [
    {
     "data": {
      "image/png": "[encoded data removed]",
      "text/plain": [
       "<Figure size 432x288 with 1 Axes>"
      ]
     },
     "metadata": {
      "needs_background": "light"
     },
     "output_type": "display_data"
    }
   ],
   "source": [
    "# 残差的正态概率图\n",
    "res = data_res[:, p + 1]\n",
    "osm, osr = stats.probplot(res, dist = 'norm', plot = plt)\n",
    "x = osm[0][1]\n",
    "y = osm[1][1]\n",
    "plt.text(x, y, '%.2f' % float(y), ha='center', va= 'bottom', fontsize=9)\n",
    "plt.grid()\n",
    "plt.show()"
   ]
  },
  {
   "cell_type": "code",
   "execution_count": 80,
   "metadata": {},
   "outputs": [
    {
     "name": "stdout",
     "output_type": "stream",
     "text": [
      "残差 -11.96 不是异常值.\n"
     ]
    }
   ],
   "source": [
    "# 异常值检验\n",
    "MSE = SSE / (n - p - 1)\n",
    "d = np.abs(y) / np.sqrt(MSE)\n",
    "if d < 3:\n",
    "    print('残差', round(y, 2), '不是异常值.')\n",
    "else:\n",
    "    print('残差', round(y, 2), '是异常值')"
   ]
  },
  {
   "cell_type": "code",
   "execution_count": 75,
   "metadata": {},
   "outputs": [
    {
     "data": {
      "text/plain": [
       "Text(0, 0.5, 'e_i')"
      ]
     },
     "execution_count": 75,
     "metadata": {},
     "output_type": "execute_result"
    },
    {
     "data": {
      "image/png": "[encoded data removed]",
      "text/plain": [
       "<Figure size 432x288 with 1 Axes>"
      ]
     },
     "metadata": {
      "needs_background": "light"
     },
     "output_type": "display_data"
    }
   ],
   "source": [
    "# 残差与预测值的关系图\n",
    "plt.scatter(Y_hat, res, c = 'red')\n",
    "plt.title('Plot of residuals versus y_i')\n",
    "plt.xlabel('y_i')\n",
    "plt.ylabel('e_i')"
   ]
  },
  {
   "cell_type": "code",
   "execution_count": 12,
   "metadata": {},
   "outputs": [
    {
     "name": "stdout",
     "output_type": "stream",
     "text": [
      "3000\n",
      "90\n",
      "100\n",
      "给定 x =  [1, 3000, 90, 100] , E(y_0) 的置信区间： [226.2457 243.7181]\n"
     ]
    }
   ],
   "source": [
    "# 给定 x_0，求 E(y_0) 的估计值\n",
    "def confidence_interval(x0):\n",
    "    x0 = np.array(x0)\n",
    "    Y0 = np.dot(x0.T, beta)\n",
    "    delta0 = tVal * sigma * np.sqrt(x0.T @ C @ x0)\n",
    "    Y0_int = [Y0 - delta0, Y0 + delta0]\n",
    "    return Y0_int\n",
    "\n",
    "x0 = [1]\n",
    "for i in range(p):\n",
    "    x0.append(int(input()))\n",
    "print('给定 x = ', x0, ', E(y_0) 的置信区间：', np.round(confidence_interval(x0), 4))"
   ]
  },
  {
   "cell_type": "code",
   "execution_count": 14,
   "metadata": {},
   "outputs": [
    {
     "name": "stdout",
     "output_type": "stream",
     "text": [
      "302\n",
      "1504\n",
      "996\n",
      "给定 x =  [1, 302, 1504, 996] , y_0 的预测区间： [3377.4414 9246.3438]\n"
     ]
    }
   ],
   "source": [
    "# 给定 x_0，求 y_0 的预测区间\n",
    "def confidence_interval(x0):\n",
    "    x0 = np.array(x0)\n",
    "    Y0 = np.dot(x0.T, beta)\n",
    "    delta1 = tVal * sigma * np.sqrt(1 + x0.T @ C @ x0)\n",
    "    Y0_int = [Y0 - delta1, Y0 + delta1]\n",
    "    return Y0_int\n",
    "\n",
    "x0_ = [1]\n",
    "for i in range(p):\n",
    "    x0_.append(int(input()))\n",
    "print('给定 x = ', x0_, ', y_0 的预测区间：', np.round(confidence_interval(x0_), 4))"
   ]
  },
  {
   "cell_type": "code",
   "execution_count": null,
   "metadata": {},
   "outputs": [],
   "source": []
  }
 ],
 "metadata": {
  "kernelspec": {
   "display_name": "Python 3",
   "language": "python",
   "name": "python3"
  },
  "language_info": {
   "codemirror_mode": {
    "name": "ipython",
    "version": 3
   },
   "file_extension": ".py",
   "mimetype": "text/x-python",
   "name": "python",
   "nbconvert_exporter": "python",
   "pygments_lexer": "ipython3",
   "version": "3.7.10"
  }
 },
 "nbformat": 4,
 "nbformat_minor": 4
}
