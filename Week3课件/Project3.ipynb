{
 "cells": [
  {
   "cell_type": "code",
   "execution_count": 2,
   "metadata": {},
   "outputs": [
    {
     "name": "stdout",
     "output_type": "stream",
     "text": [
      "   Pressure  Temperature  Yield\n",
      "0         1          100    580\n",
      "1         1          100    568\n",
      "2         1          100    570\n",
      "3         2          100    550\n",
      "4         2          100    530\n",
      "                              df        sum_sq      mean_sq          F  PR(>F)\n",
      "C(Pressure)                  2.0  1.508645e+05   75432.2593   206.3706     0.0\n",
      "C(Temperature)               2.0  1.970335e+06  985167.2593  2695.2595     0.0\n",
      "C(Pressure):C(Temperature)   4.0  2.905517e+05   72637.9259   198.7257     0.0\n",
      "Residual                    18.0  6.579333e+03     365.5185        NaN     NaN 4\n",
      "\n",
      "For material, p-value: 0.000000 < 0.05, reject H01.\n",
      "\n",
      "For temperature, p-value: 0.000000 < 0.05, reject H02.\n",
      "\n",
      "For material:temp, p-value: 0.000000 < 0.05, reject H03.\n"
     ]
    }
   ],
   "source": [
    "# Import standard packages\n",
    "import numpy as np\n",
    "import pandas as pd\n",
    "import scipy.stats as stats\n",
    "import matplotlib.pyplot as plt\n",
    "import math\n",
    "\n",
    "# Import additional packages\n",
    "from statsmodels.formula.api import ols\n",
    "from statsmodels.stats.anova import anova_lm\n",
    "from statsmodels.stats.multicomp import (pairwise_tukeyhsd, MultiComparison)\n",
    "\n",
    "alpha = 0.05\n",
    "a = 3\n",
    "b = 3\n",
    "n = 3\n",
    "\n",
    "x = pd.read_csv('Project3.csv')\n",
    "data = x.values\n",
    "df = pd.DataFrame(data, columns = ['Pressure','Temperature','Yield'])\n",
    "print(df.head())\n",
    "\n",
    "# Do the two-way ANOVA\n",
    "model = ols('Yield~ C(Pressure) + C(Temperature) + C(Pressure):C(Temperature)',df).fit()\n",
    "anova_results = round(anova_lm(model), 4)\n",
    "print(anova_results, 4)\n",
    "\n",
    "if anova_results['PR(>F)'][0] < 0.05:\n",
    "    print('\\nFor material, p-value: %f < 0.05, reject H01.'% anova_results['PR(>F)'][0])\n",
    "else:\n",
    "    print('\\nFor material, accept H01.')\n",
    "\n",
    "if anova_results['PR(>F)'][1] < 0.05:\n",
    "    print('\\nFor temperature, p-value: %f < 0.05, reject H02.'% anova_results['PR(>F)'][1])\n",
    "else:\n",
    "    print('\\nFor temperature, accept H02.')\n",
    "    \n",
    "if anova_results['PR(>F)'][2] < 0.05:\n",
    "    print('\\nFor material:temp, p-value: %f < 0.05, reject H03.'% anova_results['PR(>F)'][2])\n",
    "else:\n",
    "    print('\\nFor material:temp, accept H03.')"
   ]
  },
  {
   "cell_type": "code",
   "execution_count": 3,
   "metadata": {},
   "outputs": [
    {
     "name": "stdout",
     "output_type": "stream",
     "text": [
      "固定温度水平为 160°C: 三种材料之间的多重比较: \n",
      "    Multiple Comparison of Means - Tukey HSD, FWER=0.05   \n",
      "=========================================================\n",
      "group1 group2  meandiff p-adj    lower     upper   reject\n",
      "---------------------------------------------------------\n",
      "     1      2     -73.0 0.0017 -108.1909  -37.8091   True\n",
      "     1      3 -499.3333  0.001 -534.5242 -464.1424   True\n",
      "     2      3 -426.3333  0.001 -461.5242 -391.1424   True\n",
      "---------------------------------------------------------\n",
      "\n",
      "\n"
     ]
    },
    {
     "name": "stderr",
     "output_type": "stream",
     "text": [
      "D:\\Program_Files\\Anaconda3\\lib\\site-packages\\statsmodels\\sandbox\\stats\\multicomp.py:775: UserWarning: FixedFormatter should only be used together with FixedLocator\n",
      "  ax1.set_yticklabels(np.insert(self.groupsunique.astype(str), 0, ''))\n"
     ]
    },
    {
     "data": {
      "image/png": "[encoded data removed]",
      "text/plain": [
       "<Figure size 720x432 with 1 Axes>"
      ]
     },
     "metadata": {
      "needs_background": "light"
     },
     "output_type": "display_data"
    }
   ],
   "source": [
    "# 使用Tukey HSD 检验法进行多重比较\n",
    "multiComp = MultiComparison(df.loc[df['Temperature'] == 150, 'Yield'], df.loc[df['Temperature'] == 150, 'Pressure'])\n",
    "# multiComp = MultiComparison(df['Yield'], df['Pressure'])\n",
    "\n",
    "tukey = multiComp.tukeyhsd()\n",
    "print('固定温度水平为 160°C: 三种材料之间的多重比较: \\n', tukey)\n",
    "\n",
    "tukey.plot_simultaneous(ylabel= \"Pressure\", xlabel= \"Score Difference\")\n",
    "print('\\n')"
   ]
  },
  {
   "cell_type": "code",
   "execution_count": 4,
   "metadata": {},
   "outputs": [
    {
     "name": "stdout",
     "output_type": "stream",
     "text": [
      "   Pressure  Temperature  Yield_res\n",
      "0       1.0        100.0   7.333333\n",
      "1       1.0        100.0  -4.666667\n",
      "2       1.0        100.0  -2.666667\n",
      "3       2.0        100.0  -3.000000\n",
      "4       2.0        100.0 -23.000000\n"
     ]
    }
   ],
   "source": [
    "# 计算收率数据的残差\n",
    "list_temp = [100, 125, 150]\n",
    "data_res = data.astype(float)\n",
    "for i in range(a):\n",
    "    for j in list_temp:\n",
    "        cnt = data[(data[:,0] == i + 1) & (data[:,1] == j),2]\n",
    "        data_res[(data_res[:,0] == i + 1) & (data_res[:,1] == j),2] = cnt-np.mean(cnt)\n",
    "df = pd.DataFrame(data_res, columns = ['Pressure', 'Temperature', 'Yield_res'])\n",
    "print(df.head())"
   ]
  },
  {
   "cell_type": "code",
   "execution_count": 5,
   "metadata": {},
   "outputs": [
    {
     "data": {
      "image/png": "[encoded data removed]",
      "text/plain": [
       "<Figure size 432x288 with 1 Axes>"
      ]
     },
     "metadata": {
      "needs_background": "light"
     },
     "output_type": "display_data"
    }
   ],
   "source": [
    "# 残差的正态概率图\n",
    "res = data_res[:, 2]\n",
    "osm, osr = stats.probplot(res, dist = 'norm', plot = plt)\n",
    "x = osm[0][0]\n",
    "y = osm[1][0]\n",
    "plt.text(x, y, '%.2f' % float(y), ha='center', va= 'bottom', fontsize=9)\n",
    "plt.grid()\n",
    "plt.show()"
   ]
  },
  {
   "cell_type": "code",
   "execution_count": 6,
   "metadata": {},
   "outputs": [
    {
     "name": "stdout",
     "output_type": "stream",
     "text": [
      "0.97\n",
      "0.52\n",
      "\n",
      "Accept the null hypothesis.\n"
     ]
    }
   ],
   "source": [
    "# 用Shapiro-Wilk检验进行正态性检验\n",
    "SW, pVal = stats.shapiro(res)\n",
    "print(round(SW, 2))\n",
    "print(round(pVal, 2))\n",
    "\n",
    "if pVal > alpha:\n",
    "    print('\\nAccept the null hypothesis.')\n",
    "else:\n",
    "    print('\\nSince p-value > 0.05, reject the null hypothesis') "
   ]
  },
  {
   "cell_type": "code",
   "execution_count": 7,
   "metadata": {},
   "outputs": [
    {
     "name": "stdout",
     "output_type": "stream",
     "text": [
      "Durbin-Watson检验的统计量为： 2.27\n"
     ]
    }
   ],
   "source": [
    "# 用Durbin-Watson检验进行独立性检验\n",
    "def durbin_watson(residuals):\n",
    "    nume = sum(np.diff(residuals.T) ** 2)\n",
    "    deno = sum(residuals ** 2)\n",
    "    return nume / deno\n",
    "dw = durbin_watson(res)\n",
    "print('Durbin-Watson检验的统计量为：', round(dw,2))"
   ]
  },
  {
   "cell_type": "code",
   "execution_count": 24,
   "metadata": {},
   "outputs": [
    {
     "name": "stdout",
     "output_type": "stream",
     "text": [
      "[572.6666666666666, 572.6666666666666, 572.6666666666666, 553.0, 553.0, 553.0, 573.3333333333334, 573.3333333333334, 573.3333333333334, 1087.3333333333333, 1087.3333333333333, 1087.3333333333333, 1035.0, 1035.0, 1035.0, 1054.6666666666667, 1054.6666666666667, 1054.6666666666667, 1386.0, 1386.0, 1386.0, 1313.0, 1313.0, 1313.0, 886.6666666666666, 886.6666666666666, 886.6666666666666]\n"
     ]
    },
    {
     "data": {
      "image/png": "[encoded data removed]",
      "text/plain": [
       "<Figure size 432x288 with 1 Axes>"
      ]
     },
     "metadata": {
      "needs_background": "light"
     },
     "output_type": "display_data"
    }
   ],
   "source": [
    "# 残差与预测值的关系图\n",
    "y2 = []\n",
    "for j in list_temp:\n",
    "    for i in range(a):\n",
    "        for k in range(n):\n",
    "            y2.append(np.mean(data[(data[:,0] == i + 1) & (data[:,1] == j), 2]))\n",
    "plt.scatter(y2, res, c = 'red')\n",
    "plt.text(y2[0], res[1], '%.2f' % float(res[1]), ha='center', va= 'bottom', fontsize=9)\n",
    "plt.text(y2[0], res[3], '%.2f' % float(res[3]), ha='center', va= 'bottom', fontsize=9)\n",
    "plt.title('Plot of residuals versus y_ijk')\n",
    "plt.xlabel('y_ijk')\n",
    "plt.ylabel('e_ijk')\n",
    "print(y2)"
   ]
  },
  {
   "cell_type": "code",
   "execution_count": 9,
   "metadata": {},
   "outputs": [
    {
     "data": {
      "text/plain": [
       "Text(0, 0.5, 'e_ijk')"
      ]
     },
     "execution_count": 9,
     "metadata": {},
     "output_type": "execute_result"
    },
    {
     "data": {
      "image/png": "[encoded data removed]",
      "text/plain": [
       "<Figure size 432x288 with 1 Axes>"
      ]
     },
     "metadata": {
      "needs_background": "light"
     },
     "output_type": "display_data"
    }
   ],
   "source": [
    "# 残差对材料种类的关系图\n",
    "y3 = data_res[:,0]\n",
    "plt.scatter(y3, res, c = 'red')\n",
    "plt.title('Plot of residuals versus material type')\n",
    "plt.xlabel('Material type')\n",
    "plt.ylabel('e_ijk')"
   ]
  },
  {
   "cell_type": "code",
   "execution_count": 10,
   "metadata": {},
   "outputs": [
    {
     "data": {
      "text/plain": [
       "Text(0, 0.5, 'e_ijk')"
      ]
     },
     "execution_count": 10,
     "metadata": {},
     "output_type": "execute_result"
    },
    {
     "data": {
      "image/png": "[encoded data removed]",
      "text/plain": [
       "<Figure size 432x288 with 1 Axes>"
      ]
     },
     "metadata": {
      "needs_background": "light"
     },
     "output_type": "display_data"
    }
   ],
   "source": [
    "# 残差对温度的关系图\n",
    "y4 = data_res[:,1]\n",
    "plt.scatter(y4, res, c = 'red')\n",
    "plt.title('Plot of residuals versus temperature')\n",
    "plt.xlabel('Temperature (°F)')\n",
    "plt.ylabel('e_ijk')"
   ]
  },
  {
   "cell_type": "code",
   "execution_count": 22,
   "metadata": {},
   "outputs": [
    {
     "name": "stdout",
     "output_type": "stream",
     "text": [
      "   Pressure  Temperature    Yield_avg\n",
      "0       1.0        100.0   572.666667\n",
      "1       1.0        100.0   572.666667\n",
      "2       1.0        100.0   572.666667\n",
      "3       2.0        100.0   553.000000\n",
      "4       2.0        100.0   553.000000\n",
      "5       2.0        100.0   553.000000\n",
      "6       3.0        100.0   573.333333\n",
      "7       3.0        100.0   573.333333\n",
      "8       3.0        100.0   573.333333\n",
      "9       1.0        125.0  1087.333333\n"
     ]
    },
    {
     "data": {
      "text/plain": [
       "<matplotlib.legend.Legend at 0x20645502dc8>"
      ]
     },
     "execution_count": 22,
     "metadata": {},
     "output_type": "execute_result"
    },
    {
     "data": {
      "image/png": "[encoded data removed]",
      "text/plain": [
       "<Figure size 432x288 with 1 Axes>"
      ]
     },
     "metadata": {
      "needs_background": "light"
     },
     "output_type": "display_data"
    }
   ],
   "source": [
    "# 固定效应模型分析\n",
    "data_avg = data.astype(float) * 1\n",
    "for i in range(a):\n",
    "    for j in list_temp:\n",
    "        cnt = data[(data[:,0] == i + 1) & (data[:,1] == j),2]\n",
    "        data_avg[(data_avg[:,0] == i + 1) & (data_avg[:,1] == j),2] = np.mean(cnt)\n",
    "df = pd.DataFrame(data_avg, columns = ['Pressure', 'Temperature', 'Yield_avg'])\n",
    "print(df.head(10))\n",
    "\n",
    "type1 = data_avg[[0,9,18], 2]\n",
    "type2 = data_avg[[3,12,21], 2]\n",
    "type3 = data_avg[[6,15,24], 2]\n",
    "c1 = pd.Series(type1, index = list_temp, name = 'type1')\n",
    "c2 = pd.Series(type2, index = list_temp, name = 'type2')\n",
    "c3 = pd.Series(type3, index = list_temp, name = 'type3')\n",
    "df = pd.concat([c1, c2, c3], axis = 1)\n",
    "\n",
    "plt.plot(df.iloc[:,0], color = 'red', marker = 'o', label = 'type1')\n",
    "plt.plot(df.iloc[:,1], color = 'green', marker = 'o', label = 'type2')\n",
    "plt.plot(df.iloc[:,2], marker = 'o', label = 'type3')\n",
    "plt.title('Material type–temperature plot')\n",
    "plt.xlabel('Temperature (°F)')\n",
    "plt.ylabel('Average life')\n",
    "plt.legend(['type1', 'type2', 'type3'])"
   ]
  },
  {
   "cell_type": "code",
   "execution_count": 23,
   "metadata": {},
   "outputs": [
    {
     "name": "stdout",
     "output_type": "stream",
     "text": [
      "总平均效应： 940.19\n",
      "材料因子的水平效应：\n",
      " [  75.15   26.81 -101.96]\n",
      "温度因子的水平效应：\n",
      " [-373.85  118.81  255.04]\n",
      "两因子之间的交互作用效应：\n",
      " [[1811.56 1840.22 1989.33]\n",
      " [1833.56 1829.56 1978.  ]\n",
      " [1996.   1971.33 1673.78]]\n"
     ]
    }
   ],
   "source": [
    "# 参数估计\n",
    "mu = np.mean(data[:,2])\n",
    "print('总平均效应：', round(mu, 2))\n",
    "\n",
    "tau = []\n",
    "for i in range(a):\n",
    "    tau.append(np.mean(data[data[:,0] == i + 1, 2]) - mu)\n",
    "print('材料因子的水平效应：\\n', np.round(tau, 2))\n",
    "\n",
    "beta = []\n",
    "for j in list_temp:\n",
    "    beta.append(np.mean(data[data[:,1] == j, 2]) - mu)\n",
    "print('温度因子的水平效应：\\n', np.round(beta, 2))\n",
    "\n",
    "tau_beta = []\n",
    "k = 0\n",
    "for i in range(a):\n",
    "    tau_beta.append([])\n",
    "    for j in range(b):\n",
    "        cnt = data_avg[0 + 3 * k, 2] - tau[j] - beta[i] + mu\n",
    "        tau_beta[i].append(cnt)\n",
    "        k += 1\n",
    "print('两因子之间的交互作用效应：\\n', np.round(tau_beta, 2))\n",
    "\n"
   ]
  },
  {
   "cell_type": "code",
   "execution_count": 17,
   "metadata": {},
   "outputs": [
    {
     "name": "stdout",
     "output_type": "stream",
     "text": [
      "   A  B1  B2  AA  AB1  AB2  AAB1  AAB2  Life\n",
      "0 -1   1   0   1   -1    0     1     0   580\n",
      "1 -1   1   0   1   -1    0     1     0   568\n",
      "2 -1   1   0   1   -1    0     1     0   570\n",
      "3 -1   0   1   1    0   -1     0     1   550\n",
      "4 -1   0   1   1    0   -1     0     1   530\n",
      "314.44444444444457\n"
     ]
    },
    {
     "data": {
      "text/html": [
       "<table class=\"simpletable\">\n",
       "<caption>OLS Regression Results</caption>\n",
       "<tr>\n",
       "  <th>Dep. Variable:</th>          <td>Life</td>       <th>  R-squared:         </th> <td>   0.997</td>\n",
       "</tr>\n",
       "<tr>\n",
       "  <th>Model:</th>                   <td>OLS</td>       <th>  Adj. R-squared:    </th> <td>   0.996</td>\n",
       "</tr>\n",
       "<tr>\n",
       "  <th>Method:</th>             <td>Least Squares</td>  <th>  F-statistic:       </th> <td>   824.8</td>\n",
       "</tr>\n",
       "<tr>\n",
       "  <th>Date:</th>             <td>Mon, 22 Mar 2021</td> <th>  Prob (F-statistic):</th> <td>1.78e-21</td>\n",
       "</tr>\n",
       "<tr>\n",
       "  <th>Time:</th>                 <td>21:46:45</td>     <th>  Log-Likelihood:    </th> <td> -112.51</td>\n",
       "</tr>\n",
       "<tr>\n",
       "  <th>No. Observations:</th>      <td>    27</td>      <th>  AIC:               </th> <td>   243.0</td>\n",
       "</tr>\n",
       "<tr>\n",
       "  <th>Df Residuals:</th>          <td>    18</td>      <th>  BIC:               </th> <td>   254.7</td>\n",
       "</tr>\n",
       "<tr>\n",
       "  <th>Df Model:</th>              <td>     8</td>      <th>                     </th>     <td> </td>   \n",
       "</tr>\n",
       "<tr>\n",
       "  <th>Covariance Type:</th>      <td>nonrobust</td>    <th>                     </th>     <td> </td>   \n",
       "</tr>\n",
       "</table>\n",
       "<table class=\"simpletable\">\n",
       "<tr>\n",
       "      <td></td>         <th>coef</th>     <th>std err</th>      <th>t</th>      <th>P>|t|</th>  <th>[0.025</th>    <th>0.975]</th>  \n",
       "</tr>\n",
       "<tr>\n",
       "  <th>Intercept</th> <td> 1059.0000</td> <td>    6.373</td> <td>  166.174</td> <td> 0.000</td> <td> 1045.611</td> <td> 1072.389</td>\n",
       "</tr>\n",
       "<tr>\n",
       "  <th>A</th>         <td>  314.4444</td> <td>    4.506</td> <td>   69.779</td> <td> 0.000</td> <td>  304.977</td> <td>  323.912</td>\n",
       "</tr>\n",
       "<tr>\n",
       "  <th>B1</th>        <td>   28.3333</td> <td>    9.013</td> <td>    3.144</td> <td> 0.006</td> <td>    9.399</td> <td>   47.268</td>\n",
       "</tr>\n",
       "<tr>\n",
       "  <th>B2</th>        <td>  -24.0000</td> <td>    9.013</td> <td>   -2.663</td> <td> 0.016</td> <td>  -42.935</td> <td>   -5.065</td>\n",
       "</tr>\n",
       "<tr>\n",
       "  <th>AA</th>        <td> -178.2222</td> <td>    7.805</td> <td>  -22.834</td> <td> 0.000</td> <td> -194.620</td> <td> -161.824</td>\n",
       "</tr>\n",
       "<tr>\n",
       "  <th>AB1</th>       <td>   92.2222</td> <td>    6.373</td> <td>   14.471</td> <td> 0.000</td> <td>   78.833</td> <td>  105.611</td>\n",
       "</tr>\n",
       "<tr>\n",
       "  <th>AB2</th>       <td>   65.5556</td> <td>    6.373</td> <td>   10.287</td> <td> 0.000</td> <td>   52.167</td> <td>   78.944</td>\n",
       "</tr>\n",
       "<tr>\n",
       "  <th>AAB1</th>      <td>   70.2222</td> <td>   11.038</td> <td>    6.362</td> <td> 0.000</td> <td>   47.032</td> <td>   93.412</td>\n",
       "</tr>\n",
       "<tr>\n",
       "  <th>AAB2</th>      <td>   76.2222</td> <td>   11.038</td> <td>    6.905</td> <td> 0.000</td> <td>   53.032</td> <td>   99.412</td>\n",
       "</tr>\n",
       "</table>\n",
       "<table class=\"simpletable\">\n",
       "<tr>\n",
       "  <th>Omnibus:</th>       <td> 0.570</td> <th>  Durbin-Watson:     </th> <td>   2.273</td>\n",
       "</tr>\n",
       "<tr>\n",
       "  <th>Prob(Omnibus):</th> <td> 0.752</td> <th>  Jarque-Bera (JB):  </th> <td>   0.035</td>\n",
       "</tr>\n",
       "<tr>\n",
       "  <th>Skew:</th>          <td> 0.009</td> <th>  Prob(JB):          </th> <td>   0.983</td>\n",
       "</tr>\n",
       "<tr>\n",
       "  <th>Kurtosis:</th>      <td> 3.175</td> <th>  Cond. No.          </th> <td>    5.59</td>\n",
       "</tr>\n",
       "</table><br/><br/>Notes:<br/>[1] Standard Errors assume that the covariance matrix of the errors is correctly specified."
      ],
      "text/plain": [
       "<class 'statsmodels.iolib.summary.Summary'>\n",
       "\"\"\"\n",
       "                            OLS Regression Results                            \n",
       "==============================================================================\n",
       "Dep. Variable:                   Life   R-squared:                       0.997\n",
       "Model:                            OLS   Adj. R-squared:                  0.996\n",
       "Method:                 Least Squares   F-statistic:                     824.8\n",
       "Date:                Mon, 22 Mar 2021   Prob (F-statistic):           1.78e-21\n",
       "Time:                        21:46:45   Log-Likelihood:                -112.51\n",
       "No. Observations:                  27   AIC:                             243.0\n",
       "Df Residuals:                      18   BIC:                             254.7\n",
       "Df Model:                           8                                         \n",
       "Covariance Type:            nonrobust                                         \n",
       "==============================================================================\n",
       "                 coef    std err          t      P>|t|      [0.025      0.975]\n",
       "------------------------------------------------------------------------------\n",
       "Intercept   1059.0000      6.373    166.174      0.000    1045.611    1072.389\n",
       "A            314.4444      4.506     69.779      0.000     304.977     323.912\n",
       "B1            28.3333      9.013      3.144      0.006       9.399      47.268\n",
       "B2           -24.0000      9.013     -2.663      0.016     -42.935      -5.065\n",
       "AA          -178.2222      7.805    -22.834      0.000    -194.620    -161.824\n",
       "AB1           92.2222      6.373     14.471      0.000      78.833     105.611\n",
       "AB2           65.5556      6.373     10.287      0.000      52.167      78.944\n",
       "AAB1          70.2222     11.038      6.362      0.000      47.032      93.412\n",
       "AAB2          76.2222     11.038      6.905      0.000      53.032      99.412\n",
       "==============================================================================\n",
       "Omnibus:                        0.570   Durbin-Watson:                   2.273\n",
       "Prob(Omnibus):                  0.752   Jarque-Bera (JB):                0.035\n",
       "Skew:                           0.009   Prob(JB):                        0.983\n",
       "Kurtosis:                       3.175   Cond. No.                         5.59\n",
       "==============================================================================\n",
       "\n",
       "Notes:\n",
       "[1] Standard Errors assume that the covariance matrix of the errors is correctly specified.\n",
       "\"\"\""
      ]
     },
     "execution_count": 17,
     "metadata": {},
     "output_type": "execute_result"
    }
   ],
   "source": [
    "# 构造这 8 个变量\n",
    "# list_A = [100, 125, 150]\n",
    "list_A = [-1, 0, 1]\n",
    "list_B1 = [1, 0, -1]\n",
    "list_B2 = [0, 1, -1]\n",
    "A = data[:,1] * 1\n",
    "B1 = B2 = data[:, 0]\n",
    "for i in range(3):\n",
    "    A = [list_A[i] if j == list_temp[i] else j for j in A]\n",
    "    B1 = [list_B1[i] if j == i + 1 else j for j in B1]\n",
    "    B2 = [list_B2[i] if j == i + 1 else j for j in B2]\n",
    "AA = [A[k] ** 2 for k in range(len(A))]\n",
    "AB1 = [A[k] * B1[k] for k in range(len(A))]\n",
    "AB2 = [A[k] * B2[k] for k in range(len(A))]\n",
    "AAB1 = [AA[k] * B1[k] for k in range(len(A))]\n",
    "AAB2 = [AA[k] * B2[k] for k in range(len(A))]\n",
    "df = pd.DataFrame(A, columns = ['A'])\n",
    "df['B1'] = B1\n",
    "df['B2'] = B2\n",
    "df['AA'] = AA\n",
    "df['AB1'] = AB1\n",
    "df['AB2'] = AB2\n",
    "df['AAB1'] = AAB1\n",
    "df['AAB2'] = AAB2\n",
    "df['Life'] = data[:,2]\n",
    "print(df.head())\n",
    "\n",
    "# 训练模型\n",
    "model = ols('Life~ A + B1 + B2 + AA + AB1 + AB2 + AAB1 + AAB2',df).fit()\n",
    "param = model.params\n",
    "print(param[1])\n",
    "model.summary()"
   ]
  },
  {
   "cell_type": "code",
   "execution_count": 18,
   "metadata": {},
   "outputs": [
    {
     "data": {
      "text/plain": [
       "<matplotlib.legend.Legend at 0x20645307e48>"
      ]
     },
     "execution_count": 18,
     "metadata": {},
     "output_type": "execute_result"
    },
    {
     "data": {
      "image/png": "[encoded data removed]",
      "text/plain": [
       "<Figure size 432x288 with 1 Axes>"
      ]
     },
     "metadata": {
      "needs_background": "light"
     },
     "output_type": "display_data"
    }
   ],
   "source": [
    "# 拟合响应曲线\n",
    "temp = np.linspace(-1,1)\n",
    "life_type1 = param[0] + param[1] * temp + param[2] * list_B1[0] + param[3] * list_B2[0] + param[4] * (temp ** 2) + param[5] * temp * list_B1[0] + param[6] * temp * list_B2[0] + param[7] * (temp ** 2) * list_B1[0] + param[8] * (temp ** 2) * list_B2[0]\n",
    "life_type2 = param[0] + param[1] * temp + param[2] * list_B1[1] + param[3] * list_B2[1] + param[4] * (temp ** 2) + param[5] * temp * list_B1[1] + param[6] * temp * list_B2[1] + param[7] * (temp ** 2) * list_B1[1] + param[8] * (temp ** 2) * list_B2[1]\n",
    "life_type3 = param[0] + param[1] * temp + param[2] * list_B1[2] + param[3] * list_B2[2] + param[4] * (temp ** 2) + param[5] * temp * list_B1[2] + param[6] * temp * list_B2[2] + param[7] * (temp ** 2) * list_B1[2] + param[8] * (temp ** 2) * list_B2[2]\n",
    "\n",
    "c1 = pd.Series(life_type1, index = temp, name = 'type1')\n",
    "c2 = pd.Series(life_type2, index = temp, name = 'type2')\n",
    "c3 = pd.Series(life_type3, index = temp, name = 'type3')\n",
    "df = pd.concat([c1, c2, c3], axis = 1)\n",
    "\n",
    "plt.plot(df.iloc[:,0], color = 'red', label = 'type1')\n",
    "plt.plot(df.iloc[:,1], color = 'green', label = 'type2')\n",
    "plt.plot(df.iloc[:,2], label = 'type3')\n",
    "plt.xlabel('Temperature (°F)')\n",
    "plt.ylabel('Life')\n",
    "plt.legend(['type1', 'type2', 'type3'])"
   ]
  },
  {
   "cell_type": "code",
   "execution_count": null,
   "metadata": {},
   "outputs": [],
   "source": []
  }
 ],
 "metadata": {
  "kernelspec": {
   "display_name": "Python 3",
   "language": "python",
   "name": "python3"
  },
  "language_info": {
   "codemirror_mode": {
    "name": "ipython",
    "version": 3
   },
   "file_extension": ".py",
   "mimetype": "text/x-python",
   "name": "python",
   "nbconvert_exporter": "python",
   "pygments_lexer": "ipython3",
   "version": "3.7.10"
  }
 },
 "nbformat": 4,
 "nbformat_minor": 4
}
