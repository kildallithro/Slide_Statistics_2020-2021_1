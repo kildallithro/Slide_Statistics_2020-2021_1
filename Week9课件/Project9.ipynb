{
 "cells": [
  {
   "cell_type": "code",
   "execution_count": 325,
   "id": "420c98fd",
   "metadata": {
    "scrolled": true
   },
   "outputs": [
    {
     "name": "stdout",
     "output_type": "stream",
     "text": [
      "beta:  [ 8  1  2  3  4  5  6  7  8  9 10]\n",
      "cov:  [[1.         0.999      0.998001   0.997003   0.996006   0.99500999\n",
      "  0.99401498 0.99302097 0.99202794 0.99103592]\n",
      " [0.999      1.         0.997003   0.996006   0.99500999 0.99401498\n",
      "  0.99302097 0.99202794 0.99103592 0.99004488]\n",
      " [0.998001   0.997003   1.         0.99500999 0.99401498 0.99302097\n",
      "  0.99202794 0.99103592 0.99004488 0.98905484]\n",
      " [0.997003   0.996006   0.99500999 1.         0.99302097 0.99202794\n",
      "  0.99103592 0.99004488 0.98905484 0.98806578]\n",
      " [0.996006   0.99500999 0.99401498 0.99302097 1.         0.99103592\n",
      "  0.99004488 0.98905484 0.98806578 0.98707771]\n",
      " [0.99500999 0.99401498 0.99302097 0.99202794 0.99103592 1.\n",
      "  0.98905484 0.98806578 0.98707771 0.98609064]\n",
      " [0.99401498 0.99302097 0.99202794 0.99103592 0.99004488 0.98905484\n",
      "  1.         0.98707771 0.98609064 0.98510455]\n",
      " [0.99302097 0.99202794 0.99103592 0.99004488 0.98905484 0.98806578\n",
      "  0.98707771 1.         0.98510455 0.98411944]\n",
      " [0.99202794 0.99103592 0.99004488 0.98905484 0.98806578 0.98707771\n",
      "  0.98609064 0.98510455 1.         0.98313532]\n",
      " [0.99103592 0.99004488 0.98905484 0.98806578 0.98707771 0.98609064\n",
      "  0.98510455 0.98411944 0.98313532 1.        ]]\n",
      "     0         1         2         3         4         5         6         7  \\\n",
      "0  1.0  0.754025  0.779597  0.699418  0.652937  0.861839  0.843691  0.839064   \n",
      "1  1.0  0.677674  0.717678  0.720547  0.566980  0.633724  0.490675  0.755134   \n",
      "2  1.0  2.931454  3.004685  2.865999  2.871288  3.017341  2.941627  2.929281   \n",
      "3  1.0  0.690206  0.678948  0.624043  0.515850  0.527670  0.524308  0.766935   \n",
      "4  1.0  0.368747  0.469236  0.313294  0.146001  0.117397  0.232666  0.580587   \n",
      "\n",
      "          8         9        10           Y  \n",
      "0  0.824224  0.840289  0.738708   50.627978  \n",
      "1  0.515022  0.920281  0.804325   45.195343  \n",
      "2  2.771605  2.939350  2.694866  165.453048  \n",
      "3  0.553691  0.714030  0.519161   41.110791  \n",
      "4  0.436836  0.061465  0.292930   24.048329  \n"
     ]
    }
   ],
   "source": [
    "# Import standard packages\n",
    "import numpy as np\n",
    "import pandas as pd\n",
    "import scipy.stats as stats\n",
    "import matplotlib.pyplot as plt\n",
    "import seaborn as sns\n",
    "\n",
    "# Import additional packages\n",
    "from itertools import combinations\n",
    "import statsmodels.api as sm\n",
    "from statsmodels.stats.outliers_influence import variance_inflation_factor\n",
    "from sklearn import linear_model  # 进行岭回归分析\n",
    "from ipywidgets import interact\n",
    "%matplotlib inline\n",
    "\n",
    "p = 10\n",
    "n = 20\n",
    "\n",
    "# 上帝视角下的beta: 截距项为 10，三个变量前的系数分别为 2，3，4\n",
    "beta = [8]\n",
    "for i in range(p):\n",
    "    beta.append((i+1))\n",
    "beta = np.array(beta)\n",
    "print('beta: ', beta)\n",
    "\n",
    "# 构造协方差矩阵\n",
    "cov = np.zeros((p, p), dtype=float)\n",
    "for i in range(p):\n",
    "    cov[i][i] = 1.0\n",
    "for i in range(p):\n",
    "    for j in range(p):\n",
    "        if i != j:\n",
    "            cov[i][j] = cov [j][i] = 0.999**(i+j)\n",
    "    \n",
    "print('cov: ', cov)\n",
    "\n",
    "# 构造 X 矩阵\n",
    "# X = [[5.053499791495376, 4.896359188149629, 4.5846019652366765, 3.4627703344989245, 3.270451004372899, 4.493105477608886, 4.4464566375800425, 4.798063216845086, 6.427862171550048, 4.303787732779672]]\n",
    "# X.append([5.072933009683874, 3.6512177680206648, 5.577820866295013, 4.068646005580284, 5.59613146647269, 6.323457817901293, 6.079773035399383, 2.9443980328330173, 4.457913906178166, 5.357206466723423])\n",
    "# X = np.random.normal(loc=5 , scale=1, size=(2,n)).tolist()\n",
    "# X.append([1.1, 1.4, 1.7, 1.7, 1.8, 1.8, 1.9, 2, 2.3, 2.4])\n",
    "# X.append([2.2, 3, 3.6, 3.4, 3.8, 3.6, 3.6, 4.2, 4.8, 5])\n",
    "X = np.random.multivariate_normal(np.ones(p), cov, (n, ), 'raise') # raise 用来限定正定性\n",
    "X = np.column_stack((np.ones(n),X))\n",
    "# print(X)\n",
    "\n",
    "# 生成 10 个满足正态分布的 epsilon 值\n",
    "# epsilon = [ 0.05290865, -0.34306401, -0.5598349, 0.64584319, -0.37267585, -0.87090483, 0.99051878, -1.38493147, 0.06964761, 0.0842377]\n",
    "epsilon = np.random.normal(loc = 0.0 , scale = 1, size = (1,n))\n",
    "# print(epsilon)\n",
    "\n",
    "# 上帝视角下的Y\n",
    "# Y = X @ beta + epsilon\n",
    "Y = X @ beta + epsilon[0]\n",
    "Y = Y.T\n",
    "# print(Y)\n",
    "\n",
    "df = pd.DataFrame(X)\n",
    "df['Y'] = Y\n",
    "print(df.head())"
   ]
  },
  {
   "cell_type": "code",
   "execution_count": 326,
   "id": "ed814d8c",
   "metadata": {},
   "outputs": [
    {
     "data": {
      "text/html": [
       "<table class=\"simpletable\">\n",
       "<caption>OLS Regression Results</caption>\n",
       "<tr>\n",
       "  <th>Dep. Variable:</th>            <td>y</td>        <th>  R-squared:         </th> <td>   1.000</td> \n",
       "</tr>\n",
       "<tr>\n",
       "  <th>Model:</th>                   <td>OLS</td>       <th>  Adj. R-squared:    </th> <td>   1.000</td> \n",
       "</tr>\n",
       "<tr>\n",
       "  <th>Method:</th>             <td>Least Squares</td>  <th>  F-statistic:       </th> <td>1.015e+04</td>\n",
       "</tr>\n",
       "<tr>\n",
       "  <th>Date:</th>             <td>Sun, 25 Apr 2021</td> <th>  Prob (F-statistic):</th> <td>5.54e-17</td> \n",
       "</tr>\n",
       "<tr>\n",
       "  <th>Time:</th>                 <td>14:32:42</td>     <th>  Log-Likelihood:    </th> <td> -18.016</td> \n",
       "</tr>\n",
       "<tr>\n",
       "  <th>No. Observations:</th>      <td>    20</td>      <th>  AIC:               </th> <td>   58.03</td> \n",
       "</tr>\n",
       "<tr>\n",
       "  <th>Df Residuals:</th>          <td>     9</td>      <th>  BIC:               </th> <td>   68.98</td> \n",
       "</tr>\n",
       "<tr>\n",
       "  <th>Df Model:</th>              <td>    10</td>      <th>                     </th>     <td> </td>    \n",
       "</tr>\n",
       "<tr>\n",
       "  <th>Covariance Type:</th>      <td>nonrobust</td>    <th>                     </th>     <td> </td>    \n",
       "</tr>\n",
       "</table>\n",
       "<table class=\"simpletable\">\n",
       "<tr>\n",
       "    <td></td>       <th>coef</th>     <th>std err</th>      <th>t</th>      <th>P>|t|</th>  <th>[0.025</th>    <th>0.975]</th>  \n",
       "</tr>\n",
       "<tr>\n",
       "  <th>const</th> <td>    8.2074</td> <td>    0.484</td> <td>   16.956</td> <td> 0.000</td> <td>    7.112</td> <td>    9.302</td>\n",
       "</tr>\n",
       "<tr>\n",
       "  <th>x1</th>    <td>   15.9172</td> <td>   10.319</td> <td>    1.543</td> <td> 0.157</td> <td>   -7.426</td> <td>   39.260</td>\n",
       "</tr>\n",
       "<tr>\n",
       "  <th>x2</th>    <td>   -8.9128</td> <td>    4.755</td> <td>   -1.875</td> <td> 0.094</td> <td>  -19.669</td> <td>    1.843</td>\n",
       "</tr>\n",
       "<tr>\n",
       "  <th>x3</th>    <td>    4.5823</td> <td>    5.966</td> <td>    0.768</td> <td> 0.462</td> <td>   -8.914</td> <td>   18.079</td>\n",
       "</tr>\n",
       "<tr>\n",
       "  <th>x4</th>    <td>    7.4025</td> <td>    3.597</td> <td>    2.058</td> <td> 0.070</td> <td>   -0.734</td> <td>   15.539</td>\n",
       "</tr>\n",
       "<tr>\n",
       "  <th>x5</th>    <td>    2.9159</td> <td>    2.999</td> <td>    0.972</td> <td> 0.356</td> <td>   -3.869</td> <td>    9.700</td>\n",
       "</tr>\n",
       "<tr>\n",
       "  <th>x6</th>    <td>    5.1111</td> <td>    3.204</td> <td>    1.595</td> <td> 0.145</td> <td>   -2.137</td> <td>   12.359</td>\n",
       "</tr>\n",
       "<tr>\n",
       "  <th>x7</th>    <td>    6.8922</td> <td>    3.033</td> <td>    2.272</td> <td> 0.049</td> <td>    0.030</td> <td>   13.754</td>\n",
       "</tr>\n",
       "<tr>\n",
       "  <th>x8</th>    <td>    6.1967</td> <td>    3.401</td> <td>    1.822</td> <td> 0.102</td> <td>   -1.498</td> <td>   13.891</td>\n",
       "</tr>\n",
       "<tr>\n",
       "  <th>x9</th>    <td>    6.7704</td> <td>    1.974</td> <td>    3.430</td> <td> 0.008</td> <td>    2.305</td> <td>   11.236</td>\n",
       "</tr>\n",
       "<tr>\n",
       "  <th>x10</th>   <td>    8.1140</td> <td>    2.594</td> <td>    3.128</td> <td> 0.012</td> <td>    2.245</td> <td>   13.983</td>\n",
       "</tr>\n",
       "</table>\n",
       "<table class=\"simpletable\">\n",
       "<tr>\n",
       "  <th>Omnibus:</th>       <td> 2.294</td> <th>  Durbin-Watson:     </th> <td>   1.982</td>\n",
       "</tr>\n",
       "<tr>\n",
       "  <th>Prob(Omnibus):</th> <td> 0.318</td> <th>  Jarque-Bera (JB):  </th> <td>   1.168</td>\n",
       "</tr>\n",
       "<tr>\n",
       "  <th>Skew:</th>          <td>-0.186</td> <th>  Prob(JB):          </th> <td>   0.558</td>\n",
       "</tr>\n",
       "<tr>\n",
       "  <th>Kurtosis:</th>      <td> 1.876</td> <th>  Cond. No.          </th> <td>    285.</td>\n",
       "</tr>\n",
       "</table><br/><br/>Notes:<br/>[1] Standard Errors assume that the covariance matrix of the errors is correctly specified."
      ],
      "text/plain": [
       "<class 'statsmodels.iolib.summary.Summary'>\n",
       "\"\"\"\n",
       "                            OLS Regression Results                            \n",
       "==============================================================================\n",
       "Dep. Variable:                      y   R-squared:                       1.000\n",
       "Model:                            OLS   Adj. R-squared:                  1.000\n",
       "Method:                 Least Squares   F-statistic:                 1.015e+04\n",
       "Date:                Sun, 25 Apr 2021   Prob (F-statistic):           5.54e-17\n",
       "Time:                        14:32:42   Log-Likelihood:                -18.016\n",
       "No. Observations:                  20   AIC:                             58.03\n",
       "Df Residuals:                       9   BIC:                             68.98\n",
       "Df Model:                          10                                         \n",
       "Covariance Type:            nonrobust                                         \n",
       "==============================================================================\n",
       "                 coef    std err          t      P>|t|      [0.025      0.975]\n",
       "------------------------------------------------------------------------------\n",
       "const          8.2074      0.484     16.956      0.000       7.112       9.302\n",
       "x1            15.9172     10.319      1.543      0.157      -7.426      39.260\n",
       "x2            -8.9128      4.755     -1.875      0.094     -19.669       1.843\n",
       "x3             4.5823      5.966      0.768      0.462      -8.914      18.079\n",
       "x4             7.4025      3.597      2.058      0.070      -0.734      15.539\n",
       "x5             2.9159      2.999      0.972      0.356      -3.869       9.700\n",
       "x6             5.1111      3.204      1.595      0.145      -2.137      12.359\n",
       "x7             6.8922      3.033      2.272      0.049       0.030      13.754\n",
       "x8             6.1967      3.401      1.822      0.102      -1.498      13.891\n",
       "x9             6.7704      1.974      3.430      0.008       2.305      11.236\n",
       "x10            8.1140      2.594      3.128      0.012       2.245      13.983\n",
       "==============================================================================\n",
       "Omnibus:                        2.294   Durbin-Watson:                   1.982\n",
       "Prob(Omnibus):                  0.318   Jarque-Bera (JB):                1.168\n",
       "Skew:                          -0.186   Prob(JB):                        0.558\n",
       "Kurtosis:                       1.876   Cond. No.                         285.\n",
       "==============================================================================\n",
       "\n",
       "Notes:\n",
       "[1] Standard Errors assume that the covariance matrix of the errors is correctly specified.\n",
       "\"\"\""
      ]
     },
     "execution_count": 326,
     "metadata": {},
     "output_type": "execute_result"
    }
   ],
   "source": [
    "model= sm.OLS(Y, X).fit()\n",
    "Y_hat = model.fittedvalues\n",
    "beta_hat = model.params\n",
    "model.summary()"
   ]
  },
  {
   "cell_type": "code",
   "execution_count": 327,
   "id": "70e39590",
   "metadata": {},
   "outputs": [
    {
     "name": "stdout",
     "output_type": "stream",
     "text": [
      "     0         1         2         3         4         5         6         7  \\\n",
      "0  1.0 -0.039673 -0.037210 -0.048563 -0.050992 -0.019270 -0.017047 -0.036282   \n",
      "1  1.0 -0.054329 -0.049183 -0.044415 -0.067346 -0.061614 -0.083695 -0.053067   \n",
      "2  1.0  0.378323  0.393040  0.376689  0.371075  0.380843  0.379033  0.381755   \n",
      "3  1.0 -0.051924 -0.056672 -0.063357 -0.077074 -0.081300 -0.077345 -0.050707   \n",
      "4  1.0 -0.113633 -0.097222 -0.124350 -0.147442 -0.157456 -0.132406 -0.087976   \n",
      "\n",
      "          8         9        10         Y  \n",
      "0 -0.025540 -0.027757 -0.035315 -0.035340  \n",
      "1 -0.086643 -0.011948 -0.022495 -0.054548  \n",
      "2  0.359293  0.387073  0.346872  0.370658  \n",
      "3 -0.079001 -0.052709 -0.078209 -0.068990  \n",
      "4 -0.102094 -0.181673 -0.122409 -0.129320  \n"
     ]
    }
   ],
   "source": [
    "# 对数据进行标准化\n",
    "# 自变量 X 的均值\n",
    "X_mean = []\n",
    "for i in range(p):\n",
    "    X_mean.append(np.mean(X[:, i+1])) \n",
    "\n",
    "# 自变量 X 的标准差\n",
    "X_L = []\n",
    "for i in range(p):\n",
    "    X_L.append(sum((X[:, i+1] - X_mean[i]) ** 2))  \n",
    "\n",
    "# 对自变量 X 标准化(截距项不用标准化)\n",
    "X_std = X * 1.0\n",
    "X_std[:,1:p+1] = (X[:,1:p+1] - X_mean) / np.sqrt(X_L)\n",
    "\n",
    "# 对因变量 Y 标准化\n",
    "Y_L = sum((Y - np.mean(Y))**2)\n",
    "Y_std = (Y - np.mean(Y)) / np.sqrt(Y_L)\n",
    "\n",
    "df_std = pd.DataFrame(X_std)\n",
    "df_std['Y'] = Y_std\n",
    "print(df_std.head())"
   ]
  },
  {
   "cell_type": "code",
   "execution_count": 328,
   "id": "8853354d",
   "metadata": {},
   "outputs": [
    {
     "data": {
      "text/html": [
       "<table class=\"simpletable\">\n",
       "<caption>OLS Regression Results</caption>\n",
       "<tr>\n",
       "  <th>Dep. Variable:</th>            <td>y</td>        <th>  R-squared:         </th> <td>   1.000</td> \n",
       "</tr>\n",
       "<tr>\n",
       "  <th>Model:</th>                   <td>OLS</td>       <th>  Adj. R-squared:    </th> <td>   1.000</td> \n",
       "</tr>\n",
       "<tr>\n",
       "  <th>Method:</th>             <td>Least Squares</td>  <th>  F-statistic:       </th> <td>1.015e+04</td>\n",
       "</tr>\n",
       "<tr>\n",
       "  <th>Date:</th>             <td>Sun, 25 Apr 2021</td> <th>  Prob (F-statistic):</th> <td>5.54e-17</td> \n",
       "</tr>\n",
       "<tr>\n",
       "  <th>Time:</th>                 <td>14:33:31</td>     <th>  Log-Likelihood:    </th> <td>  94.881</td> \n",
       "</tr>\n",
       "<tr>\n",
       "  <th>No. Observations:</th>      <td>    20</td>      <th>  AIC:               </th> <td>  -167.8</td> \n",
       "</tr>\n",
       "<tr>\n",
       "  <th>Df Residuals:</th>          <td>     9</td>      <th>  BIC:               </th> <td>  -156.8</td> \n",
       "</tr>\n",
       "<tr>\n",
       "  <th>Df Model:</th>              <td>    10</td>      <th>                     </th>     <td> </td>    \n",
       "</tr>\n",
       "<tr>\n",
       "  <th>Covariance Type:</th>      <td>nonrobust</td>    <th>                     </th>     <td> </td>    \n",
       "</tr>\n",
       "</table>\n",
       "<table class=\"simpletable\">\n",
       "<tr>\n",
       "    <td></td>       <th>coef</th>     <th>std err</th>      <th>t</th>      <th>P>|t|</th>  <th>[0.025</th>    <th>0.975]</th>  \n",
       "</tr>\n",
       "<tr>\n",
       "  <th>const</th> <td> 2.082e-17</td> <td>    0.001</td> <td> 2.97e-14</td> <td> 1.000</td> <td>   -0.002</td> <td>    0.002</td>\n",
       "</tr>\n",
       "<tr>\n",
       "  <th>x1</th>    <td>    0.2932</td> <td>    0.190</td> <td>    1.543</td> <td> 0.157</td> <td>   -0.137</td> <td>    0.723</td>\n",
       "</tr>\n",
       "<tr>\n",
       "  <th>x2</th>    <td>   -0.1630</td> <td>    0.087</td> <td>   -1.875</td> <td> 0.094</td> <td>   -0.360</td> <td>    0.034</td>\n",
       "</tr>\n",
       "<tr>\n",
       "  <th>x3</th>    <td>    0.0825</td> <td>    0.107</td> <td>    0.768</td> <td> 0.462</td> <td>   -0.161</td> <td>    0.326</td>\n",
       "</tr>\n",
       "<tr>\n",
       "  <th>x4</th>    <td>    0.1376</td> <td>    0.067</td> <td>    2.058</td> <td> 0.070</td> <td>   -0.014</td> <td>    0.289</td>\n",
       "</tr>\n",
       "<tr>\n",
       "  <th>x5</th>    <td>    0.0555</td> <td>    0.057</td> <td>    0.972</td> <td> 0.356</td> <td>   -0.074</td> <td>    0.185</td>\n",
       "</tr>\n",
       "<tr>\n",
       "  <th>x6</th>    <td>    0.0957</td> <td>    0.060</td> <td>    1.595</td> <td> 0.145</td> <td>   -0.040</td> <td>    0.231</td>\n",
       "</tr>\n",
       "<tr>\n",
       "  <th>x7</th>    <td>    0.1218</td> <td>    0.054</td> <td>    2.272</td> <td> 0.049</td> <td>    0.001</td> <td>    0.243</td>\n",
       "</tr>\n",
       "<tr>\n",
       "  <th>x8</th>    <td>    0.1109</td> <td>    0.061</td> <td>    1.822</td> <td> 0.102</td> <td>   -0.027</td> <td>    0.249</td>\n",
       "</tr>\n",
       "<tr>\n",
       "  <th>x9</th>    <td>    0.1211</td> <td>    0.035</td> <td>    3.430</td> <td> 0.008</td> <td>    0.041</td> <td>    0.201</td>\n",
       "</tr>\n",
       "<tr>\n",
       "  <th>x10</th>   <td>    0.1468</td> <td>    0.047</td> <td>    3.128</td> <td> 0.012</td> <td>    0.041</td> <td>    0.253</td>\n",
       "</tr>\n",
       "</table>\n",
       "<table class=\"simpletable\">\n",
       "<tr>\n",
       "  <th>Omnibus:</th>       <td> 2.294</td> <th>  Durbin-Watson:     </th> <td>   1.982</td>\n",
       "</tr>\n",
       "<tr>\n",
       "  <th>Prob(Omnibus):</th> <td> 0.318</td> <th>  Jarque-Bera (JB):  </th> <td>   1.168</td>\n",
       "</tr>\n",
       "<tr>\n",
       "  <th>Skew:</th>          <td>-0.186</td> <th>  Prob(JB):          </th> <td>   0.558</td>\n",
       "</tr>\n",
       "<tr>\n",
       "  <th>Kurtosis:</th>      <td> 1.876</td> <th>  Cond. No.          </th> <td>    309.</td>\n",
       "</tr>\n",
       "</table><br/><br/>Notes:<br/>[1] Standard Errors assume that the covariance matrix of the errors is correctly specified."
      ],
      "text/plain": [
       "<class 'statsmodels.iolib.summary.Summary'>\n",
       "\"\"\"\n",
       "                            OLS Regression Results                            \n",
       "==============================================================================\n",
       "Dep. Variable:                      y   R-squared:                       1.000\n",
       "Model:                            OLS   Adj. R-squared:                  1.000\n",
       "Method:                 Least Squares   F-statistic:                 1.015e+04\n",
       "Date:                Sun, 25 Apr 2021   Prob (F-statistic):           5.54e-17\n",
       "Time:                        14:33:31   Log-Likelihood:                 94.881\n",
       "No. Observations:                  20   AIC:                            -167.8\n",
       "Df Residuals:                       9   BIC:                            -156.8\n",
       "Df Model:                          10                                         \n",
       "Covariance Type:            nonrobust                                         \n",
       "==============================================================================\n",
       "                 coef    std err          t      P>|t|      [0.025      0.975]\n",
       "------------------------------------------------------------------------------\n",
       "const       2.082e-17      0.001   2.97e-14      1.000      -0.002       0.002\n",
       "x1             0.2932      0.190      1.543      0.157      -0.137       0.723\n",
       "x2            -0.1630      0.087     -1.875      0.094      -0.360       0.034\n",
       "x3             0.0825      0.107      0.768      0.462      -0.161       0.326\n",
       "x4             0.1376      0.067      2.058      0.070      -0.014       0.289\n",
       "x5             0.0555      0.057      0.972      0.356      -0.074       0.185\n",
       "x6             0.0957      0.060      1.595      0.145      -0.040       0.231\n",
       "x7             0.1218      0.054      2.272      0.049       0.001       0.243\n",
       "x8             0.1109      0.061      1.822      0.102      -0.027       0.249\n",
       "x9             0.1211      0.035      3.430      0.008       0.041       0.201\n",
       "x10            0.1468      0.047      3.128      0.012       0.041       0.253\n",
       "==============================================================================\n",
       "Omnibus:                        2.294   Durbin-Watson:                   1.982\n",
       "Prob(Omnibus):                  0.318   Jarque-Bera (JB):                1.168\n",
       "Skew:                          -0.186   Prob(JB):                        0.558\n",
       "Kurtosis:                       1.876   Cond. No.                         309.\n",
       "==============================================================================\n",
       "\n",
       "Notes:\n",
       "[1] Standard Errors assume that the covariance matrix of the errors is correctly specified.\n",
       "\"\"\""
      ]
     },
     "execution_count": 328,
     "metadata": {},
     "output_type": "execute_result"
    }
   ],
   "source": [
    "# Do the multiple linear regression——对标准化后的数据\n",
    "model_std = sm.OLS(Y_std, X_std).fit()\n",
    "beta_std_hat = model_std.params\n",
    "Y_std_hat = model_std.fittedvalues\n",
    "model_std.summary()"
   ]
  },
  {
   "cell_type": "code",
   "execution_count": 329,
   "id": "f660d6ad",
   "metadata": {},
   "outputs": [
    {
     "data": {
      "text/html": [
       "<div>\n",
       "<style scoped>\n",
       "    .dataframe tbody tr th:only-of-type {\n",
       "        vertical-align: middle;\n",
       "    }\n",
       "\n",
       "    .dataframe tbody tr th {\n",
       "        vertical-align: top;\n",
       "    }\n",
       "\n",
       "    .dataframe thead th {\n",
       "        text-align: right;\n",
       "    }\n",
       "</style>\n",
       "<table border=\"1\" class=\"dataframe\">\n",
       "  <thead>\n",
       "    <tr style=\"text-align: right;\">\n",
       "      <th></th>\n",
       "      <th>1</th>\n",
       "      <th>2</th>\n",
       "      <th>3</th>\n",
       "      <th>4</th>\n",
       "      <th>5</th>\n",
       "      <th>6</th>\n",
       "      <th>7</th>\n",
       "      <th>8</th>\n",
       "      <th>9</th>\n",
       "      <th>10</th>\n",
       "    </tr>\n",
       "  </thead>\n",
       "  <tbody>\n",
       "    <tr>\n",
       "      <th>1</th>\n",
       "      <td>1.000000</td>\n",
       "      <td>0.998837</td>\n",
       "      <td>0.999169</td>\n",
       "      <td>0.997681</td>\n",
       "      <td>0.997130</td>\n",
       "      <td>0.996710</td>\n",
       "      <td>0.996272</td>\n",
       "      <td>0.996192</td>\n",
       "      <td>0.992940</td>\n",
       "      <td>0.996402</td>\n",
       "    </tr>\n",
       "    <tr>\n",
       "      <th>2</th>\n",
       "      <td>0.998837</td>\n",
       "      <td>1.000000</td>\n",
       "      <td>0.997355</td>\n",
       "      <td>0.996017</td>\n",
       "      <td>0.995838</td>\n",
       "      <td>0.995076</td>\n",
       "      <td>0.995539</td>\n",
       "      <td>0.992972</td>\n",
       "      <td>0.990914</td>\n",
       "      <td>0.995226</td>\n",
       "    </tr>\n",
       "    <tr>\n",
       "      <th>3</th>\n",
       "      <td>0.999169</td>\n",
       "      <td>0.997355</td>\n",
       "      <td>1.000000</td>\n",
       "      <td>0.997309</td>\n",
       "      <td>0.997189</td>\n",
       "      <td>0.996053</td>\n",
       "      <td>0.994008</td>\n",
       "      <td>0.995867</td>\n",
       "      <td>0.993196</td>\n",
       "      <td>0.996576</td>\n",
       "    </tr>\n",
       "    <tr>\n",
       "      <th>4</th>\n",
       "      <td>0.997681</td>\n",
       "      <td>0.996017</td>\n",
       "      <td>0.997309</td>\n",
       "      <td>1.000000</td>\n",
       "      <td>0.997633</td>\n",
       "      <td>0.996064</td>\n",
       "      <td>0.993638</td>\n",
       "      <td>0.995081</td>\n",
       "      <td>0.993778</td>\n",
       "      <td>0.996097</td>\n",
       "    </tr>\n",
       "    <tr>\n",
       "      <th>5</th>\n",
       "      <td>0.997130</td>\n",
       "      <td>0.995838</td>\n",
       "      <td>0.997189</td>\n",
       "      <td>0.997633</td>\n",
       "      <td>1.000000</td>\n",
       "      <td>0.996125</td>\n",
       "      <td>0.993326</td>\n",
       "      <td>0.995254</td>\n",
       "      <td>0.991465</td>\n",
       "      <td>0.994151</td>\n",
       "    </tr>\n",
       "    <tr>\n",
       "      <th>6</th>\n",
       "      <td>0.996710</td>\n",
       "      <td>0.995076</td>\n",
       "      <td>0.996053</td>\n",
       "      <td>0.996064</td>\n",
       "      <td>0.996125</td>\n",
       "      <td>1.000000</td>\n",
       "      <td>0.990024</td>\n",
       "      <td>0.995677</td>\n",
       "      <td>0.991114</td>\n",
       "      <td>0.991410</td>\n",
       "    </tr>\n",
       "    <tr>\n",
       "      <th>7</th>\n",
       "      <td>0.996272</td>\n",
       "      <td>0.995539</td>\n",
       "      <td>0.994008</td>\n",
       "      <td>0.993638</td>\n",
       "      <td>0.993326</td>\n",
       "      <td>0.990024</td>\n",
       "      <td>1.000000</td>\n",
       "      <td>0.993523</td>\n",
       "      <td>0.986101</td>\n",
       "      <td>0.992629</td>\n",
       "    </tr>\n",
       "    <tr>\n",
       "      <th>8</th>\n",
       "      <td>0.996192</td>\n",
       "      <td>0.992972</td>\n",
       "      <td>0.995867</td>\n",
       "      <td>0.995081</td>\n",
       "      <td>0.995254</td>\n",
       "      <td>0.995677</td>\n",
       "      <td>0.993523</td>\n",
       "      <td>1.000000</td>\n",
       "      <td>0.986243</td>\n",
       "      <td>0.990790</td>\n",
       "    </tr>\n",
       "    <tr>\n",
       "      <th>9</th>\n",
       "      <td>0.992940</td>\n",
       "      <td>0.990914</td>\n",
       "      <td>0.993196</td>\n",
       "      <td>0.993778</td>\n",
       "      <td>0.991465</td>\n",
       "      <td>0.991114</td>\n",
       "      <td>0.986101</td>\n",
       "      <td>0.986243</td>\n",
       "      <td>1.000000</td>\n",
       "      <td>0.992047</td>\n",
       "    </tr>\n",
       "    <tr>\n",
       "      <th>10</th>\n",
       "      <td>0.996402</td>\n",
       "      <td>0.995226</td>\n",
       "      <td>0.996576</td>\n",
       "      <td>0.996097</td>\n",
       "      <td>0.994151</td>\n",
       "      <td>0.991410</td>\n",
       "      <td>0.992629</td>\n",
       "      <td>0.990790</td>\n",
       "      <td>0.992047</td>\n",
       "      <td>1.000000</td>\n",
       "    </tr>\n",
       "  </tbody>\n",
       "</table>\n",
       "</div>"
      ],
      "text/plain": [
       "          1         2         3         4         5         6         7   \\\n",
       "1   1.000000  0.998837  0.999169  0.997681  0.997130  0.996710  0.996272   \n",
       "2   0.998837  1.000000  0.997355  0.996017  0.995838  0.995076  0.995539   \n",
       "3   0.999169  0.997355  1.000000  0.997309  0.997189  0.996053  0.994008   \n",
       "4   0.997681  0.996017  0.997309  1.000000  0.997633  0.996064  0.993638   \n",
       "5   0.997130  0.995838  0.997189  0.997633  1.000000  0.996125  0.993326   \n",
       "6   0.996710  0.995076  0.996053  0.996064  0.996125  1.000000  0.990024   \n",
       "7   0.996272  0.995539  0.994008  0.993638  0.993326  0.990024  1.000000   \n",
       "8   0.996192  0.992972  0.995867  0.995081  0.995254  0.995677  0.993523   \n",
       "9   0.992940  0.990914  0.993196  0.993778  0.991465  0.991114  0.986101   \n",
       "10  0.996402  0.995226  0.996576  0.996097  0.994151  0.991410  0.992629   \n",
       "\n",
       "          8         9         10  \n",
       "1   0.996192  0.992940  0.996402  \n",
       "2   0.992972  0.990914  0.995226  \n",
       "3   0.995867  0.993196  0.996576  \n",
       "4   0.995081  0.993778  0.996097  \n",
       "5   0.995254  0.991465  0.994151  \n",
       "6   0.995677  0.991114  0.991410  \n",
       "7   0.993523  0.986101  0.992629  \n",
       "8   1.000000  0.986243  0.990790  \n",
       "9   0.986243  1.000000  0.992047  \n",
       "10  0.990790  0.992047  1.000000  "
      ]
     },
     "execution_count": 329,
     "metadata": {},
     "output_type": "execute_result"
    }
   ],
   "source": [
    "# (X*)'(X*) 矩阵等价于原始矩阵 X 样本相关矩阵\n",
    "R = df.corr()\n",
    "R = R.iloc[1:-1,1:-1]\n",
    "\n",
    "# 求 (X*)'(X*) 矩阵，结果与样本相关矩阵一致\n",
    "# R1 = X_std.T @ X_std\n",
    "# R1 = pd.DataFrame(R1[1:,1:])\n",
    "\n",
    "R"
   ]
  },
  {
   "cell_type": "code",
   "execution_count": 330,
   "id": "fd4fbf0a",
   "metadata": {},
   "outputs": [
    {
     "data": {
      "text/plain": [
       "<AxesSubplot:>"
      ]
     },
     "execution_count": 330,
     "metadata": {},
     "output_type": "execute_result"
    },
    {
     "data": {
      "image/png": "[encoded data removed]",
      "text/plain": [
       "<Figure size 432x288 with 2 Axes>"
      ]
     },
     "metadata": {
      "needs_background": "light"
     },
     "output_type": "display_data"
    }
   ],
   "source": [
    "sns.heatmap(R, cmap='Blues', annot=True) # annot: 在heatmap中每个方格写入数据"
   ]
  },
  {
   "cell_type": "code",
   "execution_count": 331,
   "id": "0136b385",
   "metadata": {},
   "outputs": [
    {
     "name": "stdout",
     "output_type": "stream",
     "text": [
      "特征值:  [9.95055232e+00 1.69971559e-02 1.21413841e-02 5.77861587e-03\n",
      " 5.35073424e-03 4.02693965e-03 2.09355621e-04 2.54955283e-03\n",
      " 8.21463332e-04 1.57247878e-03]\n",
      "VIF方法判断结果(阈值为 5): \n",
      "设计矩阵 X 存在多重共线性.\n",
      "\n",
      "特征值判定法判断结果(阈值为 10): \n",
      "设计矩阵 X 存在多重共线性，其中kappa值为：218.0124\n"
     ]
    }
   ],
   "source": [
    "# 求特征值 & 特征向量\n",
    "W, V = np.linalg.eig(R)\n",
    "W_diag = np.diag(W)\n",
    "V = V.T # 这里需要转置\n",
    "print('特征值: ', W)\n",
    "\n",
    "# 定义\"判断多重共线性\"的函数\n",
    "# 参数: (X_list: 设计矩阵 X, thres_vif: VIF 方法判断多重共线性的阈值, thres_kappa: 特征值方法判断多重共线性的阈值)\n",
    "def judge_col(X_list, thres_vif, thres_kappa): \n",
    "    var_num = X_list.shape[1]\n",
    "    print('VIF方法判断结果(阈值为 %d): '% thres_vif)\n",
    "    vif = [variance_inflation_factor(X_list, i) for i in range(var_num)]\n",
    "    for i in range(var_num):\n",
    "        if vif[i] >= thres_vif:\n",
    "            print('设计矩阵 X 存在多重共线性.')\n",
    "            break\n",
    "        elif i == var_num-1:\n",
    "            print('设计矩阵 X 不存在多重共线性.')\n",
    "\n",
    "    print('\\n特征值判定法判断结果(阈值为 %d): '% thres_kappa)\n",
    "    kappa = []\n",
    "    for i in range(var_num):\n",
    "        kappa.append(np.sqrt(max(W) / W[i]))\n",
    "    if np.max(kappa) >= thres_kappa:\n",
    "        print('设计矩阵 X 存在多重共线性，其中kappa值为：%.4f'% np.max(kappa))\n",
    "    else:\n",
    "        print('设计矩阵 X 不存在多重共线性，其中kappa值为：%.4f'% np.max(kappa))\n",
    "\n",
    "# 判断多重共线性\n",
    "X_std1 = X_std[:,1:p+1]\n",
    "beta_std_hat1 = beta_std_hat[1:p+1]\n",
    "judge_col(X_std1, 5, 10)\n"
   ]
  },
  {
   "cell_type": "code",
   "execution_count": 332,
   "id": "10c0f06b",
   "metadata": {},
   "outputs": [
    {
     "data": {
      "application/vnd.jupyter.widget-view+json": {
       "model_id": "c3cecc89e6df4bc98da62c8fd098b51f",
       "version_major": 2,
       "version_minor": 0
      },
      "text/plain": [
       "interactive(children=(IntSlider(value=1, description='K', min=1), Output()), _dom_classes=('widget-interact',)…"
      ]
     },
     "metadata": {},
     "output_type": "display_data"
    },
    {
     "data": {
      "text/plain": [
       "<function __main__.RR(K=1)>"
      ]
     },
     "execution_count": 332,
     "metadata": {},
     "output_type": "execute_result"
    }
   ],
   "source": [
    "def RR(K = 1):\n",
    "    # 计算岭估计\n",
    "    rang1 = []\n",
    "    for i in range(K):\n",
    "        rang1.append(i/K)\n",
    "    coefs_1 = []\n",
    "    for k in rang1:\n",
    "        temp1 = np.linalg.inv(X_std1.T @ X_std1 + k * np.eye(p)) @ X_std1.T @ Y_std\n",
    "        coefs_1.append(temp1)\n",
    "\n",
    "    # print('参数的数值: ', coefs_1)\n",
    "    coefs_1 = np.array(coefs_1)\n",
    "    x1 = range(K)\n",
    "    for i in range(p):\n",
    "        plt.plot(x1, coefs_1[:,i], label = 'X%d'%(i+1))\n",
    "        plt.text(x1[-1], coefs_1[-1,i], '%.4f' % float(coefs_1[-1,i]), fontsize=8)\n",
    "\n",
    "    plt.legend(loc = 'best')\n",
    "\n",
    "interact(RR,K=(1,100))"
   ]
  },
  {
   "cell_type": "code",
   "execution_count": 333,
   "id": "75bea414",
   "metadata": {
    "scrolled": true
   },
   "outputs": [
    {
     "data": {
      "application/vnd.jupyter.widget-view+json": {
       "model_id": "f1692eaef7984da2944902d623509330",
       "version_major": 2,
       "version_minor": 0
      },
      "text/plain": [
       "interactive(children=(IntSlider(value=1, description='K', min=1), Output()), _dom_classes=('widget-interact',)…"
      ]
     },
     "metadata": {},
     "output_type": "display_data"
    },
    {
     "data": {
      "text/plain": [
       "<function __main__.RR(K=1)>"
      ]
     },
     "execution_count": 333,
     "metadata": {},
     "output_type": "execute_result"
    }
   ],
   "source": [
    "def RR(K = 1):\n",
    "    # 调包: linear_model  \n",
    "    # 初始化一个Ridge Regression\n",
    "    clf = linear_model.Ridge(fit_intercept=False)\n",
    "\n",
    "    # 训练模型: 测试不同的lambda取值，获得系数\n",
    "    rang2 = []\n",
    "    for i in range(K):\n",
    "        rang2.append(i/K)\n",
    "    coefs_2 = []\n",
    "    for k in rang2:\n",
    "        clf.set_params(alpha=k)\n",
    "        clf.fit(X_std1, Y_std)\n",
    "        coefs_2.append(clf.coef_)\n",
    "\n",
    "    # print('参数的数值: ', coefs_2)\n",
    "    x2 = range(K)\n",
    "    coefs_2 = np.array(coefs_2)\n",
    "    for i in range(p):\n",
    "        plt.plot(x2, coefs_2[:,i], label = 'X%d'%(i+1))\n",
    "        plt.text(x2[-1], coefs_2[-1,i], '%.4f' % float(coefs_2[-1,i]), fontsize=8)\n",
    "\n",
    "    plt.legend(loc = 'right')\n",
    "\n",
    "interact(RR,K=(1,100))"
   ]
  },
  {
   "cell_type": "code",
   "execution_count": 334,
   "id": "a484317c",
   "metadata": {},
   "outputs": [
    {
     "data": {
      "application/vnd.jupyter.widget-view+json": {
       "model_id": "0a8255ccabc2430a8fbff519e749e6bb",
       "version_major": 2,
       "version_minor": 0
      },
      "text/plain": [
       "interactive(children=(IntSlider(value=1, description='K', max=30, min=1), Output()), _dom_classes=('widget-int…"
      ]
     },
     "metadata": {},
     "output_type": "display_data"
    },
    {
     "data": {
      "text/plain": [
       "<function __main__.RR(K=1)>"
      ]
     },
     "execution_count": 334,
     "metadata": {},
     "output_type": "execute_result"
    }
   ],
   "source": [
    "def RR(K = 1):\n",
    "    clf = linear_model.Ridge(fit_intercept=False)\n",
    "    \n",
    "    coefs_3 = []\n",
    "    num_lambda3 = K\n",
    "    for k in range(num_lambda3):\n",
    "        clf.set_params(alpha=np.exp(k-10))\n",
    "        clf.fit(X_std1, Y_std)\n",
    "        coefs_3.append(clf.coef_)\n",
    "\n",
    "    # print('参数的数值：', coefs_3)\n",
    "    x3 = range(num_lambda3)\n",
    "    coefs_3 = np.array(coefs_3)\n",
    "    for i in range(p):\n",
    "        plt.plot(x3, coefs_3[:,i], label = 'X%d'%(i+1))\n",
    "        plt.text(x3[-1], coefs_3[-1,i], '%.4f' % float(coefs_3[-1,i]), fontsize=8)\n",
    "\n",
    "    plt.legend(loc = 'best')\n",
    "\n",
    "interact(RR,K=(1,30))"
   ]
  },
  {
   "cell_type": "code",
   "execution_count": 335,
   "id": "059f4a78",
   "metadata": {},
   "outputs": [
    {
     "name": "stdout",
     "output_type": "stream",
     "text": [
      "alpha的数值 :  0.1\n",
      "参数的数值： [0.09836055 0.09206843 0.09979699 0.10130156 0.09749761 0.09776615\n",
      " 0.09837664 0.10228175 0.10300073 0.10192511]\n"
     ]
    }
   ],
   "source": [
    "# 初始化一个Ridge Cross-Validation Regression\n",
    "clf_cv = linear_model.RidgeCV(fit_intercept=False)\n",
    " \n",
    "# 训练模型\n",
    "clf_cv.fit(X_std1, Y_std)\n",
    "\n",
    "k_cv = clf_cv.alpha_\n",
    "coef_cv = clf_cv.coef_ \n",
    "print( 'alpha的数值 : ', clf_cv.alpha_)\n",
    "print('参数的数值：', clf_cv.coef_)"
   ]
  },
  {
   "cell_type": "code",
   "execution_count": 336,
   "id": "8ccfb1a2",
   "metadata": {},
   "outputs": [
    {
     "name": "stdout",
     "output_type": "stream",
     "text": [
      "[0.09836055 0.09206843 0.09979699 0.10130156 0.09749761 0.09776615\n",
      " 0.09837664 0.10228175 0.10300073 0.10192511]\n",
      "[0.09836055 0.09206843 0.09979699 0.10130156 0.09749761 0.09776615\n",
      " 0.09837664 0.10228175 0.10300073 0.10192511]\n",
      "差异:  [-3.46944695e-16 -4.78783679e-15  3.60822483e-16  5.27355937e-16\n",
      " -1.04083409e-15 -2.01227923e-15 -1.72084569e-15  1.33226763e-15\n",
      " -1.38777878e-15 -3.88578059e-16]\n"
     ]
    }
   ],
   "source": [
    "# 验证岭估计和最小二乘估计之间的关系\n",
    "thres_k = int(k_cv * 100)\n",
    "print(coef_cv)\n",
    "\n",
    "C1 = X_std1.T @ X_std1\n",
    "C2 = np.linalg.inv(C1 + k_cv * np.eye(p))\n",
    "C3 = C2 @ C1\n",
    "print(C3 @ beta_std_hat1)\n",
    "\n",
    "diff = coef_cv - C3 @ beta_std_hat1\n",
    "print('差异: ', diff)\n"
   ]
  },
  {
   "cell_type": "code",
   "execution_count": 337,
   "id": "89033e53",
   "metadata": {},
   "outputs": [
    {
     "name": "stdout",
     "output_type": "stream",
     "text": [
      "岭参数为:  0.049787068367863944\n",
      "对应的岭估计:  [0.09797931 0.08597558 0.10067103 0.10349848 0.09627766 0.09694984\n",
      " 0.09856387 0.10580104 0.1067853  0.10487532]\n"
     ]
    },
    {
     "data": {
      "image/png": "[encoded data removed]",
      "text/plain": [
       "<Figure size 432x288 with 1 Axes>"
      ]
     },
     "metadata": {
      "needs_background": "light"
     },
     "output_type": "display_data"
    }
   ],
   "source": [
    "coefs_4 = []\n",
    "thres_vif = 5\n",
    "num_lambda4 = 30\n",
    "judge = True\n",
    "for k in range(num_lambda4):\n",
    "    cnt = 0\n",
    "    C = np.linalg.inv(C1 + np.exp(k-10) * np.eye(p)) @ C1 @np.linalg.inv(C1 + np.exp(k-10) * np.eye(p))\n",
    "    # print(k, C)\n",
    "    temp4 = np.linalg.inv(X_std1.T @ X_std1 + np.exp(k-10) * np.eye(p)) @ X_std1.T @ Y_std\n",
    "    coefs_4.append(temp4)\n",
    "    \n",
    "    # 给定 k, 使得所有方差扩大因子 C[j][j] <= thres_vif\n",
    "    for j in range(p):\n",
    "        if C[j][j] < thres_vif:\n",
    "            cnt += 1\n",
    "        else:\n",
    "            break\n",
    "    if cnt == p:\n",
    "        k4 = np.exp(k-10)\n",
    "        print('岭参数为: ', np.exp(k-10))\n",
    "        print('对应的岭估计: ', temp4)\n",
    "        break\n",
    "\n",
    "coef_4 = temp4\n",
    "# print('参数的数值：', coefs_4)\n",
    "x4 = range(k+1)  # 以 k 作为横坐标\n",
    "# x4 = []  # 以 np.exp(k) 作为横坐标\n",
    "# for i in range(k+1):\n",
    "#      x4.append(np.exp(i-10))\n",
    "coefs_4 = np.array(coefs_4)\n",
    "for i in range(p):\n",
    "    plt.plot(x4, coefs_4[:,i], label = 'X%d'%(i+1))\n",
    "\n",
    "plt.legend(loc = 'best')\n",
    "plt.show()"
   ]
  },
  {
   "cell_type": "code",
   "execution_count": 338,
   "id": "28a654a2",
   "metadata": {},
   "outputs": [
    {
     "name": "stdout",
     "output_type": "stream",
     "text": [
      "岭参数 k_HK:  9.810079636913347e-05\n",
      "对应的岭估计:  [ 0.2269792  -0.13293067  0.10215909  0.13751099  0.05110871  0.09813563\n",
      "  0.12659079  0.12037303  0.12536112  0.1470881 ]\n"
     ]
    }
   ],
   "source": [
    "SSE = sum((Y_std - Y_std_hat) ** 2)\n",
    "sigma2 = SSE / (n - p - 1)\n",
    "sigma = np.sqrt(sigma2)\n",
    "\n",
    "Z = X_std1 @ V.T\n",
    "alpha_hat = np.linalg.inv(W_diag) @ Z.T @ Y_std\n",
    "# print(alpha_hat)\n",
    "\n",
    "k_HK = sigma2 / max(alpha_hat**2)\n",
    "k5 = k_HK\n",
    "print('岭参数 k_HK: ', k5)\n",
    "coef_5 = np.linalg.inv(X_std1.T @ X_std1 + k5 * np.eye(p)) @ X_std1.T @ Y_std\n",
    "print('对应的岭估计: ', coef_5)\n"
   ]
  },
  {
   "cell_type": "code",
   "execution_count": 339,
   "id": "009bb1e1",
   "metadata": {},
   "outputs": [
    {
     "name": "stdout",
     "output_type": "stream",
     "text": [
      "Q:  0.13727863062464785\n",
      "岭参数为:  4.5399929762484854e-05\n",
      "对应的岭估计:  [ 0.25628586 -0.14696565  0.09401904  0.13770916  0.05282923  0.09738181\n",
      "  0.12484073  0.11584388  0.12339744  0.14698696]\n"
     ]
    }
   ],
   "source": [
    "thres_diff = 0.2\n",
    "beta_compress = beta_std_hat1.T @ beta_std_hat1 - sigma2 * sum(1/W)\n",
    "if beta_compress <= 0:\n",
    "    k6 = 0\n",
    "    temp6 = []\n",
    "    print('k = 0, 不对最小二乘估计进行压缩.')\n",
    "else:\n",
    "    print('Q: ', beta_compress)\n",
    "    coefs_6 = []\n",
    "    num_lambda6 = 30\n",
    "    for k in range(num_lambda6):\n",
    "        temp6 = np.linalg.inv(X_std1.T @ X_std1 + np.exp(k-10) * np.eye(p)) @ X_std1.T @ Y_std\n",
    "        beta_k_compress = temp6.T @ temp6\n",
    "        if abs(beta_compress-beta_k_compress) < thres_diff:\n",
    "            k6 = np.exp(k-10)\n",
    "            print('岭参数为: ', k6)\n",
    "            print('对应的岭估计: ', temp6)\n",
    "            break\n",
    "coef_6 = temp6"
   ]
  },
  {
   "cell_type": "code",
   "execution_count": 340,
   "id": "e5dee61e",
   "metadata": {
    "scrolled": false
   },
   "outputs": [
    {
     "name": "stdout",
     "output_type": "stream",
     "text": [
      "原始的最小二乘估计 =  [15.91720387 -8.91283587  4.58225724  7.40249407  2.9158542   5.1110936\n",
      "  6.89220758  6.1967428   6.77035094  8.11402424]\n",
      "标准化后的最小二乘估计 =  [ 0.29317419 -0.16297807  0.08254587  0.13756679  0.05554162  0.0957215\n",
      "  0.12184902  0.11087377  0.12113044  0.1468422 ]\n",
      "原始 beta =  [ 1  2  3  4  5  6  7  8  9 10]\n",
      "岭估计 =  [0.09797931 0.08597558 0.10067103 0.10349848 0.09627766 0.09694984\n",
      " 0.09856387 0.10580104 0.1067853  0.10487532]\n",
      "还原岭估计 =  [5.31955662 4.70177504 5.58841498 5.56927211 5.05443663 5.17668134\n",
      " 5.57511801 5.91322758 5.96855736 5.79507033]\n"
     ]
    }
   ],
   "source": [
    "beta_rr = coef_4\n",
    "print('原始的最小二乘估计 = ', beta_hat[1:p+1])\n",
    "print('标准化后的最小二乘估计 = ', beta_std_hat1)\n",
    "\n",
    "print('原始 beta = ', beta[1:p+1])\n",
    "print('岭估计 = ', beta_rr)\n",
    "print('还原岭估计 = ', beta_rr *  np.sqrt(Y_L) / np.sqrt(X_L))\n"
   ]
  },
  {
   "cell_type": "code",
   "execution_count": null,
   "id": "35c9fbc0",
   "metadata": {},
   "outputs": [],
   "source": []
  }
 ],
 "metadata": {
  "kernelspec": {
   "display_name": "Python 3",
   "language": "python",
   "name": "python3"
  },
  "language_info": {
   "codemirror_mode": {
    "name": "ipython",
    "version": 3
   },
   "file_extension": ".py",
   "mimetype": "text/x-python",
   "name": "python",
   "nbconvert_exporter": "python",
   "pygments_lexer": "ipython3",
   "version": "3.8.8"
  }
 },
 "nbformat": 4,
 "nbformat_minor": 5
}
