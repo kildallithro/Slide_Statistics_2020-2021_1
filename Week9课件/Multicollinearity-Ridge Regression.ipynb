{
 "cells": [
  {
   "cell_type": "markdown",
   "id": "22e2cb44",
   "metadata": {},
   "source": [
    "# Week9 Multicollinearity-Ridge Regression\n",
    "## 背景描述  \n",
    "由于多重共线性的问题本质上在于 $|X^{'}X|\\approx 0$, 因此岭回归的本质就是在这个矩阵上做了手脚, 使得多重共线性的问题得到一定的缓解.  \n",
    "这里我们建立多元线性回归模型: $y=10+2*x_1+4*x_2+6*x_3+\\epsilon$, 我们人工给定 10 个值和 10 个满足正态分布的 $\\epsilon$, 使得其中 $x_2, x_3$ 具有强线性相关性.  \n",
    "由此我们构造了 10 个观测的 3 个变量，具体请见下表：\n",
    "\n",
    "## 数据描述\n",
    "| var | 1 | 2 | 3 | 4 | 5 | 6 | 7 | 8 | 9 | 10 |\n",
    "| :----------------: | :----------: | :----------: | :----------: | :----------: | :----------: | :----------: | :----------: | :----------: | :----------: | :----------: |\n",
    "| X1 | 1.5718740298258436 | 1.47315452346823 | 1.494091364549579 | 1.3649047118088795 | 1.919701805472498 | 1.4490605381137815 | 1.4977902773941874 | 1.830735451466069 | 1.7799850780870465 | 1.2193634132656626 |\n",
    "| X2 | 1.1 | 1.4 | 1.7 | 1.7 | 1.8 | 1.8 | 1.9 | 2 | 2.3 | 2.4 |\n",
    "| X3 | 1.1 | 1.5 | 1.8 | 1.7 | 1.9 | 1.8 | 1.8 | 2.1 | 2.4 | 2.5 |\n",
    "| $\\epsilon$ | -2.64878115 | 2.85013449 | 0.23311989 | -2.61284165 | 1.66706173 | 0.94808545 | -0.46825671 | -2.34017741 | 1.36687176 | 1.40009598 |\n",
    "| Y | 21.49496691 | 30.39644354 | 30.82130262 | 27.11696777 | 34.10646534 | 31.84620653 | 30.92732384 | 31.92129349 | 38.52684192 | 38.43882281 |  \n"
   ]
  },
  {
   "cell_type": "markdown",
   "id": "16fca007",
   "metadata": {},
   "source": [
    "## 参数设置如下:   \n",
    "1. 样本量 n = 10\n",
    "2. 变量个数 p = 3\n",
    "3. 自变量 $x_1$ 的波动 $\\sigma_{x_1}=0.2$\n",
    "4. 误差的波动 $\\sigma_y=1$"
   ]
  },
  {
   "cell_type": "markdown",
   "id": "7ecbeb9d",
   "metadata": {},
   "source": [
    "## 问题\n",
    "1. 判断所给数据是否具有多重共线性.\n",
    "2. 若具有多重共线性, 选择适当的岭参数.\n",
    "3. 进行岭回归分析.\n",
    "\n",
    "\n",
    "## 解决方案"
   ]
  },
  {
   "cell_type": "markdown",
   "id": "cd60e42d",
   "metadata": {},
   "source": [
    "**Q1：**  "
   ]
  },
  {
   "cell_type": "markdown",
   "id": "f310e80c",
   "metadata": {},
   "source": [
    "**仿真实验**"
   ]
  },
  {
   "cell_type": "code",
   "execution_count": 29,
   "id": "58395723",
   "metadata": {},
   "outputs": [
    {
     "name": "stdout",
     "output_type": "stream",
     "text": [
      "     0         1    2    3          Y\n",
      "0  1.0  1.571874  1.1  1.1  21.494967\n",
      "1  1.0  1.473155  1.4  1.5  30.396444\n",
      "2  1.0  1.494091  1.7  1.8  30.821303\n",
      "3  1.0  1.364905  1.7  1.7  27.116968\n",
      "4  1.0  1.919702  1.8  1.9  34.106465\n"
     ]
    }
   ],
   "source": [
    "# Import standard packages\n",
    "import numpy as np\n",
    "import pandas as pd\n",
    "import scipy.stats as stats\n",
    "import matplotlib.pyplot as plt\n",
    "import seaborn as sns \n",
    "\n",
    "# Import additional packages\n",
    "from itertools import combinations\n",
    "import statsmodels.api as sm\n",
    "from statsmodels.stats.outliers_influence import variance_inflation_factor\n",
    "from sklearn import linear_model  # 进行岭回归分析\n",
    "from ipywidgets import interact  # 互动功能\n",
    "%matplotlib inline \n",
    "\n",
    "p = 3\n",
    "n = 10\n",
    "\n",
    "# 上帝视角下的beta: 截距项为 10，三个变量前的系数分别为 2，4,6\n",
    "beta = [10]\n",
    "for i in range(p):\n",
    "    beta.append((i+1)*2)\n",
    "beta = np.array(beta)\n",
    "# print(beta)\n",
    "\n",
    "# 构造 X 矩阵\n",
    "X = [[1.5718740298258436, 1.47315452346823, 1.494091364549579, 1.3649047118088795, 1.919701805472498, 1.4490605381137815, 1.4977902773941874, 1.830735451466069, 1.7799850780870465, 1.2193634132656626]]\n",
    "# X = np.random.normal(loc=1.5 , scale=0.2, size=(1,n)).tolist()\n",
    "X.append([1.1, 1.4, 1.7, 1.7, 1.8, 1.8, 1.9, 2, 2.3, 2.4])\n",
    "X.append([1.1, 1.5, 1.8, 1.7, 1.9, 1.8, 1.8, 2.1, 2.4, 2.5])\n",
    "X.insert(0, np.ones(n))\n",
    "X = np.array(X)\n",
    "X = X.T \n",
    "# print(X)\n",
    "\n",
    "# 生成 10 个满足正态分布的 epsilon 值\n",
    "epsilon = [-2.64878115, 2.85013449, 0.23311989, -2.61284165, 1.66706173, 0.94808545, -0.46825671, -2.34017741, 1.36687176, 1.40009598]\n",
    "# epsilon = np.random.normal(loc =0.0 , scale= 1, size = (1,n))\n",
    "# print(epsilon)\n",
    "\n",
    "# 上帝视角下的Y\n",
    "Y = X @ beta + epsilon\n",
    "# Y = X @ beta + epsilon[0] # 由于 np.random.normal 生成的列表中的元素仍是一个列表\n",
    "Y = Y.T\n",
    "# print(Y)\n",
    "\n",
    "df = pd.DataFrame(X)\n",
    "df['Y'] = Y\n",
    "print(df.head())"
   ]
  },
  {
   "cell_type": "markdown",
   "id": "e9067917",
   "metadata": {},
   "source": [
    "**对原始数据进行多元线性回归分析**"
   ]
  },
  {
   "cell_type": "code",
   "execution_count": 3,
   "id": "121e33e7",
   "metadata": {},
   "outputs": [
    {
     "name": "stderr",
     "output_type": "stream",
     "text": [
      "D:\\Program_Files\\Anaconda3\\lib\\site-packages\\scipy\\stats\\stats.py:1603: UserWarning: kurtosistest only valid for n>=20 ... continuing anyway, n=10\n",
      "  warnings.warn(\"kurtosistest only valid for n>=20 ... continuing \"\n"
     ]
    },
    {
     "data": {
      "text/html": [
       "<table class=\"simpletable\">\n",
       "<caption>OLS Regression Results</caption>\n",
       "<tr>\n",
       "  <th>Dep. Variable:</th>            <td>y</td>        <th>  R-squared:         </th> <td>   0.881</td>\n",
       "</tr>\n",
       "<tr>\n",
       "  <th>Model:</th>                   <td>OLS</td>       <th>  Adj. R-squared:    </th> <td>   0.822</td>\n",
       "</tr>\n",
       "<tr>\n",
       "  <th>Method:</th>             <td>Least Squares</td>  <th>  F-statistic:       </th> <td>   14.86</td>\n",
       "</tr>\n",
       "<tr>\n",
       "  <th>Date:</th>             <td>Sat, 24 Apr 2021</td> <th>  Prob (F-statistic):</th>  <td>0.00349</td>\n",
       "</tr>\n",
       "<tr>\n",
       "  <th>Time:</th>                 <td>23:28:42</td>     <th>  Log-Likelihood:    </th> <td> -19.118</td>\n",
       "</tr>\n",
       "<tr>\n",
       "  <th>No. Observations:</th>      <td>    10</td>      <th>  AIC:               </th> <td>   46.24</td>\n",
       "</tr>\n",
       "<tr>\n",
       "  <th>Df Residuals:</th>          <td>     6</td>      <th>  BIC:               </th> <td>   47.45</td>\n",
       "</tr>\n",
       "<tr>\n",
       "  <th>Df Model:</th>              <td>     3</td>      <th>                     </th>     <td> </td>   \n",
       "</tr>\n",
       "<tr>\n",
       "  <th>Covariance Type:</th>      <td>nonrobust</td>    <th>                     </th>     <td> </td>   \n",
       "</tr>\n",
       "</table>\n",
       "<table class=\"simpletable\">\n",
       "<tr>\n",
       "    <td></td>       <th>coef</th>     <th>std err</th>      <th>t</th>      <th>P>|t|</th>  <th>[0.025</th>    <th>0.975]</th>  \n",
       "</tr>\n",
       "<tr>\n",
       "  <th>const</th> <td>    9.9236</td> <td>    6.358</td> <td>    1.561</td> <td> 0.170</td> <td>   -5.634</td> <td>   25.481</td>\n",
       "</tr>\n",
       "<tr>\n",
       "  <th>x1</th>    <td>    0.6571</td> <td>    3.376</td> <td>    0.195</td> <td> 0.852</td> <td>   -7.602</td> <td>    8.917</td>\n",
       "</tr>\n",
       "<tr>\n",
       "  <th>x2</th>    <td>   -7.1855</td> <td>   11.539</td> <td>   -0.623</td> <td> 0.556</td> <td>  -35.420</td> <td>   21.049</td>\n",
       "</tr>\n",
       "<tr>\n",
       "  <th>x3</th>    <td>   18.0735</td> <td>   10.866</td> <td>    1.663</td> <td> 0.147</td> <td>   -8.514</td> <td>   44.661</td>\n",
       "</tr>\n",
       "</table>\n",
       "<table class=\"simpletable\">\n",
       "<tr>\n",
       "  <th>Omnibus:</th>       <td> 0.844</td> <th>  Durbin-Watson:     </th> <td>   2.539</td>\n",
       "</tr>\n",
       "<tr>\n",
       "  <th>Prob(Omnibus):</th> <td> 0.656</td> <th>  Jarque-Bera (JB):  </th> <td>   0.661</td>\n",
       "</tr>\n",
       "<tr>\n",
       "  <th>Skew:</th>          <td>-0.297</td> <th>  Prob(JB):          </th> <td>   0.718</td>\n",
       "</tr>\n",
       "<tr>\n",
       "  <th>Kurtosis:</th>      <td> 1.889</td> <th>  Cond. No.          </th> <td>    77.3</td>\n",
       "</tr>\n",
       "</table><br/><br/>Notes:<br/>[1] Standard Errors assume that the covariance matrix of the errors is correctly specified."
      ],
      "text/plain": [
       "<class 'statsmodels.iolib.summary.Summary'>\n",
       "\"\"\"\n",
       "                            OLS Regression Results                            \n",
       "==============================================================================\n",
       "Dep. Variable:                      y   R-squared:                       0.881\n",
       "Model:                            OLS   Adj. R-squared:                  0.822\n",
       "Method:                 Least Squares   F-statistic:                     14.86\n",
       "Date:                Sat, 24 Apr 2021   Prob (F-statistic):            0.00349\n",
       "Time:                        23:28:42   Log-Likelihood:                -19.118\n",
       "No. Observations:                  10   AIC:                             46.24\n",
       "Df Residuals:                       6   BIC:                             47.45\n",
       "Df Model:                           3                                         \n",
       "Covariance Type:            nonrobust                                         \n",
       "==============================================================================\n",
       "                 coef    std err          t      P>|t|      [0.025      0.975]\n",
       "------------------------------------------------------------------------------\n",
       "const          9.9236      6.358      1.561      0.170      -5.634      25.481\n",
       "x1             0.6571      3.376      0.195      0.852      -7.602       8.917\n",
       "x2            -7.1855     11.539     -0.623      0.556     -35.420      21.049\n",
       "x3            18.0735     10.866      1.663      0.147      -8.514      44.661\n",
       "==============================================================================\n",
       "Omnibus:                        0.844   Durbin-Watson:                   2.539\n",
       "Prob(Omnibus):                  0.656   Jarque-Bera (JB):                0.661\n",
       "Skew:                          -0.297   Prob(JB):                        0.718\n",
       "Kurtosis:                       1.889   Cond. No.                         77.3\n",
       "==============================================================================\n",
       "\n",
       "Notes:\n",
       "[1] Standard Errors assume that the covariance matrix of the errors is correctly specified.\n",
       "\"\"\""
      ]
     },
     "execution_count": 3,
     "metadata": {},
     "output_type": "execute_result"
    }
   ],
   "source": [
    "model= sm.OLS(Y, X).fit()\n",
    "Y_hat = model.fittedvalues\n",
    "beta_hat = model.params\n",
    "model.summary()"
   ]
  },
  {
   "cell_type": "markdown",
   "id": "35402918",
   "metadata": {},
   "source": [
    "**对数据标准化:**"
   ]
  },
  {
   "cell_type": "code",
   "execution_count": 4,
   "id": "5c12258d",
   "metadata": {},
   "outputs": [
    {
     "name": "stdout",
     "output_type": "stream",
     "text": [
      "     0         1         2         3         Y\n",
      "0  1.0  0.017937 -0.615880 -0.619712 -0.669646\n",
      "1  1.0 -0.132022 -0.355649 -0.293548 -0.077394\n",
      "2  1.0 -0.100218 -0.095418 -0.048925 -0.049126\n",
      "3  1.0 -0.296457 -0.095418 -0.130466 -0.295591\n",
      "4  1.0  0.546299 -0.008674  0.032616  0.169449\n"
     ]
    }
   ],
   "source": [
    "# 对数据进行标准化\n",
    "# 自变量 X 的均值\n",
    "X_mean = []\n",
    "for i in range(p):\n",
    "    X_mean.append(np.mean(X[:, i+1])) \n",
    "\n",
    "# 自变量 X 的标准差\n",
    "X_L = []\n",
    "for i in range(p):\n",
    "    X_L.append(sum((X[:, i+1] - X_mean[i]) ** 2))  \n",
    "\n",
    "# 对自变量 X 标准化(截距项不用标准化)\n",
    "X_std = X * 1.0\n",
    "X_std[:,1:p+1] = (X[:,1:p+1] - X_mean) / np.sqrt(X_L)\n",
    "\n",
    "# 对因变量 Y 标准化\n",
    "Y_L = sum((Y - np.mean(Y))**2)\n",
    "Y_std = (Y - np.mean(Y)) / np.sqrt(Y_L)\n",
    "\n",
    "df_std = pd.DataFrame(X_std)\n",
    "df_std['Y'] = Y_std\n",
    "print(df_std.head())"
   ]
  },
  {
   "cell_type": "markdown",
   "id": "bf29ee38",
   "metadata": {},
   "source": [
    "**对标准化后的数据进行多元线性回归分析**"
   ]
  },
  {
   "cell_type": "code",
   "execution_count": 5,
   "id": "f6cd76cb",
   "metadata": {},
   "outputs": [
    {
     "name": "stderr",
     "output_type": "stream",
     "text": [
      "D:\\Program_Files\\Anaconda3\\lib\\site-packages\\scipy\\stats\\stats.py:1603: UserWarning: kurtosistest only valid for n>=20 ... continuing anyway, n=10\n",
      "  warnings.warn(\"kurtosistest only valid for n>=20 ... continuing \"\n"
     ]
    },
    {
     "data": {
      "text/html": [
       "<table class=\"simpletable\">\n",
       "<caption>OLS Regression Results</caption>\n",
       "<tr>\n",
       "  <th>Dep. Variable:</th>            <td>y</td>        <th>  R-squared:         </th> <td>   0.881</td>\n",
       "</tr>\n",
       "<tr>\n",
       "  <th>Model:</th>                   <td>OLS</td>       <th>  Adj. R-squared:    </th> <td>   0.822</td>\n",
       "</tr>\n",
       "<tr>\n",
       "  <th>Method:</th>             <td>Least Squares</td>  <th>  F-statistic:       </th> <td>   14.86</td>\n",
       "</tr>\n",
       "<tr>\n",
       "  <th>Date:</th>             <td>Sat, 24 Apr 2021</td> <th>  Prob (F-statistic):</th>  <td>0.00349</td>\n",
       "</tr>\n",
       "<tr>\n",
       "  <th>Time:</th>                 <td>23:28:44</td>     <th>  Log-Likelihood:    </th> <td>  7.9824</td>\n",
       "</tr>\n",
       "<tr>\n",
       "  <th>No. Observations:</th>      <td>    10</td>      <th>  AIC:               </th> <td>  -7.965</td>\n",
       "</tr>\n",
       "<tr>\n",
       "  <th>Df Residuals:</th>          <td>     6</td>      <th>  BIC:               </th> <td>  -6.755</td>\n",
       "</tr>\n",
       "<tr>\n",
       "  <th>Df Model:</th>              <td>     3</td>      <th>                     </th>     <td> </td>   \n",
       "</tr>\n",
       "<tr>\n",
       "  <th>Covariance Type:</th>      <td>nonrobust</td>    <th>                     </th>     <td> </td>   \n",
       "</tr>\n",
       "</table>\n",
       "<table class=\"simpletable\">\n",
       "<tr>\n",
       "    <td></td>       <th>coef</th>     <th>std err</th>      <th>t</th>      <th>P>|t|</th>  <th>[0.025</th>    <th>0.975]</th>  \n",
       "</tr>\n",
       "<tr>\n",
       "  <th>const</th> <td> 1.457e-16</td> <td>    0.044</td> <td> 3.28e-15</td> <td> 1.000</td> <td>   -0.109</td> <td>    0.109</td>\n",
       "</tr>\n",
       "<tr>\n",
       "  <th>x1</th>    <td>    0.0288</td> <td>    0.148</td> <td>    0.195</td> <td> 0.852</td> <td>   -0.333</td> <td>    0.391</td>\n",
       "</tr>\n",
       "<tr>\n",
       "  <th>x2</th>    <td>   -0.5511</td> <td>    0.885</td> <td>   -0.623</td> <td> 0.556</td> <td>   -2.717</td> <td>    1.615</td>\n",
       "</tr>\n",
       "<tr>\n",
       "  <th>x3</th>    <td>    1.4747</td> <td>    0.887</td> <td>    1.663</td> <td> 0.147</td> <td>   -0.695</td> <td>    3.644</td>\n",
       "</tr>\n",
       "</table>\n",
       "<table class=\"simpletable\">\n",
       "<tr>\n",
       "  <th>Omnibus:</th>       <td> 0.844</td> <th>  Durbin-Watson:     </th> <td>   2.539</td>\n",
       "</tr>\n",
       "<tr>\n",
       "  <th>Prob(Omnibus):</th> <td> 0.656</td> <th>  Jarque-Bera (JB):  </th> <td>   0.661</td>\n",
       "</tr>\n",
       "<tr>\n",
       "  <th>Skew:</th>          <td>-0.297</td> <th>  Prob(JB):          </th> <td>   0.718</td>\n",
       "</tr>\n",
       "<tr>\n",
       "  <th>Kurtosis:</th>      <td> 1.889</td> <th>  Cond. No.          </th> <td>    28.1</td>\n",
       "</tr>\n",
       "</table><br/><br/>Notes:<br/>[1] Standard Errors assume that the covariance matrix of the errors is correctly specified."
      ],
      "text/plain": [
       "<class 'statsmodels.iolib.summary.Summary'>\n",
       "\"\"\"\n",
       "                            OLS Regression Results                            \n",
       "==============================================================================\n",
       "Dep. Variable:                      y   R-squared:                       0.881\n",
       "Model:                            OLS   Adj. R-squared:                  0.822\n",
       "Method:                 Least Squares   F-statistic:                     14.86\n",
       "Date:                Sat, 24 Apr 2021   Prob (F-statistic):            0.00349\n",
       "Time:                        23:28:44   Log-Likelihood:                 7.9824\n",
       "No. Observations:                  10   AIC:                            -7.965\n",
       "Df Residuals:                       6   BIC:                            -6.755\n",
       "Df Model:                           3                                         \n",
       "Covariance Type:            nonrobust                                         \n",
       "==============================================================================\n",
       "                 coef    std err          t      P>|t|      [0.025      0.975]\n",
       "------------------------------------------------------------------------------\n",
       "const       1.457e-16      0.044   3.28e-15      1.000      -0.109       0.109\n",
       "x1             0.0288      0.148      0.195      0.852      -0.333       0.391\n",
       "x2            -0.5511      0.885     -0.623      0.556      -2.717       1.615\n",
       "x3             1.4747      0.887      1.663      0.147      -0.695       3.644\n",
       "==============================================================================\n",
       "Omnibus:                        0.844   Durbin-Watson:                   2.539\n",
       "Prob(Omnibus):                  0.656   Jarque-Bera (JB):                0.661\n",
       "Skew:                          -0.297   Prob(JB):                        0.718\n",
       "Kurtosis:                       1.889   Cond. No.                         28.1\n",
       "==============================================================================\n",
       "\n",
       "Notes:\n",
       "[1] Standard Errors assume that the covariance matrix of the errors is correctly specified.\n",
       "\"\"\""
      ]
     },
     "execution_count": 5,
     "metadata": {},
     "output_type": "execute_result"
    }
   ],
   "source": [
    "# Do the multiple linear regression——对标准化后的数据\n",
    "model_std = sm.OLS(Y_std, X_std).fit()\n",
    "beta_std_hat = model_std.params\n",
    "Y_std_hat = model_std.fittedvalues\n",
    "model_std.summary()"
   ]
  },
  {
   "cell_type": "markdown",
   "id": "ad6c34bf",
   "metadata": {},
   "source": [
    "**求 $(X^*)^{'}(X^*)$ 矩阵的特征值和特征向量:**"
   ]
  },
  {
   "cell_type": "code",
   "execution_count": 25,
   "id": "050dbff5",
   "metadata": {},
   "outputs": [
    {
     "data": {
      "text/html": [
       "<div>\n",
       "<style scoped>\n",
       "    .dataframe tbody tr th:only-of-type {\n",
       "        vertical-align: middle;\n",
       "    }\n",
       "\n",
       "    .dataframe tbody tr th {\n",
       "        vertical-align: top;\n",
       "    }\n",
       "\n",
       "    .dataframe thead th {\n",
       "        text-align: right;\n",
       "    }\n",
       "</style>\n",
       "<table border=\"1\" class=\"dataframe\">\n",
       "  <thead>\n",
       "    <tr style=\"text-align: right;\">\n",
       "      <th></th>\n",
       "      <th>1</th>\n",
       "      <th>2</th>\n",
       "      <th>3</th>\n",
       "    </tr>\n",
       "  </thead>\n",
       "  <tbody>\n",
       "    <tr>\n",
       "      <th>1</th>\n",
       "      <td>1.000000</td>\n",
       "      <td>0.007981</td>\n",
       "      <td>0.059390</td>\n",
       "    </tr>\n",
       "    <tr>\n",
       "      <th>2</th>\n",
       "      <td>0.007981</td>\n",
       "      <td>1.000000</td>\n",
       "      <td>0.985999</td>\n",
       "    </tr>\n",
       "    <tr>\n",
       "      <th>3</th>\n",
       "      <td>0.059390</td>\n",
       "      <td>0.985999</td>\n",
       "      <td>1.000000</td>\n",
       "    </tr>\n",
       "  </tbody>\n",
       "</table>\n",
       "</div>"
      ],
      "text/plain": [
       "          1         2         3\n",
       "1  1.000000  0.007981  0.059390\n",
       "2  0.007981  1.000000  0.985999\n",
       "3  0.059390  0.985999  1.000000"
      ]
     },
     "execution_count": 25,
     "metadata": {},
     "output_type": "execute_result"
    }
   ],
   "source": [
    "# (X*)'(X*) 矩阵等价于原始矩阵 X 样本相关矩阵\n",
    "R = df.corr()\n",
    "R = R.iloc[1:-1,1:-1]\n",
    "\n",
    "R"
   ]
  },
  {
   "cell_type": "code",
   "execution_count": 26,
   "id": "b16a7934",
   "metadata": {},
   "outputs": [
    {
     "data": {
      "text/plain": [
       "<AxesSubplot:>"
      ]
     },
     "execution_count": 26,
     "metadata": {},
     "output_type": "execute_result"
    },
    {
     "data": {
      "image/png": "[encoded data removed]",
      "text/plain": [
       "<Figure size 432x288 with 2 Axes>"
      ]
     },
     "metadata": {
      "needs_background": "light"
     },
     "output_type": "display_data"
    }
   ],
   "source": [
    "sns.heatmap(R, cmap='Blues', annot=True) # annot: 在heatmap中每个方格写入数据"
   ]
  },
  {
   "cell_type": "code",
   "execution_count": 8,
   "id": "e0b9d5d1",
   "metadata": {},
   "outputs": [
    {
     "name": "stdout",
     "output_type": "stream",
     "text": [
      "特征值:  [0.9990421  1.9882966  0.01266129]\n"
     ]
    }
   ],
   "source": [
    "# 求特征值 & 特征向量\n",
    "W, V = np.linalg.eig(R)\n",
    "W_diag = np.diag(W)\n",
    "V = V.T # 这里需要转置\n",
    "print('特征值: ', W)"
   ]
  },
  {
   "cell_type": "markdown",
   "id": "c04dcebd",
   "metadata": {},
   "source": [
    "**判断 X 矩阵是否具有多重共线性:**"
   ]
  },
  {
   "cell_type": "code",
   "execution_count": 9,
   "id": "6e496f42",
   "metadata": {},
   "outputs": [
    {
     "name": "stdout",
     "output_type": "stream",
     "text": [
      "VIF方法判断结果(阈值为 5): \n",
      "设计矩阵 X 存在多重共线性.\n",
      "\n",
      "特征值判定法判断结果(阈值为 10): \n",
      "设计矩阵 X 存在多重共线性，其中kappa值为：12.5315\n"
     ]
    }
   ],
   "source": [
    "# 定义\"判断多重共线性\"的函数\n",
    "# 参数: (X_list: 设计矩阵 X, thres_vif: VIF 方法判断多重共线性的阈值, thres_kappa: 特征值方法判断多重共线性的阈值)\n",
    "def judge_col(X_list, thres_vif, thres_kappa): \n",
    "    var_num = X_list.shape[1]\n",
    "    print('VIF方法判断结果(阈值为 %d): '% thres_vif)\n",
    "    vif = [variance_inflation_factor(X_list, i) for i in range(var_num)]\n",
    "    for i in range(var_num):\n",
    "        if vif[i] >= thres_vif:\n",
    "            print('设计矩阵 X 存在多重共线性.')\n",
    "            break\n",
    "        elif i == var_num-1:\n",
    "            print('设计矩阵 X 不存在多重共线性.')\n",
    "\n",
    "    print('\\n特征值判定法判断结果(阈值为 %d): '% thres_kappa)\n",
    "    kappa = []\n",
    "    for i in range(var_num):\n",
    "        kappa.append(np.sqrt(max(W) / W[i]))\n",
    "    if np.max(kappa) >= thres_kappa:\n",
    "        print('设计矩阵 X 存在多重共线性，其中kappa值为：%.4f'% np.max(kappa))\n",
    "    else:\n",
    "        print('设计矩阵 X 不存在多重共线性，其中kappa值为：%.4f'% np.max(kappa))\n",
    "\n",
    "# 判断多重共线性\n",
    "X_std1 = X_std[:,1:p+1] # 将 X 矩阵的截距项去掉\n",
    "beta_std_hat1 = beta_std_hat[1:p+1] # 将 β_0 去掉 \n",
    "judge_col(X_std1, 5, 10) # 判断多重共线性\n"
   ]
  },
  {
   "cell_type": "markdown",
   "id": "8e581a7c",
   "metadata": {},
   "source": [
    "**Q2:**  \n",
    "岭参数 $k$ 选择(模型选择)的方法:   \n",
    "1. 岭迹法\n",
    "2. 方差扩大因子法\n",
    "3. 霍尔-肯纳德（Hoerl-Kennad）公式\n",
    "4. Mcdorard-Garaneau 公式"
   ]
  },
  {
   "cell_type": "markdown",
   "id": "f9b77161",
   "metadata": {},
   "source": [
    "1. 岭迹法  \n",
    "岭迹法的一般原则:   \n",
    "· 系数岭估计基本稳定;    \n",
    "· 最小二乘回归下符号不合理的回归系数, 在岭估计的意义下符号变得合理;    \n",
    "· 回归系数合乎经济意义;  \n",
    "· 残差平方和不会增大太多."
   ]
  },
  {
   "cell_type": "code",
   "execution_count": 20,
   "id": "e347d259",
   "metadata": {
    "scrolled": true
   },
   "outputs": [
    {
     "data": {
      "application/vnd.jupyter.widget-view+json": {
       "model_id": "903e23fd211c4a909accfc686a476167",
       "version_major": 2,
       "version_minor": 0
      },
      "text/plain": [
       "interactive(children=(IntSlider(value=1, description='K', min=1), Output()), _dom_classes=('widget-interact',)…"
      ]
     },
     "metadata": {},
     "output_type": "display_data"
    },
    {
     "data": {
      "text/plain": [
       "<function __main__.RR1(K=1)>"
      ]
     },
     "execution_count": 20,
     "metadata": {},
     "output_type": "execute_result"
    }
   ],
   "source": [
    "# [0, 1) 范围内划分的最大精细程度: [0,0.01,0.02,...,0.99]\n",
    "range_const1 = 100\n",
    "\n",
    "def RR1(K = 1):\n",
    "    # 计算岭估计\n",
    "    rang1 = []\n",
    "    for i in range(K):\n",
    "        rang1.append(i/K) # 岭参数 k 取值范围: [0,1-1/K](例如 K=10, k 取值范围: [0, 0.9])\n",
    "    coefs_1 = []\n",
    "    for k in rang1:\n",
    "        temp1 = np.linalg.inv(X_std1.T @ X_std1 + k * np.eye(p)) @ X_std1.T @ Y_std\n",
    "        coefs_1.append(temp1)\n",
    "\n",
    "    # 画图\n",
    "    # print('参数的数值: ', coefs_1)\n",
    "    coefs_1 = np.array(coefs_1)\n",
    "    for i in range(p):\n",
    "        plt.plot(rang1, coefs_1[:,i], label = 'X%d'%(i+1))\n",
    "    plt.legend(loc = 'best')\n",
    "\n",
    "# 随着 K 值的增加, 岭参数 k 取值越精细, 因为在 [0,1) 范围内的分割更细\n",
    "interact(RR1,K=(1,range_const1))"
   ]
  },
  {
   "cell_type": "code",
   "execution_count": 13,
   "id": "2ee912b4",
   "metadata": {},
   "outputs": [
    {
     "data": {
      "application/vnd.jupyter.widget-view+json": {
       "model_id": "92d4c6bf9a64479ab6ae53f117754b48",
       "version_major": 2,
       "version_minor": 0
      },
      "text/plain": [
       "interactive(children=(IntSlider(value=1, description='K', min=1), Output()), _dom_classes=('widget-interact',)…"
      ]
     },
     "metadata": {},
     "output_type": "display_data"
    },
    {
     "data": {
      "text/plain": [
       "<function __main__.RR2(K=1)>"
      ]
     },
     "execution_count": 13,
     "metadata": {},
     "output_type": "execute_result"
    }
   ],
   "source": [
    "# 调包: linear_model \n",
    "def RR2(K = 1): \n",
    "    # 初始化一个Ridge Regression\n",
    "    clf = linear_model.Ridge(fit_intercept=False)\n",
    "\n",
    "    # 训练模型: 测试不同的 k 取值，获得系数\n",
    "    rang2 = []\n",
    "    for i in range(K):\n",
    "        rang2.append(i/K)\n",
    "    coefs_2 = []\n",
    "    for k in rang2:\n",
    "        clf.set_params(alpha=k)\n",
    "        clf.fit(X_std1, Y_std)\n",
    "        coefs_2.append(clf.coef_)\n",
    "\n",
    "    # 画图\n",
    "    # print('参数的数值: ', coefs_2)\n",
    "    coefs_2 = np.array(coefs_2)\n",
    "    for i in range(p):\n",
    "        plt.plot(rang2, coefs_2[:,i], label = 'X%d'%(i+1))   \n",
    "    plt.legend(loc = 'best')\n",
    "\n",
    "interact(RR2,K=(1,range_const1))"
   ]
  },
  {
   "cell_type": "code",
   "execution_count": 14,
   "id": "9dec7dc8",
   "metadata": {},
   "outputs": [
    {
     "data": {
      "application/vnd.jupyter.widget-view+json": {
       "model_id": "9c698f9faa774600847f5135835a65fc",
       "version_major": 2,
       "version_minor": 0
      },
      "text/plain": [
       "interactive(children=(IntSlider(value=1, description='K', max=30, min=1), Output()), _dom_classes=('widget-int…"
      ]
     },
     "metadata": {},
     "output_type": "display_data"
    },
    {
     "data": {
      "text/plain": [
       "<function __main__.RR3(K=1)>"
      ]
     },
     "execution_count": 14,
     "metadata": {},
     "output_type": "execute_result"
    }
   ],
   "source": [
    "# 岭参数 k 的最大取值范围: [exp(-10),exp(19)]\n",
    "range_const2 = 30\n",
    "\n",
    "def RR3(K = 1):\n",
    "    # 初始化一个Ridge Regression\n",
    "    clf = linear_model.Ridge(fit_intercept=False)\n",
    "    \n",
    "    # 训练模型: 测试不同的 k 取值，获得系数\n",
    "    coefs_3 = []\n",
    "    num_lambda3 = K\n",
    "    for k in range(num_lambda3):\n",
    "        clf.set_params(alpha=np.exp(k-10))  # 岭参数 k 取值范围: [exp(-10),exp((K-1)-10)]\n",
    "        clf.fit(X_std1, Y_std)\n",
    "        coefs_3.append(clf.coef_)\n",
    "\n",
    "    # 画图\n",
    "    # print('参数的数值：', coefs_3)\n",
    "    x3 = range(num_lambda3)\n",
    "    coefs_3 = np.array(coefs_3)\n",
    "    for i in range(p):\n",
    "        plt.plot(x3, coefs_3[:,i], label = 'X%d'%(i+1))\n",
    "        plt.text(x3[-1], coefs_3[-1,i], '%.4f' % float(coefs_3[-1,i]), fontsize=8)\n",
    "    print('岭参数为: ', np.exp(K-10))\n",
    "    print('对应的岭估计: ', coefs_3[-1,:])\n",
    "    plt.legend(loc = 'best')\n",
    "\n",
    "interact(RR3,K=(1,range_const2))"
   ]
  },
  {
   "cell_type": "markdown",
   "id": "b20430e0",
   "metadata": {},
   "source": [
    "基于交叉验证的岭回归 alpha 选择可以直接获得一个相对不错的 alpha."
   ]
  },
  {
   "cell_type": "code",
   "execution_count": 27,
   "id": "57046583",
   "metadata": {},
   "outputs": [
    {
     "name": "stdout",
     "output_type": "stream",
     "text": [
      "k 的数值 :  0.1\n",
      "参数的数值： [0.06951731 0.32377326 0.55421425]\n"
     ]
    }
   ],
   "source": [
    "# 初始化一个Ridge Cross-Validation Regression\n",
    "clf_cv = linear_model.RidgeCV(fit_intercept=False)\n",
    " \n",
    "# 训练模型\n",
    "clf_cv.fit(X_std1, Y_std)\n",
    "\n",
    "k_cv = clf_cv.alpha_\n",
    "coef_cv = clf_cv.coef_ \n",
    "print('k 的数值 : ', clf_cv.alpha_)\n",
    "print('参数的数值：', clf_cv.coef_)"
   ]
  },
  {
   "cell_type": "code",
   "execution_count": 18,
   "id": "07871b71",
   "metadata": {},
   "outputs": [
    {
     "name": "stdout",
     "output_type": "stream",
     "text": [
      "[0.06951731 0.32377326 0.55421425]\n",
      "[0.06951731 0.32377326 0.55421425]\n",
      "差异:  [-1.83186799e-15 -4.44089210e-16 -1.88737914e-15]\n"
     ]
    }
   ],
   "source": [
    "# 验证岭估计和最小二乘估计之间的关系\n",
    "thres_k = int(k_cv * range_const1)\n",
    "print(coef_cv)\n",
    "\n",
    "C1 = X_std1.T @ X_std1\n",
    "C2 = np.linalg.inv(C1 + k_cv * np.eye(p))\n",
    "C3 = C2 @ C1\n",
    "print(C3 @ beta_std_hat1)\n",
    "\n",
    "diff = coef_cv - C3 @ beta_std_hat1\n",
    "print('差异: ', diff)\n"
   ]
  },
  {
   "cell_type": "markdown",
   "id": "bcb50507",
   "metadata": {},
   "source": [
    "2. 方差扩大因子法"
   ]
  },
  {
   "cell_type": "code",
   "execution_count": 53,
   "id": "61ddaaad",
   "metadata": {},
   "outputs": [
    {
     "name": "stdout",
     "output_type": "stream",
     "text": [
      "岭参数为:  0.049787068367863944\n",
      "对应的岭估计:  [0.06766744 0.24318693 0.65651749]\n"
     ]
    },
    {
     "data": {
      "image/png": "[encoded data removed]",
      "text/plain": [
       "<Figure size 432x288 with 1 Axes>"
      ]
     },
     "metadata": {
      "needs_background": "light"
     },
     "output_type": "display_data"
    }
   ],
   "source": [
    "coefs_4 = []\n",
    "thres_vif = 5\n",
    "num_lambda4 = 30\n",
    "judge = True\n",
    "for k in range(num_lambda4):\n",
    "    cnt = 0\n",
    "    C = np.linalg.inv(C1 + np.exp(k-10) * np.eye(p)) @ C1 @np.linalg.inv(C1 + np.exp(k-10) * np.eye(p))\n",
    "    # print(k, C)\n",
    "    temp4 = np.linalg.inv(X_std1.T @ X_std1 + np.exp(k-10) * np.eye(p)) @ X_std1.T @ Y_std\n",
    "    coefs_4.append(temp4)\n",
    "    \n",
    "    # 给定 k, 使得所有方差扩大因子 C[j][j] <= thres_vif\n",
    "    for j in range(p):\n",
    "        if C[j][j] < thres_vif:\n",
    "            cnt += 1\n",
    "        else:\n",
    "            break\n",
    "    if cnt == p:\n",
    "        k4 = np.exp(k-10)\n",
    "        print('岭参数为: ', np.exp(k-10))\n",
    "        print('对应的岭估计: ', temp4)\n",
    "        break\n",
    "\n",
    "# 画图\n",
    "coef_4 = temp4\n",
    "# print('参数的数值：', coefs_4)\n",
    "x4 = range(k+1)  # 以 k 作为横坐标\n",
    "# x4 = []  # 以 np.exp(k) 作为横坐标\n",
    "# for i in range(k+1):\n",
    "#      x4.append(np.exp(i-10))\n",
    "coefs_4 = np.array(coefs_4)\n",
    "for i in range(p):\n",
    "    plt.plot(x4, coefs_4[:,i], label = 'X%d'%(i+1))\n",
    "    plt.text(x4[-1], coefs_4[-1,i], '%.4f' % float(coefs_4[-1,i]), fontsize=8)\n",
    "\n",
    "plt.legend(loc = 'best')\n",
    "plt.show()"
   ]
  },
  {
   "cell_type": "markdown",
   "id": "20966665",
   "metadata": {},
   "source": [
    "3. 霍尔-肯纳德（Hoerl-Kennad）公式  "
   ]
  },
  {
   "cell_type": "code",
   "execution_count": 31,
   "id": "b8543131",
   "metadata": {},
   "outputs": [
    {
     "name": "stdout",
     "output_type": "stream",
     "text": [
      "岭参数 k_HK:  0.009654230925930096\n",
      "对应的岭估计:  [ 0.05095751 -0.11626096  1.03462265]\n"
     ]
    }
   ],
   "source": [
    "SSE = sum((Y_std - Y_std_hat) ** 2)\n",
    "sigma2 = SSE / (n - p - 1)\n",
    "\n",
    "Z = X_std1 @ V.T\n",
    "alpha_hat = np.linalg.inv(W_diag) @ Z.T @ Y_std\n",
    "# print(alpha_hat)\n",
    "\n",
    "k_HK = sigma2 / max(alpha_hat**2)\n",
    "k5 = k_HK\n",
    "print('岭参数 k_HK: ', k5)\n",
    "coef_5 = np.linalg.inv(X_std1.T @ X_std1 + k5 * np.eye(p)) @ X_std1.T @ Y_std\n",
    "print('对应的岭估计: ', coef_5)\n"
   ]
  },
  {
   "cell_type": "markdown",
   "id": "d5bd669b",
   "metadata": {},
   "source": [
    "4. Mcdorard-Garaneau 公式  \n",
    "如果 $Q=||\\hat{\\beta}||^2-\\hat{\\sigma}^2\\sum_{j=1}^p\\lambda_j^{-1} \\leq 0$，则认为 $\\hat{\\beta}$ 的各个分量都差不多，此时，对 $\\hat{\\beta}$ 不进行压缩，选择 $k = 0$"
   ]
  },
  {
   "cell_type": "code",
   "execution_count": 14,
   "id": "c62a3033",
   "metadata": {},
   "outputs": [
    {
     "name": "stdout",
     "output_type": "stream",
     "text": [
      "Q:  0.8881322270491734\n",
      "岭参数为:  0.01831563888873418\n",
      "对应的岭估计:  [0.05876355 0.0420594  0.87207132]\n"
     ]
    }
   ],
   "source": [
    "thres_diff = 0.2\n",
    "beta_compress = beta_std_hat1.T @ beta_std_hat1 - sigma2 * sum(1/W)\n",
    "if beta_compress <= 0:\n",
    "    k6 = 0\n",
    "    print('k = 0, 不对最小二乘估计进行压缩.')\n",
    "else:\n",
    "    print('Q: ', beta_compress)\n",
    "    coefs_6 = []\n",
    "    num_lambda6 = 30\n",
    "    for k in range(num_lambda6):\n",
    "        temp6 = np.linalg.inv(X_std1.T @ X_std1 + np.exp(k-10) * np.eye(p)) @ X_std1.T @ Y_std\n",
    "        beta_k_compress = temp6.T @ temp6\n",
    "        if abs(beta_compress-beta_k_compress) < thres_diff:\n",
    "            k6 = np.exp(k-10)\n",
    "            print('岭参数为: ', k6)\n",
    "            print('对应的岭估计: ', temp6)\n",
    "            break\n",
    "coef_6 = temp6"
   ]
  },
  {
   "cell_type": "markdown",
   "id": "113acfa4",
   "metadata": {},
   "source": [
    "**Q3:**"
   ]
  },
  {
   "cell_type": "code",
   "execution_count": 15,
   "id": "e56a1555",
   "metadata": {
    "scrolled": true
   },
   "outputs": [
    {
     "name": "stdout",
     "output_type": "stream",
     "text": [
      "岭参数 k =  0.1\n",
      "原始的最小二乘估计 =  [ 0.65713327 -7.18553507 18.07349643]\n",
      "标准化后的最小二乘估计 =  [ 0.02878265 -0.55114531  1.47472353]\n",
      "\n",
      "\n",
      "原始 beta =  [2 4 6]\n",
      "岭估计 =  [0.06951731 0.32377326 0.55421425]\n",
      "还原岭估计 =  [1.58714169 4.221181   6.79218113]\n"
     ]
    }
   ],
   "source": [
    "beta_rr = coef_cv\n",
    "print('岭参数 k = ', k_cv)\n",
    "print('原始的最小二乘估计 = ', beta_hat[1:p+1])\n",
    "print('标准化后的最小二乘估计 = ', beta_std_hat1)\n",
    "print('\\n')\n",
    "print('原始 beta = ', beta[1:p+1])\n",
    "print('岭估计 = ', beta_rr)\n",
    "print('还原岭估计 = ', beta_rr *  np.sqrt(Y_L) / np.sqrt(X_L))\n"
   ]
  },
  {
   "cell_type": "markdown",
   "id": "85af4e70",
   "metadata": {},
   "source": [
    "由此可知, 岭参数取值为 0.1 左右时，还原后的岭估计接近原始（上帝视角下）的 $\\beta$."
   ]
  },
  {
   "cell_type": "markdown",
   "id": "77a6edc3",
   "metadata": {},
   "source": [
    "## 第九周练习题 \n",
    "统计方法：Multicollinearity-Ridge Regression  \n",
    "软件：Jupyter Notebook  \n",
    "作业发到钉钉群  \n",
    "Deadline：下周一晚上10：00之前交  \n",
    "注：要有完整的解题过程，不能只有代码"
   ]
  },
  {
   "cell_type": "code",
   "execution_count": null,
   "id": "f130393e",
   "metadata": {},
   "outputs": [],
   "source": []
  }
 ],
 "metadata": {
  "kernelspec": {
   "display_name": "Python 3",
   "language": "python",
   "name": "python3"
  },
  "language_info": {
   "codemirror_mode": {
    "name": "ipython",
    "version": 3
   },
   "file_extension": ".py",
   "mimetype": "text/x-python",
   "name": "python",
   "nbconvert_exporter": "python",
   "pygments_lexer": "ipython3",
   "version": "3.8.8"
  }
 },
 "nbformat": 4,
 "nbformat_minor": 5
}
