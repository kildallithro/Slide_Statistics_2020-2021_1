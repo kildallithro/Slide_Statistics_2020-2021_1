{
 "cells": [
  {
   "cell_type": "markdown",
   "metadata": {},
   "source": [
    "# Week8 Multicollinearity-PCR \n",
    "## 背景描述  \n",
    "数据集来源：Draper & Smith(1998, P348). Applied Regression Analysis.  \n",
    "由此我们构造了 13 个观测的 4 个变量，具体请见下表：\n",
    "\n",
    "## 数据描述\n",
    "| 变量名 | 变量类型 | 变量取值范围 |\n",
    "| :----------: | :----------: | :----------: |\n",
    "| （自变量1）X1 | continuous variable | $\\mathbb{R}^+$ |\n",
    "| （自变量2）X2 | continuous variable | $\\mathbb{R}^+$ |\n",
    "| （自变量3）X3 | continuous variable | $\\mathbb{R}^+$ |\n",
    "| （自变量4）X4 | continuous variable | $\\mathbb{R}^+$ |\n",
    "| （因变量）Y | continuous variable | $\\mathbb{R}^+$ |"
   ]
  },
  {
   "cell_type": "markdown",
   "metadata": {},
   "source": [
    "## 问题\n",
    "这里使用 $\\alpha=0.05$ 的水平\n",
    "1. 判断所给数据是否具有多重共线性.\n",
    "2. 若具有多重共线性, 选择适当的主成分.\n",
    "3. 对降维后的数据进行回归分析.\n",
    "\n",
    "\n",
    "## 解决方案"
   ]
  },
  {
   "cell_type": "markdown",
   "metadata": {},
   "source": [
    "**Q1：**  "
   ]
  },
  {
   "cell_type": "code",
   "execution_count": 1,
   "metadata": {
    "scrolled": false
   },
   "outputs": [
    {
     "name": "stdout",
     "output_type": "stream",
     "text": [
      "     0     1     2     3     4      5\n",
      "0  1.0   7.0  26.0   6.0  60.0   78.5\n",
      "1  1.0   1.0  29.0  15.0  52.0   74.3\n",
      "2  1.0  11.0  56.0   8.0  20.0  104.3\n",
      "3  1.0  11.0  31.0   8.0  47.0   87.6\n",
      "4  1.0   7.0  52.0   6.0  33.0   95.9\n"
     ]
    }
   ],
   "source": [
    "# Import standard packages\n",
    "import numpy as np\n",
    "import pandas as pd\n",
    "import scipy.stats as stats\n",
    "import matplotlib.pyplot as plt\n",
    "import math\n",
    "\n",
    "# Import additional packages\n",
    "from itertools import combinations\n",
    "import statsmodels.api as sm\n",
    "from statsmodels.stats.outliers_influence import variance_inflation_factor\n",
    "from sklearn.decomposition import PCA  # 进行主成分分析\n",
    "\n",
    "alpha = 0.05\n",
    "p = 4\n",
    "n = 13\n",
    "\n",
    "x = pd.read_csv('Hald\\'s.csv')\n",
    "x.insert(0, 'intercept', np.ones(len(x))) \n",
    "data = x.values * 1.0\n",
    "df = pd.DataFrame(data)\n",
    "print(df.head())\n",
    "\n",
    "# 对数据进行分割\n",
    "X = data[:,0:p+1]\n",
    "Y = data[:,-1]\n",
    "\n"
   ]
  },
  {
   "cell_type": "code",
   "execution_count": 2,
   "metadata": {},
   "outputs": [
    {
     "name": "stderr",
     "output_type": "stream",
     "text": [
      "D:\\Program_Files\\Anaconda3\\lib\\site-packages\\scipy\\stats\\stats.py:1603: UserWarning: kurtosistest only valid for n>=20 ... continuing anyway, n=13\n",
      "  warnings.warn(\"kurtosistest only valid for n>=20 ... continuing \"\n"
     ]
    },
    {
     "data": {
      "text/html": [
       "<table class=\"simpletable\">\n",
       "<caption>OLS Regression Results</caption>\n",
       "<tr>\n",
       "  <th>Dep. Variable:</th>            <td>y</td>        <th>  R-squared:         </th> <td>   0.982</td>\n",
       "</tr>\n",
       "<tr>\n",
       "  <th>Model:</th>                   <td>OLS</td>       <th>  Adj. R-squared:    </th> <td>   0.974</td>\n",
       "</tr>\n",
       "<tr>\n",
       "  <th>Method:</th>             <td>Least Squares</td>  <th>  F-statistic:       </th> <td>   111.5</td>\n",
       "</tr>\n",
       "<tr>\n",
       "  <th>Date:</th>             <td>Tue, 20 Apr 2021</td> <th>  Prob (F-statistic):</th> <td>4.76e-07</td>\n",
       "</tr>\n",
       "<tr>\n",
       "  <th>Time:</th>                 <td>17:25:16</td>     <th>  Log-Likelihood:    </th> <td> -26.918</td>\n",
       "</tr>\n",
       "<tr>\n",
       "  <th>No. Observations:</th>      <td>    13</td>      <th>  AIC:               </th> <td>   63.84</td>\n",
       "</tr>\n",
       "<tr>\n",
       "  <th>Df Residuals:</th>          <td>     8</td>      <th>  BIC:               </th> <td>   66.66</td>\n",
       "</tr>\n",
       "<tr>\n",
       "  <th>Df Model:</th>              <td>     4</td>      <th>                     </th>     <td> </td>   \n",
       "</tr>\n",
       "<tr>\n",
       "  <th>Covariance Type:</th>      <td>nonrobust</td>    <th>                     </th>     <td> </td>   \n",
       "</tr>\n",
       "</table>\n",
       "<table class=\"simpletable\">\n",
       "<tr>\n",
       "    <td></td>       <th>coef</th>     <th>std err</th>      <th>t</th>      <th>P>|t|</th>  <th>[0.025</th>    <th>0.975]</th>  \n",
       "</tr>\n",
       "<tr>\n",
       "  <th>const</th> <td>   62.4054</td> <td>   70.071</td> <td>    0.891</td> <td> 0.399</td> <td>  -99.179</td> <td>  223.989</td>\n",
       "</tr>\n",
       "<tr>\n",
       "  <th>x1</th>    <td>    1.5511</td> <td>    0.745</td> <td>    2.083</td> <td> 0.071</td> <td>   -0.166</td> <td>    3.269</td>\n",
       "</tr>\n",
       "<tr>\n",
       "  <th>x2</th>    <td>    0.5102</td> <td>    0.724</td> <td>    0.705</td> <td> 0.501</td> <td>   -1.159</td> <td>    2.179</td>\n",
       "</tr>\n",
       "<tr>\n",
       "  <th>x3</th>    <td>    0.1019</td> <td>    0.755</td> <td>    0.135</td> <td> 0.896</td> <td>   -1.638</td> <td>    1.842</td>\n",
       "</tr>\n",
       "<tr>\n",
       "  <th>x4</th>    <td>   -0.1441</td> <td>    0.709</td> <td>   -0.203</td> <td> 0.844</td> <td>   -1.779</td> <td>    1.491</td>\n",
       "</tr>\n",
       "</table>\n",
       "<table class=\"simpletable\">\n",
       "<tr>\n",
       "  <th>Omnibus:</th>       <td> 0.165</td> <th>  Durbin-Watson:     </th> <td>   2.053</td>\n",
       "</tr>\n",
       "<tr>\n",
       "  <th>Prob(Omnibus):</th> <td> 0.921</td> <th>  Jarque-Bera (JB):  </th> <td>   0.320</td>\n",
       "</tr>\n",
       "<tr>\n",
       "  <th>Skew:</th>          <td> 0.201</td> <th>  Prob(JB):          </th> <td>   0.852</td>\n",
       "</tr>\n",
       "<tr>\n",
       "  <th>Kurtosis:</th>      <td> 2.345</td> <th>  Cond. No.          </th> <td>6.06e+03</td>\n",
       "</tr>\n",
       "</table><br/><br/>Notes:<br/>[1] Standard Errors assume that the covariance matrix of the errors is correctly specified.<br/>[2] The condition number is large, 6.06e+03. This might indicate that there are<br/>strong multicollinearity or other numerical problems."
      ],
      "text/plain": [
       "<class 'statsmodels.iolib.summary.Summary'>\n",
       "\"\"\"\n",
       "                            OLS Regression Results                            \n",
       "==============================================================================\n",
       "Dep. Variable:                      y   R-squared:                       0.982\n",
       "Model:                            OLS   Adj. R-squared:                  0.974\n",
       "Method:                 Least Squares   F-statistic:                     111.5\n",
       "Date:                Tue, 20 Apr 2021   Prob (F-statistic):           4.76e-07\n",
       "Time:                        17:25:16   Log-Likelihood:                -26.918\n",
       "No. Observations:                  13   AIC:                             63.84\n",
       "Df Residuals:                       8   BIC:                             66.66\n",
       "Df Model:                           4                                         \n",
       "Covariance Type:            nonrobust                                         \n",
       "==============================================================================\n",
       "                 coef    std err          t      P>|t|      [0.025      0.975]\n",
       "------------------------------------------------------------------------------\n",
       "const         62.4054     70.071      0.891      0.399     -99.179     223.989\n",
       "x1             1.5511      0.745      2.083      0.071      -0.166       3.269\n",
       "x2             0.5102      0.724      0.705      0.501      -1.159       2.179\n",
       "x3             0.1019      0.755      0.135      0.896      -1.638       1.842\n",
       "x4            -0.1441      0.709     -0.203      0.844      -1.779       1.491\n",
       "==============================================================================\n",
       "Omnibus:                        0.165   Durbin-Watson:                   2.053\n",
       "Prob(Omnibus):                  0.921   Jarque-Bera (JB):                0.320\n",
       "Skew:                           0.201   Prob(JB):                        0.852\n",
       "Kurtosis:                       2.345   Cond. No.                     6.06e+03\n",
       "==============================================================================\n",
       "\n",
       "Notes:\n",
       "[1] Standard Errors assume that the covariance matrix of the errors is correctly specified.\n",
       "[2] The condition number is large, 6.06e+03. This might indicate that there are\n",
       "strong multicollinearity or other numerical problems.\n",
       "\"\"\""
      ]
     },
     "execution_count": 2,
     "metadata": {},
     "output_type": "execute_result"
    }
   ],
   "source": [
    "# Do the multiple linear regression——对原始数据\n",
    "# OLS（endog,exog=None,missing='none',hasconst=None) (endog:因变量，exog=自变量）\n",
    "model = sm.OLS(Y, X).fit()\n",
    "beta = model.params\n",
    "model.summary()"
   ]
  },
  {
   "cell_type": "markdown",
   "metadata": {},
   "source": [
    "**数据预处理：**"
   ]
  },
  {
   "cell_type": "code",
   "execution_count": 3,
   "metadata": {
    "scrolled": false
   },
   "outputs": [
    {
     "name": "stdout",
     "output_type": "stream",
     "text": [
      "     0         1         2         3         4         Y\n",
      "0  1.0 -0.022650 -0.410983 -0.260016  0.517395 -0.324738\n",
      "1  1.0 -0.317096 -0.355329  0.145609  0.379423 -0.405332\n",
      "2  1.0  0.173648  0.145557 -0.169877 -0.172465  0.170340\n",
      "3  1.0  0.173648 -0.318227 -0.169877  0.293191 -0.150118\n",
      "4  1.0 -0.022650  0.071351 -0.260016  0.051740  0.009152\n"
     ]
    }
   ],
   "source": [
    "# 对数据进行标准化\n",
    "# 自变量 X 的均值\n",
    "X_mean = []\n",
    "for i in range(p):\n",
    "    X_mean.append(np.mean(X[:, i+1])) \n",
    "\n",
    "# 自变量 X 的标准差\n",
    "X_L = []\n",
    "for i in range(p):\n",
    "    X_L.append(sum((X[:, i+1] - X_mean[i]) ** 2))  \n",
    "\n",
    "# 对自变量 X 标准化(截距项不用标准化)\n",
    "X_std = X * 1.0\n",
    "X_std[:,1:p+1] = (X[:,1:p+1] - X_mean) / np.sqrt(X_L)\n",
    "\n",
    "# 对因变量 Y 标准化\n",
    "Y_std = (Y - np.mean(Y)) / np.sqrt(sum((Y - np.mean(Y))**2))\n",
    "\n",
    "df_std = pd.DataFrame(X_std)\n",
    "df_std['Y'] = Y_std\n",
    "print(df_std.head())"
   ]
  },
  {
   "cell_type": "markdown",
   "metadata": {},
   "source": [
    "**做多元线性回归分析:**"
   ]
  },
  {
   "cell_type": "code",
   "execution_count": 4,
   "metadata": {},
   "outputs": [
    {
     "name": "stderr",
     "output_type": "stream",
     "text": [
      "D:\\Program_Files\\Anaconda3\\lib\\site-packages\\scipy\\stats\\stats.py:1603: UserWarning: kurtosistest only valid for n>=20 ... continuing anyway, n=13\n",
      "  warnings.warn(\"kurtosistest only valid for n>=20 ... continuing \"\n"
     ]
    },
    {
     "data": {
      "text/html": [
       "<table class=\"simpletable\">\n",
       "<caption>OLS Regression Results</caption>\n",
       "<tr>\n",
       "  <th>Dep. Variable:</th>            <td>y</td>        <th>  R-squared:         </th> <td>   0.982</td>\n",
       "</tr>\n",
       "<tr>\n",
       "  <th>Model:</th>                   <td>OLS</td>       <th>  Adj. R-squared:    </th> <td>   0.974</td>\n",
       "</tr>\n",
       "<tr>\n",
       "  <th>Method:</th>             <td>Least Squares</td>  <th>  F-statistic:       </th> <td>   111.5</td>\n",
       "</tr>\n",
       "<tr>\n",
       "  <th>Date:</th>             <td>Tue, 20 Apr 2021</td> <th>  Prob (F-statistic):</th> <td>4.76e-07</td>\n",
       "</tr>\n",
       "<tr>\n",
       "  <th>Time:</th>                 <td>17:25:19</td>     <th>  Log-Likelihood:    </th> <td>  24.476</td>\n",
       "</tr>\n",
       "<tr>\n",
       "  <th>No. Observations:</th>      <td>    13</td>      <th>  AIC:               </th> <td>  -38.95</td>\n",
       "</tr>\n",
       "<tr>\n",
       "  <th>Df Residuals:</th>          <td>     8</td>      <th>  BIC:               </th> <td>  -36.13</td>\n",
       "</tr>\n",
       "<tr>\n",
       "  <th>Df Model:</th>              <td>     4</td>      <th>                     </th>     <td> </td>   \n",
       "</tr>\n",
       "<tr>\n",
       "  <th>Covariance Type:</th>      <td>nonrobust</td>    <th>                     </th>     <td> </td>   \n",
       "</tr>\n",
       "</table>\n",
       "<table class=\"simpletable\">\n",
       "<tr>\n",
       "    <td></td>       <th>coef</th>     <th>std err</th>      <th>t</th>      <th>P>|t|</th>  <th>[0.025</th>    <th>0.975]</th>  \n",
       "</tr>\n",
       "<tr>\n",
       "  <th>const</th> <td> 5.898e-17</td> <td>    0.013</td> <td> 4.53e-15</td> <td> 1.000</td> <td>   -0.030</td> <td>    0.030</td>\n",
       "</tr>\n",
       "<tr>\n",
       "  <th>x1</th>    <td>    0.6065</td> <td>    0.291</td> <td>    2.083</td> <td> 0.071</td> <td>   -0.065</td> <td>    1.278</td>\n",
       "</tr>\n",
       "<tr>\n",
       "  <th>x2</th>    <td>    0.5277</td> <td>    0.749</td> <td>    0.705</td> <td> 0.501</td> <td>   -1.199</td> <td>    2.254</td>\n",
       "</tr>\n",
       "<tr>\n",
       "  <th>x3</th>    <td>    0.0434</td> <td>    0.321</td> <td>    0.135</td> <td> 0.896</td> <td>   -0.698</td> <td>    0.784</td>\n",
       "</tr>\n",
       "<tr>\n",
       "  <th>x4</th>    <td>   -0.1603</td> <td>    0.789</td> <td>   -0.203</td> <td> 0.844</td> <td>   -1.980</td> <td>    1.659</td>\n",
       "</tr>\n",
       "</table>\n",
       "<table class=\"simpletable\">\n",
       "<tr>\n",
       "  <th>Omnibus:</th>       <td> 0.165</td> <th>  Durbin-Watson:     </th> <td>   2.053</td>\n",
       "</tr>\n",
       "<tr>\n",
       "  <th>Prob(Omnibus):</th> <td> 0.921</td> <th>  Jarque-Bera (JB):  </th> <td>   0.320</td>\n",
       "</tr>\n",
       "<tr>\n",
       "  <th>Skew:</th>          <td> 0.201</td> <th>  Prob(JB):          </th> <td>   0.852</td>\n",
       "</tr>\n",
       "<tr>\n",
       "  <th>Kurtosis:</th>      <td> 2.345</td> <th>  Cond. No.          </th> <td>    89.5</td>\n",
       "</tr>\n",
       "</table><br/><br/>Notes:<br/>[1] Standard Errors assume that the covariance matrix of the errors is correctly specified."
      ],
      "text/plain": [
       "<class 'statsmodels.iolib.summary.Summary'>\n",
       "\"\"\"\n",
       "                            OLS Regression Results                            \n",
       "==============================================================================\n",
       "Dep. Variable:                      y   R-squared:                       0.982\n",
       "Model:                            OLS   Adj. R-squared:                  0.974\n",
       "Method:                 Least Squares   F-statistic:                     111.5\n",
       "Date:                Tue, 20 Apr 2021   Prob (F-statistic):           4.76e-07\n",
       "Time:                        17:25:19   Log-Likelihood:                 24.476\n",
       "No. Observations:                  13   AIC:                            -38.95\n",
       "Df Residuals:                       8   BIC:                            -36.13\n",
       "Df Model:                           4                                         \n",
       "Covariance Type:            nonrobust                                         \n",
       "==============================================================================\n",
       "                 coef    std err          t      P>|t|      [0.025      0.975]\n",
       "------------------------------------------------------------------------------\n",
       "const       5.898e-17      0.013   4.53e-15      1.000      -0.030       0.030\n",
       "x1             0.6065      0.291      2.083      0.071      -0.065       1.278\n",
       "x2             0.5277      0.749      0.705      0.501      -1.199       2.254\n",
       "x3             0.0434      0.321      0.135      0.896      -0.698       0.784\n",
       "x4            -0.1603      0.789     -0.203      0.844      -1.980       1.659\n",
       "==============================================================================\n",
       "Omnibus:                        0.165   Durbin-Watson:                   2.053\n",
       "Prob(Omnibus):                  0.921   Jarque-Bera (JB):                0.320\n",
       "Skew:                           0.201   Prob(JB):                        0.852\n",
       "Kurtosis:                       2.345   Cond. No.                         89.5\n",
       "==============================================================================\n",
       "\n",
       "Notes:\n",
       "[1] Standard Errors assume that the covariance matrix of the errors is correctly specified.\n",
       "\"\"\""
      ]
     },
     "execution_count": 4,
     "metadata": {},
     "output_type": "execute_result"
    }
   ],
   "source": [
    "# Do the multiple linear regression——对标准化后的数据\n",
    "model_std = sm.OLS(Y_std, X_std).fit()\n",
    "beta_std = model_std.params\n",
    "model_std.summary()"
   ]
  },
  {
   "cell_type": "markdown",
   "metadata": {},
   "source": [
    "**求 $(X^*)^{'}(X^*)$ 矩阵的特征值和特征向量:**"
   ]
  },
  {
   "cell_type": "code",
   "execution_count": 5,
   "metadata": {
    "scrolled": false
   },
   "outputs": [
    {
     "data": {
      "text/html": [
       "<div>\n",
       "<style scoped>\n",
       "    .dataframe tbody tr th:only-of-type {\n",
       "        vertical-align: middle;\n",
       "    }\n",
       "\n",
       "    .dataframe tbody tr th {\n",
       "        vertical-align: top;\n",
       "    }\n",
       "\n",
       "    .dataframe thead th {\n",
       "        text-align: right;\n",
       "    }\n",
       "</style>\n",
       "<table border=\"1\" class=\"dataframe\">\n",
       "  <thead>\n",
       "    <tr style=\"text-align: right;\">\n",
       "      <th></th>\n",
       "      <th>1</th>\n",
       "      <th>2</th>\n",
       "      <th>3</th>\n",
       "      <th>4</th>\n",
       "    </tr>\n",
       "  </thead>\n",
       "  <tbody>\n",
       "    <tr>\n",
       "      <th>1</th>\n",
       "      <td>1.000000</td>\n",
       "      <td>0.228579</td>\n",
       "      <td>-0.824134</td>\n",
       "      <td>-0.245445</td>\n",
       "    </tr>\n",
       "    <tr>\n",
       "      <th>2</th>\n",
       "      <td>0.228579</td>\n",
       "      <td>1.000000</td>\n",
       "      <td>-0.139242</td>\n",
       "      <td>-0.972955</td>\n",
       "    </tr>\n",
       "    <tr>\n",
       "      <th>3</th>\n",
       "      <td>-0.824134</td>\n",
       "      <td>-0.139242</td>\n",
       "      <td>1.000000</td>\n",
       "      <td>0.029537</td>\n",
       "    </tr>\n",
       "    <tr>\n",
       "      <th>4</th>\n",
       "      <td>-0.245445</td>\n",
       "      <td>-0.972955</td>\n",
       "      <td>0.029537</td>\n",
       "      <td>1.000000</td>\n",
       "    </tr>\n",
       "  </tbody>\n",
       "</table>\n",
       "</div>"
      ],
      "text/plain": [
       "          1         2         3         4\n",
       "1  1.000000  0.228579 -0.824134 -0.245445\n",
       "2  0.228579  1.000000 -0.139242 -0.972955\n",
       "3 -0.824134 -0.139242  1.000000  0.029537\n",
       "4 -0.245445 -0.972955  0.029537  1.000000"
      ]
     },
     "execution_count": 5,
     "metadata": {},
     "output_type": "execute_result"
    }
   ],
   "source": [
    "# (X*)'(X*) 矩阵等价于原始矩阵 X 样本相关矩阵\n",
    "R = df.corr()\n",
    "R = R.iloc[1:-1,1:-1]\n",
    "\n",
    "# 求 (X*)'(X*) 矩阵，结果与样本相关矩阵一致\n",
    "# R1 = np.dot(X_std.T,X_std) \n",
    "# R1 = pd.DataFrame(R1[1:,1:])\n",
    "\n",
    "R"
   ]
  },
  {
   "cell_type": "code",
   "execution_count": 20,
   "metadata": {},
   "outputs": [
    {
     "name": "stdout",
     "output_type": "stream",
     "text": [
      "特征值: [2.23570403e+00 1.57606607e+00 1.86606149e-01 1.62374573e-03]\n",
      "[[2.23570403e+00 0.00000000e+00 0.00000000e+00 0.00000000e+00]\n",
      " [0.00000000e+00 1.57606607e+00 0.00000000e+00 0.00000000e+00]\n",
      " [0.00000000e+00 0.00000000e+00 1.86606149e-01 0.00000000e+00]\n",
      " [0.00000000e+00 0.00000000e+00 0.00000000e+00 1.62374573e-03]]\n",
      "3.9999999999999942\n",
      "              0             1             2             3\n",
      "0  1.000000e+00 -2.220446e-16  6.938894e-17 -4.458239e-16\n",
      "1 -2.220446e-16  1.000000e+00 -7.910339e-16 -3.885781e-16\n",
      "2  6.938894e-17 -7.910339e-16  1.000000e+00  1.221245e-15\n",
      "3 -4.458239e-16 -3.885781e-16  1.221245e-15  1.000000e+00\n"
     ]
    }
   ],
   "source": [
    "# 求特征值 & 特征向量\n",
    "W, V = np.linalg.eig(R)\n",
    "W_diag = np.diag(W)\n",
    "V = V.T # 这里需要转置\n",
    "\n",
    "print('特征值:', W)\n",
    "print(W_diag)\n",
    "print(sum(W)) # 验证特征值求和值为 p\n",
    "VV = np.dot(V,V.T)\n",
    "VV = pd.DataFrame(VV)\n",
    "print(VV) # 验证矩阵 V'V 结果为单位阵\n"
   ]
  },
  {
   "cell_type": "markdown",
   "metadata": {},
   "source": [
    "**判断 X 矩阵是否具有多重共线性:**"
   ]
  },
  {
   "cell_type": "code",
   "execution_count": 33,
   "metadata": {},
   "outputs": [
    {
     "name": "stdout",
     "output_type": "stream",
     "text": [
      "VIF方法判断结果(阈值为 5): \n",
      "设计矩阵 X 存在多重共线性.\n",
      "\n",
      "特征值判定法判断结果(阈值为 10): \n",
      "设计矩阵 X 存在多重共线性，其中kappa值为：37.1063\n"
     ]
    }
   ],
   "source": [
    "# 定义\"判断多重共线性\"的函数\n",
    "# 参数: (X_list: 设计矩阵 X, thres_vif: VIF 方法判断多重共线性的阈值, thres_kappa: 特征值方法判断多重共线性的阈值)\n",
    "def judge_col(X_list, thres_vif, thres_kappa): \n",
    "    var_num = X_list.shape[1]\n",
    "    print('VIF方法判断结果(阈值为 %d): '% thres_vif)\n",
    "    vif = [variance_inflation_factor(X_list, i) for i in range(var_num)]\n",
    "    for i in range(var_num):\n",
    "        if vif[i] >= thres_vif:\n",
    "            print('设计矩阵 X 存在多重共线性.')\n",
    "            break\n",
    "        elif i == var_num-1:\n",
    "            print('设计矩阵 X 不存在多重共线性.')\n",
    "\n",
    "    print('\\n特征值判定法判断结果(阈值为 %d): '% thres_kappa)\n",
    "    kappa = []\n",
    "    for i in range(var_num):\n",
    "        kappa.append(np.sqrt(max(W) / W[i]))\n",
    "    if np.max(kappa) >= thres_kappa:\n",
    "        print('设计矩阵 X 存在多重共线性，其中kappa值为：%.4f'% np.max(kappa))\n",
    "    else:\n",
    "        print('设计矩阵 X 不存在多重共线性，其中kappa值为：%.4f'% np.max(kappa))\n",
    "\n",
    "# 判断多重共线性\n",
    "judge_col(X_std[:,1:p+1], 5, 10)"
   ]
  },
  {
   "cell_type": "markdown",
   "metadata": {},
   "source": [
    "**Q2:**"
   ]
  },
  {
   "cell_type": "markdown",
   "metadata": {},
   "source": [
    "**构造主成分矩阵 Z:**"
   ]
  },
  {
   "cell_type": "code",
   "execution_count": 21,
   "metadata": {},
   "outputs": [
    {
     "name": "stdout",
     "output_type": "stream",
     "text": [
      "              0             1             2             3\n",
      "0  2.235704e+00 -3.474877e-16 -8.433381e-16 -3.743351e-16\n",
      "1 -3.474877e-16  1.576066e+00 -6.590942e-16 -8.679917e-17\n",
      "2 -8.433381e-16 -6.590942e-16  1.866061e-01  1.216110e-16\n",
      "3 -3.743351e-16 -8.679917e-17  1.216110e-16  1.623746e-03\n"
     ]
    }
   ],
   "source": [
    "# 构造主成分矩阵 Z\n",
    "Z = np.dot(X_std[:,1:p+1],V.T)\n",
    "ZZ = np.dot(Z.T,Z)\n",
    "ZZ = pd.DataFrame(ZZ)\n",
    "print(ZZ)  # 验证主成分矩阵 Z 各列之间正交，主对角线元素对应的是特征值"
   ]
  },
  {
   "cell_type": "code",
   "execution_count": 9,
   "metadata": {},
   "outputs": [
    {
     "name": "stdout",
     "output_type": "stream",
     "text": [
      "(X*)'X*的行列式:  0.001067659340641059\n"
     ]
    }
   ],
   "source": [
    "D = np.linalg.det(R)\n",
    "print('(X*)\\'X*的行列式: ', D)"
   ]
  },
  {
   "cell_type": "markdown",
   "metadata": {},
   "source": [
    "由于 $|(X^*)^{'}(X^*)| \\approx 0$, 则存在一个 k, 使得 $\\lambda_{k+1},\\cdots,\\lambda_p$ 均近似为 0. 因此 $\\mathbf{z}_{k+1},\\cdots,\\mathbf{z}_p$ 近似为 $\\mathbf{0}$ "
   ]
  },
  {
   "cell_type": "markdown",
   "metadata": {},
   "source": [
    "**选主成分:**"
   ]
  },
  {
   "cell_type": "code",
   "execution_count": 10,
   "metadata": {},
   "outputs": [
    {
     "name": "stdout",
     "output_type": "stream",
     "text": [
      "特征值为:  [2.2357040348291717, 1.5760660703083897, 0.1866061491286729, 0.0016237457337601878]\n",
      "排序后特征值对应的原索引值:  [0 1 2 3]\n"
     ]
    }
   ],
   "source": [
    "# 对特征值按降序排序\n",
    "W_srt = W.tolist()\n",
    "W_srt.sort(reverse=True)\n",
    "W_idx = np.argsort(-W) # 返回的是元素值降序排序后的索引值的数组\n",
    "print('特征值为: ', W_srt)\n",
    "print('排序后特征值对应的原索引值: ', W_idx)"
   ]
  },
  {
   "cell_type": "code",
   "execution_count": 11,
   "metadata": {},
   "outputs": [
    {
     "data": {
      "image/png": "[encoded data removed]",
      "text/plain": [
       "<Figure size 432x288 with 1 Axes>"
      ]
     },
     "metadata": {
      "needs_background": "light"
     },
     "output_type": "display_data"
    }
   ],
   "source": [
    "# 绘制主成分的累计贡献率(响应变量中解释的方差百分比)与组件数量的碎石图\n",
    "comp = range(0, p+1)\n",
    "# 主成分的累计贡献率(计算方差百分比)\n",
    "summ = 0\n",
    "W_sum = [0]\n",
    "for i in range(p):\n",
    "    summ += W_srt[i]\n",
    "    W_sum.append(summ / p)\n",
    "plt.plot(comp, W_sum)\n",
    "plt.xlabel('Number of PCR components')\n",
    "plt.ylabel('Percent Variance Explained in Y')\n",
    "for i,j in zip(comp, W_sum):\n",
    "    plt.text(i, j, '%.4f' % float(j))"
   ]
  },
  {
   "cell_type": "code",
   "execution_count": 12,
   "metadata": {},
   "outputs": [
    {
     "name": "stdout",
     "output_type": "stream",
     "text": [
      "保留变量个数为:  2\n"
     ]
    }
   ],
   "source": [
    "# 保留累计贡献率比重大的主成分\n",
    "c_pc = 0.8\n",
    "cnt = True\n",
    "thres = p * c_pc\n",
    "while cnt:\n",
    "    W_sum = 0\n",
    "    W_summ = W_srt[0] \n",
    "    for i in range(p-1):\n",
    "        k1 = i + 1 \n",
    "        W_sum += W_srt[i]\n",
    "        W_summ += W_srt[i+1]\n",
    "        # print(i,W_sum,W_summ,thres)\n",
    "        if (W_sum < thres) & (W_summ >= thres):\n",
    "            cnt = False\n",
    "            break\n",
    "        elif i == p - 2:\n",
    "            cnt = False\n",
    "            k1 = i + 1\n",
    "            break\n",
    "k1 = k1 + 1\n",
    "print('保留变量个数为: ', k1) \n",
    "        "
   ]
  },
  {
   "cell_type": "code",
   "execution_count": 13,
   "metadata": {},
   "outputs": [
    {
     "name": "stdout",
     "output_type": "stream",
     "text": [
      "保留变量个数为:  2\n"
     ]
    }
   ],
   "source": [
    "# 删除特征值接近于零的主成分\n",
    "for i in range(p):\n",
    "    if W_srt[i] < 1:\n",
    "        k2 = i\n",
    "        break\n",
    "print('保留变量个数为: ', k2)   "
   ]
  },
  {
   "cell_type": "code",
   "execution_count": 14,
   "metadata": {},
   "outputs": [
    {
     "name": "stdout",
     "output_type": "stream",
     "text": [
      "5 0.44728639588307995\n",
      "10 1.081777562744079\n",
      "15 6.440657774727111\n",
      "20 622.3006284637653\n",
      "保留变量个数 <= 3\n"
     ]
    }
   ],
   "source": [
    "# 均方误差确定 k\n",
    "mse = 0\n",
    "for i in range(p):\n",
    "    k3 = p\n",
    "    mse += 1 / W_srt[i]\n",
    "    print(5 * (i + 1), mse)\n",
    "    if mse > 5 * (i + 1):\n",
    "        k3 = i\n",
    "        break\n",
    "    elif i == p-1:\n",
    "        k3 = p\n",
    "        break\n",
    "print('保留变量个数 <=', k3) "
   ]
  },
  {
   "cell_type": "markdown",
   "metadata": {},
   "source": [
    "综上，我们选择保留变量的个数为 2."
   ]
  },
  {
   "cell_type": "markdown",
   "metadata": {},
   "source": [
    "**Q3:**"
   ]
  },
  {
   "cell_type": "code",
   "execution_count": 25,
   "metadata": {
    "scrolled": false
   },
   "outputs": [
    {
     "name": "stdout",
     "output_type": "stream",
     "text": [
      "系数: [ 0.65695805 -0.00830863]\n",
      "[ 0.30845366  0.3738783  -0.25385872 -0.36371695]\n",
      "[ 0.30845366  0.3738783  -0.25385872 -0.36371695]\n"
     ]
    }
   ],
   "source": [
    "# 矩阵拆分\n",
    "k = k1\n",
    "list_var1 = W_idx[0:k] # 记录降序排序后的前 k 个主成分\n",
    "list_var2 = W_idx[k:]\n",
    "# list_var1 = [0,2] \n",
    "# list_var2 = [1,3]\n",
    "\n",
    "Z_1 = Z[:,list_var1]\n",
    "Z_2 = Z[:,list_var2]\n",
    "\n",
    "W_diag_1 = np.diag(W_diag[list_var1,list_var1])\n",
    "W_diag_2 = np.diag(W_diag[list_var2,list_var2])\n",
    "\n",
    "# 按行进行拆分\n",
    "V_1 = V[list_var1,:]\n",
    "V_2 = V[list_var2,:]\n",
    "\n",
    "# α的估计\n",
    "# alpha_hat = np.linalg.inv(W_diag) @ Z.T @ Y_std\n",
    "alpha1_hat = np.linalg.inv(W_diag_1) @ Z_1.T @ Y_std\n",
    "print('系数:', alpha1_hat)\n",
    "\n",
    "# 主成分估计\n",
    "beta_pc = np.dot(V_1.T,alpha1_hat)\n",
    "print(beta_pc)\n",
    "print(V_1.T @ V_1 @ beta_std[1:]) # 验证PPT 99页的性质1"
   ]
  },
  {
   "cell_type": "code",
   "execution_count": 26,
   "metadata": {},
   "outputs": [
    {
     "name": "stderr",
     "output_type": "stream",
     "text": [
      "D:\\Program_Files\\Anaconda3\\lib\\site-packages\\scipy\\stats\\stats.py:1603: UserWarning: kurtosistest only valid for n>=20 ... continuing anyway, n=13\n",
      "  warnings.warn(\"kurtosistest only valid for n>=20 ... continuing \"\n"
     ]
    },
    {
     "data": {
      "text/html": [
       "<table class=\"simpletable\">\n",
       "<caption>OLS Regression Results</caption>\n",
       "<tr>\n",
       "  <th>Dep. Variable:</th>            <td>y</td>        <th>  R-squared (uncentered):</th>      <td>   0.965</td>\n",
       "</tr>\n",
       "<tr>\n",
       "  <th>Model:</th>                   <td>OLS</td>       <th>  Adj. R-squared (uncentered):</th> <td>   0.959</td>\n",
       "</tr>\n",
       "<tr>\n",
       "  <th>Method:</th>             <td>Least Squares</td>  <th>  F-statistic:       </th>          <td>   151.8</td>\n",
       "</tr>\n",
       "<tr>\n",
       "  <th>Date:</th>             <td>Tue, 20 Apr 2021</td> <th>  Prob (F-statistic):</th>          <td>9.79e-09</td>\n",
       "</tr>\n",
       "<tr>\n",
       "  <th>Time:</th>                 <td>18:25:20</td>     <th>  Log-Likelihood:    </th>          <td>  20.021</td>\n",
       "</tr>\n",
       "<tr>\n",
       "  <th>No. Observations:</th>      <td>    13</td>      <th>  AIC:               </th>          <td>  -36.04</td>\n",
       "</tr>\n",
       "<tr>\n",
       "  <th>Df Residuals:</th>          <td>    11</td>      <th>  BIC:               </th>          <td>  -34.91</td>\n",
       "</tr>\n",
       "<tr>\n",
       "  <th>Df Model:</th>              <td>     2</td>      <th>                     </th>              <td> </td>   \n",
       "</tr>\n",
       "<tr>\n",
       "  <th>Covariance Type:</th>      <td>nonrobust</td>    <th>                     </th>              <td> </td>   \n",
       "</tr>\n",
       "</table>\n",
       "<table class=\"simpletable\">\n",
       "<tr>\n",
       "   <td></td>     <th>coef</th>     <th>std err</th>      <th>t</th>      <th>P>|t|</th>  <th>[0.025</th>    <th>0.975]</th>  \n",
       "</tr>\n",
       "<tr>\n",
       "  <th>x1</th> <td>    0.6570</td> <td>    0.038</td> <td>   17.421</td> <td> 0.000</td> <td>    0.574</td> <td>    0.740</td>\n",
       "</tr>\n",
       "<tr>\n",
       "  <th>x2</th> <td>   -0.0083</td> <td>    0.045</td> <td>   -0.185</td> <td> 0.857</td> <td>   -0.107</td> <td>    0.091</td>\n",
       "</tr>\n",
       "</table>\n",
       "<table class=\"simpletable\">\n",
       "<tr>\n",
       "  <th>Omnibus:</th>       <td> 2.024</td> <th>  Durbin-Watson:     </th> <td>   1.641</td>\n",
       "</tr>\n",
       "<tr>\n",
       "  <th>Prob(Omnibus):</th> <td> 0.363</td> <th>  Jarque-Bera (JB):  </th> <td>   1.334</td>\n",
       "</tr>\n",
       "<tr>\n",
       "  <th>Skew:</th>          <td> 0.563</td> <th>  Prob(JB):          </th> <td>   0.513</td>\n",
       "</tr>\n",
       "<tr>\n",
       "  <th>Kurtosis:</th>      <td> 1.907</td> <th>  Cond. No.          </th> <td>    1.19</td>\n",
       "</tr>\n",
       "</table><br/><br/>Notes:<br/>[1] R² is computed without centering (uncentered) since the model does not contain a constant.<br/>[2] Standard Errors assume that the covariance matrix of the errors is correctly specified."
      ],
      "text/plain": [
       "<class 'statsmodels.iolib.summary.Summary'>\n",
       "\"\"\"\n",
       "                                 OLS Regression Results                                \n",
       "=======================================================================================\n",
       "Dep. Variable:                      y   R-squared (uncentered):                   0.965\n",
       "Model:                            OLS   Adj. R-squared (uncentered):              0.959\n",
       "Method:                 Least Squares   F-statistic:                              151.8\n",
       "Date:                Tue, 20 Apr 2021   Prob (F-statistic):                    9.79e-09\n",
       "Time:                        18:25:20   Log-Likelihood:                          20.021\n",
       "No. Observations:                  13   AIC:                                     -36.04\n",
       "Df Residuals:                      11   BIC:                                     -34.91\n",
       "Df Model:                           2                                                  \n",
       "Covariance Type:            nonrobust                                                  \n",
       "==============================================================================\n",
       "                 coef    std err          t      P>|t|      [0.025      0.975]\n",
       "------------------------------------------------------------------------------\n",
       "x1             0.6570      0.038     17.421      0.000       0.574       0.740\n",
       "x2            -0.0083      0.045     -0.185      0.857      -0.107       0.091\n",
       "==============================================================================\n",
       "Omnibus:                        2.024   Durbin-Watson:                   1.641\n",
       "Prob(Omnibus):                  0.363   Jarque-Bera (JB):                1.334\n",
       "Skew:                           0.563   Prob(JB):                        0.513\n",
       "Kurtosis:                       1.907   Cond. No.                         1.19\n",
       "==============================================================================\n",
       "\n",
       "Notes:\n",
       "[1] R² is computed without centering (uncentered) since the model does not contain a constant.\n",
       "[2] Standard Errors assume that the covariance matrix of the errors is correctly specified.\n",
       "\"\"\""
      ]
     },
     "execution_count": 26,
     "metadata": {},
     "output_type": "execute_result"
    }
   ],
   "source": [
    "# 使用拆分后的数据用线性回归模型进行建模\n",
    "X_pc = Z_1\n",
    "model_pc = sm.OLS(Y_std, X_pc).fit()\n",
    "model_pc.summary()"
   ]
  },
  {
   "cell_type": "code",
   "execution_count": 34,
   "metadata": {},
   "outputs": [
    {
     "name": "stdout",
     "output_type": "stream",
     "text": [
      "VIF方法判断结果(阈值为 5): \n",
      "设计矩阵 X 不存在多重共线性.\n",
      "\n",
      "特征值判定法判断结果(阈值为 10): \n",
      "设计矩阵 X 不存在多重共线性，其中kappa值为：1.1910\n"
     ]
    }
   ],
   "source": [
    "# 判断多重共线性【k > 1 时才可能存在多重共线性问题】\n",
    "judge_col(X_pc, thres_vif=5, thres_kappa=10)\n"
   ]
  },
  {
   "cell_type": "code",
   "execution_count": 30,
   "metadata": {
    "scrolled": false
   },
   "outputs": [
    {
     "name": "stderr",
     "output_type": "stream",
     "text": [
      "D:\\Program_Files\\Anaconda3\\lib\\site-packages\\scipy\\stats\\stats.py:1603: UserWarning: kurtosistest only valid for n>=20 ... continuing anyway, n=13\n",
      "  warnings.warn(\"kurtosistest only valid for n>=20 ... continuing \"\n"
     ]
    },
    {
     "data": {
      "text/html": [
       "<table class=\"simpletable\">\n",
       "<caption>OLS Regression Results</caption>\n",
       "<tr>\n",
       "  <th>Dep. Variable:</th>            <td>y</td>        <th>  R-squared (uncentered):</th>      <td>   0.965</td>\n",
       "</tr>\n",
       "<tr>\n",
       "  <th>Model:</th>                   <td>OLS</td>       <th>  Adj. R-squared (uncentered):</th> <td>   0.959</td>\n",
       "</tr>\n",
       "<tr>\n",
       "  <th>Method:</th>             <td>Least Squares</td>  <th>  F-statistic:       </th>          <td>   151.8</td>\n",
       "</tr>\n",
       "<tr>\n",
       "  <th>Date:</th>             <td>Tue, 20 Apr 2021</td> <th>  Prob (F-statistic):</th>          <td>9.79e-09</td>\n",
       "</tr>\n",
       "<tr>\n",
       "  <th>Time:</th>                 <td>18:44:07</td>     <th>  Log-Likelihood:    </th>          <td>  20.021</td>\n",
       "</tr>\n",
       "<tr>\n",
       "  <th>No. Observations:</th>      <td>    13</td>      <th>  AIC:               </th>          <td>  -36.04</td>\n",
       "</tr>\n",
       "<tr>\n",
       "  <th>Df Residuals:</th>          <td>    11</td>      <th>  BIC:               </th>          <td>  -34.91</td>\n",
       "</tr>\n",
       "<tr>\n",
       "  <th>Df Model:</th>              <td>     2</td>      <th>                     </th>              <td> </td>   \n",
       "</tr>\n",
       "<tr>\n",
       "  <th>Covariance Type:</th>      <td>nonrobust</td>    <th>                     </th>              <td> </td>   \n",
       "</tr>\n",
       "</table>\n",
       "<table class=\"simpletable\">\n",
       "<tr>\n",
       "   <td></td>     <th>coef</th>     <th>std err</th>      <th>t</th>      <th>P>|t|</th>  <th>[0.025</th>    <th>0.975]</th>  \n",
       "</tr>\n",
       "<tr>\n",
       "  <th>x1</th> <td>   -0.6570</td> <td>    0.038</td> <td>  -17.421</td> <td> 0.000</td> <td>   -0.740</td> <td>   -0.574</td>\n",
       "</tr>\n",
       "<tr>\n",
       "  <th>x2</th> <td>    0.0083</td> <td>    0.045</td> <td>    0.185</td> <td> 0.857</td> <td>   -0.091</td> <td>    0.107</td>\n",
       "</tr>\n",
       "</table>\n",
       "<table class=\"simpletable\">\n",
       "<tr>\n",
       "  <th>Omnibus:</th>       <td> 2.024</td> <th>  Durbin-Watson:     </th> <td>   1.641</td>\n",
       "</tr>\n",
       "<tr>\n",
       "  <th>Prob(Omnibus):</th> <td> 0.363</td> <th>  Jarque-Bera (JB):  </th> <td>   1.334</td>\n",
       "</tr>\n",
       "<tr>\n",
       "  <th>Skew:</th>          <td> 0.563</td> <th>  Prob(JB):          </th> <td>   0.513</td>\n",
       "</tr>\n",
       "<tr>\n",
       "  <th>Kurtosis:</th>      <td> 1.907</td> <th>  Cond. No.          </th> <td>    1.19</td>\n",
       "</tr>\n",
       "</table><br/><br/>Notes:<br/>[1] R² is computed without centering (uncentered) since the model does not contain a constant.<br/>[2] Standard Errors assume that the covariance matrix of the errors is correctly specified."
      ],
      "text/plain": [
       "<class 'statsmodels.iolib.summary.Summary'>\n",
       "\"\"\"\n",
       "                                 OLS Regression Results                                \n",
       "=======================================================================================\n",
       "Dep. Variable:                      y   R-squared (uncentered):                   0.965\n",
       "Model:                            OLS   Adj. R-squared (uncentered):              0.959\n",
       "Method:                 Least Squares   F-statistic:                              151.8\n",
       "Date:                Tue, 20 Apr 2021   Prob (F-statistic):                    9.79e-09\n",
       "Time:                        18:44:07   Log-Likelihood:                          20.021\n",
       "No. Observations:                  13   AIC:                                     -36.04\n",
       "Df Residuals:                      11   BIC:                                     -34.91\n",
       "Df Model:                           2                                                  \n",
       "Covariance Type:            nonrobust                                                  \n",
       "==============================================================================\n",
       "                 coef    std err          t      P>|t|      [0.025      0.975]\n",
       "------------------------------------------------------------------------------\n",
       "x1            -0.6570      0.038    -17.421      0.000      -0.740      -0.574\n",
       "x2             0.0083      0.045      0.185      0.857      -0.091       0.107\n",
       "==============================================================================\n",
       "Omnibus:                        2.024   Durbin-Watson:                   1.641\n",
       "Prob(Omnibus):                  0.363   Jarque-Bera (JB):                1.334\n",
       "Skew:                           0.563   Prob(JB):                        0.513\n",
       "Kurtosis:                       1.907   Cond. No.                         1.19\n",
       "==============================================================================\n",
       "\n",
       "Notes:\n",
       "[1] R² is computed without centering (uncentered) since the model does not contain a constant.\n",
       "[2] Standard Errors assume that the covariance matrix of the errors is correctly specified.\n",
       "\"\"\""
      ]
     },
     "execution_count": 30,
     "metadata": {},
     "output_type": "execute_result"
    }
   ],
   "source": [
    "# 创建pca模型\n",
    "pca = PCA(n_components=k1)\n",
    "\n",
    "# 对模型进行训练\n",
    "X_pc_ = X_std * 1.0\n",
    "pca.fit(X_pc_)\n",
    "\n",
    "# 返回降维后数据\n",
    "X_pc_ = pca.transform(X_pc_)\n",
    "\n",
    "# 使用返回后的数据用线性回归模型进行建模\n",
    "model_pc_ = sm.OLS(Y_std, X_pc_).fit()\n",
    "model_pc_.summary()"
   ]
  },
  {
   "cell_type": "code",
   "execution_count": 35,
   "metadata": {
    "scrolled": true
   },
   "outputs": [
    {
     "name": "stdout",
     "output_type": "stream",
     "text": [
      "VIF方法判断结果(阈值为 5): \n",
      "设计矩阵 X 不存在多重共线性.\n",
      "\n",
      "特征值判定法判断结果(阈值为 10): \n",
      "设计矩阵 X 不存在多重共线性，其中kappa值为：1.1910\n"
     ]
    }
   ],
   "source": [
    "# 判断多重共线性【k 值大于 1 时才可能存在多重共线性问题】\n",
    "judge_col(X_pc_, thres_vif=5, thres_kappa=10)\n"
   ]
  },
  {
   "cell_type": "markdown",
   "metadata": {},
   "source": [
    "## 第八周练习题\n",
    "数据集：Project8.csv(内附文档)  \n",
    "统计方法：Multicollinearity-PCR  \n",
    "软件：Jupyter Notebook  \n",
    "作业发到钉钉群  \n",
    "Deadline：下周一晚上10：00之前交  \n",
    "注：要有完整的解题过程，不能只有代码"
   ]
  },
  {
   "cell_type": "code",
   "execution_count": null,
   "metadata": {},
   "outputs": [],
   "source": []
  }
 ],
 "metadata": {
  "kernelspec": {
   "display_name": "Python 3",
   "language": "python",
   "name": "python3"
  },
  "language_info": {
   "codemirror_mode": {
    "name": "ipython",
    "version": 3
   },
   "file_extension": ".py",
   "mimetype": "text/x-python",
   "name": "python",
   "nbconvert_exporter": "python",
   "pygments_lexer": "ipython3",
   "version": "3.8.8"
  }
 },
 "nbformat": 4,
 "nbformat_minor": 4
}
