{
 "cells": [
  {
   "cell_type": "markdown",
   "metadata": {},
   "source": [
    "# Week2 One-way ANOVA with Variance-Stabilizing Transformations\n",
    "## 背景描述\n",
    "一位土木工程师试图确定4种不同的洪水流量估计方法在应用于同一流域时，是否能产生相同的峰值流量估计。现将每种方法在此流域中使用 6 次。  \n",
    "这是一个因子水平数 𝑎 = 4 和重复次数 𝑛 = 6 的单因子实验。\n",
    "## 数据描述\n",
    "| 变量名 | 变量含义 | 变量类型 | 变量取值范围 |\n",
    "| :----------: | :--------: | :----------: | :----------: |\n",
    "| （自变量）Method | 洪水流量的估计方法 | categorical variable | [1, 2, 3, 4] |\n",
    "| （因变量）Y | 洪水的峰值流量 | continuous variable (单位：每秒立方英尺) | $\\mathbb{R}$ |\n"
   ]
  },
  {
   "cell_type": "code",
   "execution_count": 14,
   "metadata": {},
   "outputs": [
    {
     "name": "stdout",
     "output_type": "stream",
     "text": [
      "Data: \n",
      " [[ 1.    1.    0.34]\n",
      " [ 2.    1.    0.12]\n",
      " [ 3.    1.    1.23]\n",
      " [ 4.    1.    0.7 ]\n",
      " [ 5.    1.    1.75]\n",
      " [ 6.    1.    0.12]\n",
      " [ 1.    2.    0.91]\n",
      " [ 2.    2.    2.94]\n",
      " [ 3.    2.    2.14]\n",
      " [ 4.    2.    2.36]\n",
      " [ 5.    2.    2.86]\n",
      " [ 6.    2.    4.55]\n",
      " [ 1.    3.    6.31]\n",
      " [ 2.    3.    8.37]\n",
      " [ 3.    3.    9.75]\n",
      " [ 4.    3.    6.09]\n",
      " [ 5.    3.    9.82]\n",
      " [ 6.    3.    7.24]\n",
      " [ 1.    4.   17.15]\n",
      " [ 2.    4.   11.82]\n",
      " [ 3.    4.   10.95]\n",
      " [ 4.    4.   17.2 ]\n",
      " [ 5.    4.   14.35]\n",
      " [ 6.    4.   16.82]]\n"
     ]
    }
   ],
   "source": [
    "import pandas as pd\n",
    "print('Data: \\n', pd.read_csv('T3_7.csv').values)"
   ]
  },
  {
   "cell_type": "markdown",
   "metadata": {},
   "source": [
    "## 问题 \n",
    "注：这里使用 $\\alpha=0.05$ 的显著性水平\n",
    "1. 试判断 4 种洪水流量估计方法的峰值流量是否存在差异.\n",
    "2. 试判断该实验数据是否满足方差齐性.\n",
    "3. 若实验中的数据满足方差齐性，试判断峰值流量如何进行方差稳定化变换.\n",
    "4. 如果需要变换，基于变换后的数据，试判断 4 种洪水流量估计方法的峰值流量是否存在差异.\n",
    "\n",
    "## 解决方案\n",
    "**Q1:**  \n",
    "检验假设 $H_0: \\mu_1 = \\mu_2 = \\mu_3 = \\mu_4$ ;  $H_1: \\mu_1, \\mu_2, \\mu_3, \\mu_4$不全相等"
   ]
  },
  {
   "cell_type": "code",
   "execution_count": 2,
   "metadata": {},
   "outputs": [
    {
     "name": "stdout",
     "output_type": "stream",
     "text": [
      "The ANOVA table: \n",
      "              df  sum_sq  mean_sq      F  PR(>F)\n",
      "C(method)   3.0  708.35   236.12  76.07     0.0\n",
      "Residual   20.0   62.08     3.10    NaN     NaN\n",
      "\n",
      "Since p-value < 0.05, reject H0.\n",
      "Since F0 > F(0.05, 3, 20) =  3.1 , reject H0.\n"
     ]
    }
   ],
   "source": [
    "# Import standard packages\n",
    "import numpy as np\n",
    "import pandas as pd\n",
    "import scipy.stats as stats\n",
    "from scipy import special\n",
    "import matplotlib.pyplot as plt\n",
    "import math\n",
    "\n",
    "# Import additional packages\n",
    "from statsmodels.formula.api import ols\n",
    "from statsmodels.stats.anova import anova_lm\n",
    "from scipy.stats import f\n",
    "\n",
    "alpha = 0.05\n",
    "a = 4\n",
    "n = 6\n",
    "\n",
    "x = pd.read_csv(\"T3_7.csv\")\n",
    "data = x.values[:,1:3]\n",
    "# print(data)\n",
    "\n",
    "# Sort them into groups, according to column 1(\"Method\")\n",
    "group1 = data[data[:,0] == 1,1]\n",
    "group2 = data[data[:,0] == 2,1]\n",
    "group3 = data[data[:,0] == 3,1]\n",
    "group4 = data[data[:,0] == 4,1]\n",
    "\n",
    "# Do the one-way ANOVA\n",
    "df = pd.DataFrame(data, columns = ['method', 'value'])   \n",
    "model = ols('value ~ C(method)', df).fit()\n",
    "anovaResults = round(anova_lm(model), 2)\n",
    "print('The ANOVA table: \\n', anovaResults)\n",
    "\n",
    "F0, pVal1 = stats.f_oneway(group1, group2, group3, group4)\n",
    "# 法1：\n",
    "# print(pVal1)\n",
    "if pVal1 < alpha:\n",
    "    print('\\nSince p-value < 0.05, reject H0.')\n",
    "else:\n",
    "    print('\\nAccept H0.') \n",
    "    \n",
    "# 法2：\n",
    "F = round(f.ppf(0.95,dfn = 3,dfd = 20), 2)\n",
    "if F0 > F:\n",
    "    print('Since F0 > F(0.05, 3, 20) = ', F, ', reject H0.')\n",
    "else:\n",
    "    print('Accept H0.') \n"
   ]
  },
  {
   "cell_type": "markdown",
   "metadata": {},
   "source": [
    "由方差分析表可知，P值小于 0.05 且F值大于 3.10，故拒绝原假设，即 4 种洪水流量估计方法的峰值流量存在差异。"
   ]
  },
  {
   "cell_type": "markdown",
   "metadata": {},
   "source": [
    "**Q2:**  \n",
    "ANOVA模型： \n",
    "$y_{ij} = \\mu + \\tau_i + \\epsilon_{ij}$ 的误差服从正态独立分布，其均值为零，方差为未知的常数$\\sigma^2$。 \n",
    "想要判断ANOVA模型是否恰当，可以利用残差检测来进行分析。  \n",
    "处理 $i$ 的观测值 $j$ 的残差定义为：$e_{ij} = y_{ij} - \\hat{y}_{ij}$  \n",
    "其中$\\hat{y}_{ij}$是对应于$y_{ij}$的一个估计， \n",
    "$\\hat{y}_{ij} = \\hat{\\mu} + \\hat{\\tau}_i = \\overline{y}_{··} + (\\overline{y}_{i·} - \\overline{y}_{··}) = \\overline{y}_{i·}$  "
   ]
  },
  {
   "cell_type": "markdown",
   "metadata": {},
   "source": [
    "检验假设：$𝐻_0:\\sigma_1^2 = \\sigma_2^2 = ⋯ = \\sigma_a^2$  vs $𝐻_1:\\sigma_i^2 \\neq \\sigma_j^2, ∃ i \\neq j$  \n",
    "异方差性的判断依据："
   ]
  },
  {
   "cell_type": "code",
   "execution_count": 3,
   "metadata": {
    "scrolled": false
   },
   "outputs": [
    {
     "name": "stdout",
     "output_type": "stream",
     "text": [
      "Bartlett检验的P值为： 0.0293\n",
      "Since p-value < 0.05, reject H0.\n",
      "\n",
      "Levene检验的P值为： 0.0136\n",
      "Since p-value < 0.05, reject H0.\n",
      "\n"
     ]
    },
    {
     "data": {
      "image/png": "[encoded data removed]",
      "text/plain": [
       "<Figure size 432x288 with 1 Axes>"
      ]
     },
     "metadata": {
      "needs_background": "light"
     },
     "output_type": "display_data"
    }
   ],
   "source": [
    "# 计算峰值流量的残差\n",
    "data_res = data.astype(float) * 1\n",
    "for k in range(a):\n",
    "    cnt = data_res[data_res[:,0] == k + 1,1]\n",
    "    data_res[data_res[:,0] == k + 1,1] = cnt - np.mean(cnt)\n",
    "# print(data_res)\n",
    "\n",
    "# 法1：残差与拟合值的关系图\n",
    "res = data_res[:,1]\n",
    "y = []\n",
    "for i in range(a):\n",
    "    for j in range(n):\n",
    "        y.append(np.mean(data[(data[:,0] == i + 1),1]))\n",
    "plt.scatter(y, res, c = 'red')\n",
    "plt.title('Plot of residuals versus yˆij')\n",
    "plt.xlabel('y^ij')\n",
    "plt.ylabel('e_ij')\n",
    "\n",
    "# 法2：用Bartlett检验进行方差齐性检验\n",
    "bart, pVal2 = stats.bartlett(group1, group2, group3, group4)\n",
    "bart_stat = stats.chi2.isf(alpha, a - 1)\n",
    "print('Bartlett检验的P值为：', round(pVal2, 4))\n",
    "if pVal2 < alpha:\n",
    "    print('Since p-value < 0.05, reject H0.')\n",
    "else:\n",
    "    print('Accept H0')  \n",
    "\n",
    "# 法3：用Levene检验进行方差齐性检验\n",
    "lene, pVal3 = stats.levene(group1, group2, group3, group4)\n",
    "print('\\nLevene检验的P值为：', round(pVal3, 4))\n",
    "if pVal3 < alpha:\n",
    "    print('Since p-value < 0.05, reject H0.\\n')\n",
    "else:\n",
    "    print('Accept H0\\n')  "
   ]
  },
  {
   "cell_type": "markdown",
   "metadata": {},
   "source": [
    "由分析可知:  \n",
    "1. 残差与拟合值的关系图：呈现开口向外的漏斗型；\n",
    "2. Bartlett 检验法：P值为 0.0293 < 0.05；\n",
    "3. Levene检验法：P值为 0.0136 < 0.05.  \n",
    "\n",
    "结论：拒绝方差相等的原假设。"
   ]
  },
  {
   "cell_type": "markdown",
   "metadata": {},
   "source": [
    "**Q3:**  \n",
    "由第二题的结论可知，残差具有异方差性。为了研究峰值流量如何采用方差稳定化变换，需画出$logS_i$和$log\\overline{y}_{i·}$的关系图。"
   ]
  },
  {
   "cell_type": "code",
   "execution_count": 4,
   "metadata": {
    "scrolled": true
   },
   "outputs": [
    {
     "name": "stdout",
     "output_type": "stream",
     "text": [
      "斜率为： 0.45\n"
     ]
    },
    {
     "data": {
      "text/plain": [
       "Text(0, 0.5, 'log_Si')"
      ]
     },
     "execution_count": 4,
     "metadata": {},
     "output_type": "execute_result"
    },
    {
     "data": {
      "image/png": "[encoded data removed]",
      "text/plain": [
       "<Figure size 432x288 with 1 Axes>"
      ]
     },
     "metadata": {
      "needs_background": "light"
     },
     "output_type": "display_data"
    }
   ],
   "source": [
    "# 求出各估计方法的标准差sigma_i和均值mu_i的对数\n",
    "# 通常用样本的标准差std_i和均值y_i代替总体的标准差sigma_i和均值mu_i\n",
    "log_y_1 = math.log(np.mean(group1))\n",
    "log_y_2 = math.log(np.mean(group2))\n",
    "log_y_3 = math.log(np.mean(group3))\n",
    "log_y_4 = math.log(np.mean(group4))\n",
    "log_y = [log_y_1, log_y_2, log_y_3, log_y_4]\n",
    "\n",
    "log_std_1 = math.log(np.std(group1, ddof = 1))\n",
    "log_std_2 = math.log(np.std(group2, ddof = 1))\n",
    "log_std_3 = math.log(np.std(group3, ddof = 1))\n",
    "log_std_4 = math.log(np.std(group4, ddof = 1))\n",
    "log_std = [log_std_1, log_std_2, log_std_3, log_std_4]\n",
    "\n",
    "# linregress(x,y)线性回归函数\n",
    "slope, intercept, r_value, p_value, std_err = stats.linregress(log_y, log_std)\n",
    "print('斜率为：', round(slope, 2))\n",
    "\n",
    "# 作图\n",
    "plt.scatter(log_y, log_std)\n",
    "plt.title('Plot of log_Si versus log yi· for the peak discharge data')\n",
    "plt.xlabel('log_yi·')\n",
    "plt.ylabel('log_Si')\n"
   ]
  },
  {
   "cell_type": "markdown",
   "metadata": {},
   "source": [
    "由上图可知，过这 4 点的直线斜率接近 $1/2$ ，即 $\\alpha= 1/2$。根据 $\\lambda = 1−\\alpha，\\lambda = 1/2$。可知平方根是适合的。变换后的数据为 $𝑦^* = \\sqrt{𝑦}$ 。"
   ]
  },
  {
   "cell_type": "markdown",
   "metadata": {},
   "source": [
    "变换的方式为：对 y 值开方，即通过开根号进行方差稳定化变换"
   ]
  },
  {
   "cell_type": "code",
   "execution_count": 5,
   "metadata": {
    "scrolled": true
   },
   "outputs": [
    {
     "data": {
      "text/plain": [
       "Text(0, 0.5, 'e_ij*')"
      ]
     },
     "execution_count": 5,
     "metadata": {},
     "output_type": "execute_result"
    },
    {
     "data": {
      "image/png": "[encoded data removed]",
      "text/plain": [
       "<Figure size 432x288 with 1 Axes>"
      ]
     },
     "metadata": {
      "needs_background": "light"
     },
     "output_type": "display_data"
    }
   ],
   "source": [
    "# 对y值开方，即通过开根号进行方差稳定化变换\n",
    "sqrt_group1 = group1 ** 0.5\n",
    "sqrt_group2 = group2 ** 0.5\n",
    "sqrt_group3 = group3 ** 0.5\n",
    "sqrt_group4 = group4 ** 0.5\n",
    "sqrt_groups = [sqrt_group1, sqrt_group2, sqrt_group3, sqrt_group4]\n",
    "sqrt_groups1 = pd.DataFrame(sqrt_groups)\n",
    "# print(sqrt_groups1)\n",
    "\n",
    "# 计算变换后峰值流量的残差\n",
    "df = np.array(sqrt_groups)\n",
    "sqrt_data = [data[:,0], df.reshape(1, 24).tolist()[0]]\n",
    "sqrt_data = np.array(sqrt_data * 1).T\n",
    "sqrt_data_res = sqrt_data * 1\n",
    "for k in range(a):\n",
    "    sqrt_cnt = sqrt_data_res[sqrt_data_res[:,0] == k + 1,1]\n",
    "    sqrt_data_res[sqrt_data_res[:,0] == k + 1,1] = sqrt_cnt - np.mean(sqrt_cnt)\n",
    "\n",
    "# 变换后的残差与拟合值的关系图\n",
    "sqrt_res = sqrt_data_res[:,1]\n",
    "sqrt_y = []\n",
    "for i in range(a):\n",
    "    for j in range(n):\n",
    "        sqrt_y.append(np.mean(sqrt_data[(sqrt_data[:,0] == i + 1),1]))\n",
    "plt.scatter(sqrt_y, sqrt_res, c = \"red\")\n",
    "plt.title('Plot of residuals versus y_ij*')\n",
    "plt.xlabel('y_ij*')\n",
    "plt.ylabel('e_ij*')"
   ]
  },
  {
   "cell_type": "markdown",
   "metadata": {},
   "source": [
    "【补充】Box-Cox变换：Box-Cox变换的主要特点是引入一个参数 $\\lambda$，通过数据本身估计该参数进而确定应采取的数据变换形式，Box-Cox变换可以明显地改善数据的正态性、方差齐性。  \n",
    "Box-Cox变换的一般形式为：  \n",
    "$$ y(\\lambda)=\\left\\{\n",
    "\\begin{aligned}\n",
    "\\frac{(y+c)^{\\lambda}-1}{\\lambda} & ,&\\lambda \\neq 0 \\\\\n",
    "\\ln (y+c) & ,& \\lambda = 0 \n",
    "\\end{aligned}\n",
    "\\right.\n",
    "$$\n",
    "式中$y(\\lambda)$为经Box-Cox变换后得到的新变量，$y$ 为原始连续因变量，其中 $y+c$ 的 $+c$ 是为了确保 $(y+c)>0$,因为在Box-Cox变换中要求 $y>0$，$\\lambda$ 为变换参数。  \n",
    "在这里可以看到 $\\lambda$ 的值是需要我们自己去确定的，那么怎么去确定呢？这里使用的方法是假设经过转换后的因变量就是服从正态分布的，然后画出关于 $\\lambda$ 的似然函数，似然函数值最大的时候 $\\lambda$ 的取值就是这里需要确定的值。"
   ]
  },
  {
   "cell_type": "code",
   "execution_count": 6,
   "metadata": {},
   "outputs": [
    {
     "name": "stdout",
     "output_type": "stream",
     "text": [
      "lmax_mle:  0.3385474390155809\n",
      "lmax_pearsonr:  0.4002425678114417\n"
     ]
    },
    {
     "data": {
      "image/png": "[encoded data removed]",
      "text/plain": [
       "<Figure size 432x288 with 1 Axes>"
      ]
     },
     "metadata": {
      "needs_background": "light"
     },
     "output_type": "display_data"
    },
    {
     "data": {
      "text/plain": [
       "Text(0, 0.5, 'e_ij*')"
      ]
     },
     "execution_count": 6,
     "metadata": {},
     "output_type": "execute_result"
    },
    {
     "data": {
      "image/png": "[encoded data removed]",
      "text/plain": [
       "<Figure size 432x288 with 1 Axes>"
      ]
     },
     "metadata": {
      "needs_background": "light"
     },
     "output_type": "display_data"
    }
   ],
   "source": [
    "# 作Box-Cox变换\n",
    "bc, lmax_mle = stats.boxcox(data[:,1])\n",
    "lmax_pearsonr = stats.boxcox_normmax(data[:,1])\n",
    "print('lmax_mle: ', lmax_mle)\n",
    "print('lmax_pearsonr: ', lmax_pearsonr)\n",
    "\n",
    "fig = plt.figure()\n",
    "ax = fig.add_subplot(111)\n",
    "prob = stats.boxcox_normplot(data[:,1], -10, 10, plot = ax)\n",
    "ax.axvline(lmax_mle, color='r')\n",
    "ax.axvline(lmax_pearsonr, color='g', ls='--')\n",
    "plt.show()\n",
    "\n",
    "# 计算变换后峰值流量的残差\n",
    "bc_group1 = bc[0:6]\n",
    "bc_group2 = bc[6:12]\n",
    "bc_group3 = bc[12:18]\n",
    "bc_group4 = bc[18:24]\n",
    "bc_groups = [bc_group1, bc_group2, bc_group3, bc_group4]\n",
    "bc_groups1 = pd.DataFrame(bc_groups)\n",
    "# print(bc_groups1)\n",
    "df = np.array(bc_groups)\n",
    "bc_data = [data[:,0], df.reshape(1, 24).tolist()[0]]\n",
    "bc_data = np.array(bc_data * 1).T\n",
    "bc_data_res = bc_data * 1\n",
    "for k in range(a):\n",
    "    bc_cnt = bc_data_res[bc_data_res[:,0] == k + 1,1]\n",
    "    bc_data_res[bc_data_res[:,0] == k + 1,1] = bc_cnt - np.mean(bc_cnt)\n",
    "\n",
    "# 变换后的残差与拟合值的关系图\n",
    "bc_res = bc_data_res[:,1]\n",
    "bc_y = []\n",
    "for i in range(a):\n",
    "    for j in range(n):\n",
    "        bc_y.append(np.mean(bc_data[(bc_data[:,0] == i + 1),1]))\n",
    "plt.scatter(bc_y, bc_res, c = \"red\")\n",
    "plt.title('Plot of residuals versus y_ij*')\n",
    "plt.xlabel('y_ij*')\n",
    "plt.ylabel('e_ij*')\n"
   ]
  },
  {
   "cell_type": "markdown",
   "metadata": {},
   "source": [
    "Q4:"
   ]
  },
  {
   "cell_type": "code",
   "execution_count": 9,
   "metadata": {},
   "outputs": [
    {
     "name": "stdout",
     "output_type": "stream",
     "text": [
      "Accept H0\n",
      "\n",
      "Accept H0\n",
      "\n",
      "Since p-value < 0.05, reject H0.\n",
      "\n",
      "sqrt_F0:  81.0489854199416\n",
      "Since p-value < 0.05, reject H0.\n",
      "\n",
      "bc_F0:  67.18918482170258\n",
      "             df     sum_sq    mean_sq          F        PR(>F)\n",
      "C(method)   3.0  32.684213  10.894738  81.048985  2.296069e-11\n",
      "Residual   20.0   2.688433   0.134422        NaN           NaN\n"
     ]
    }
   ],
   "source": [
    "# 开根号后，再用Levene检验进行方差齐性检验\n",
    "sqrt_lene, pVal4 = stats.levene(sqrt_group1, sqrt_group2, sqrt_group3, sqrt_group4)\n",
    "if pVal4 < alpha:\n",
    "    print('Since p-value < 0.05, reject H0.\\n')\n",
    "else:\n",
    "    print('Accept H0\\n')  \n",
    "    \n",
    "# Box-Cox变换后，再用Levene检验进行方差齐性检验 \n",
    "bc_lene, pVal5 = stats.levene(bc_group1, bc_group2, bc_group3, bc_group4)\n",
    "if pVal5 < alpha:\n",
    "    print('Since p-value < 0.05, reject H0.\\n')\n",
    "else:\n",
    "    print('Accept H0\\n') \n",
    "\n",
    "# 开根号后，Do the one-way ANOVA with transformation of square root\n",
    "sqrt_F0, pVal6 = stats.f_oneway(sqrt_group1, sqrt_group2, sqrt_group3, sqrt_group4)\n",
    "if pVal6 < alpha:\n",
    "    print('Since p-value < 0.05, reject H0.\\n')\n",
    "else:\n",
    "    print('Accept H0\\n') \n",
    "print('sqrt_F0: ', sqrt_F0) \n",
    "\n",
    "# Box-Cox变换后，Do the one-way ANOVA with transformation of square root\n",
    "bc_F0, pVal7 = stats.f_oneway(bc_group1, bc_group2, bc_group3, bc_group4)\n",
    "if pVal7 < alpha:\n",
    "    print('Since p-value < 0.05, reject H0.\\n')\n",
    "else:\n",
    "    print('Accept H0\\n') \n",
    "print('bc_F0: ', bc_F0) \n",
    "    \n",
    "# Elegant alternative implementation, with pandas & statsmodels\n",
    "for i in range(a):\n",
    "    data[0 + 6 * i:6 * (i + 1), 1] = list(sqrt_groups[i].astype(float) )\n",
    "#     data[0 + 6 * i:6 * (i + 1), 1] = list(bc_groups[i])\n",
    "df = pd.DataFrame(data, columns = ['method', 'Y'])   \n",
    "model = ols('Y ~ C(method)', df).fit()\n",
    "anovaResults = anova_lm(model)\n",
    "print(anovaResults)"
   ]
  },
  {
   "cell_type": "markdown",
   "metadata": {},
   "source": [
    "由第一个结论可知，稳定化变换后的残差具有方差齐性。再进行单因素方差分析，由方差分析表知，P值小于0.05，故拒绝原假设，即 4 种洪水流量估计方法的峰值流量存在差异。"
   ]
  },
  {
   "cell_type": "markdown",
   "metadata": {},
   "source": [
    "## 第二周练习题\n",
    "数据集：Project2.csv(内附文档)  \n",
    "统计方法：One-way ANOVA    \n",
    "软件：Jupyter Notebook  \n",
    "作业发到邮箱：51205903029@stu.ecnu.edu.cn  \n",
    "压缩包名字：学号-姓名  \n",
    "Deadline：下周一晚上10：00之前交  \n",
    "注：要有完整的解题过程，不能只有代码"
   ]
  },
  {
   "cell_type": "code",
   "execution_count": null,
   "metadata": {},
   "outputs": [],
   "source": []
  }
 ],
 "metadata": {
  "kernelspec": {
   "display_name": "Python 3",
   "language": "python",
   "name": "python3"
  },
  "language_info": {
   "codemirror_mode": {
    "name": "ipython",
    "version": 3
   },
   "file_extension": ".py",
   "mimetype": "text/x-python",
   "name": "python",
   "nbconvert_exporter": "python",
   "pygments_lexer": "ipython3",
   "version": "3.7.10"
  }
 },
 "nbformat": 4,
 "nbformat_minor": 4
}
