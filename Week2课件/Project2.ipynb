{
 "cells": [
  {
   "cell_type": "code",
   "execution_count": 1,
   "metadata": {},
   "outputs": [
    {
     "name": "stdout",
     "output_type": "stream",
     "text": [
      "The ANOVA table: \n",
      "               df       sum_sq     mean_sq     F  PR(>F)\n",
      "C(display)   4.0  103191489.2  25797872.3  6.19     0.0\n",
      "Residual    15.0   62505657.0   4167043.8   NaN     NaN\n",
      "\n",
      "Since p-value < 0.05, reject H0.\n",
      "Since F0 > F(0.05, 3, 20) =  3.06 , reject H0.\n"
     ]
    }
   ],
   "source": [
    "# Import standard packages\n",
    "import numpy as np\n",
    "import pandas as pd\n",
    "import scipy.stats as stats\n",
    "import matplotlib.pyplot as plt\n",
    "import math\n",
    "\n",
    "# Import additional packages\n",
    "from statsmodels.formula.api import ols\n",
    "from statsmodels.stats.anova import anova_lm\n",
    "from scipy.stats import f\n",
    "\n",
    "alpha = 0.05\n",
    "a = 5\n",
    "n = 4\n",
    "\n",
    "x = pd.read_csv(\"Project2.csv\")\n",
    "data = x.values[:,1:3]\n",
    "# print(data)\n",
    "\n",
    "# Sort them into groups, according to column 1(\"Method\")\n",
    "group1 = data[data[:,0] == 1,1]\n",
    "group2 = data[data[:,0] == 2,1]\n",
    "group3 = data[data[:,0] == 3,1]\n",
    "group4 = data[data[:,0] == 4,1]\n",
    "group5 = data[data[:,0] == 5,1]\n",
    "\n",
    "# Do the one-way ANOVA\n",
    "df = pd.DataFrame(data, columns = ['display', 'percent'])   \n",
    "model = ols('percent ~ C(display)', df).fit()\n",
    "anovaResults = round(anova_lm(model), 2)\n",
    "print('The ANOVA table: \\n', anovaResults)\n",
    "\n",
    "F0, pVal1 = stats.f_oneway(group1, group2, group3, group4, group5)\n",
    "# 法1：\n",
    "# print(pVal1)\n",
    "if pVal1 < alpha:\n",
    "    print('\\nSince p-value < 0.05, reject H0.')\n",
    "else:\n",
    "    print('\\nAccept H0.') \n",
    "    \n",
    "# 法2：\n",
    "F = round(f.ppf(0.95,dfn = 4,dfd = 15), 2)\n",
    "if F0 > F:\n",
    "    print('Since F0 > F(0.05, 3, 20) = ', F, ', reject H0.')\n",
    "else:\n",
    "    print('Accept H0.') \n"
   ]
  },
  {
   "cell_type": "code",
   "execution_count": 2,
   "metadata": {},
   "outputs": [
    {
     "name": "stdout",
     "output_type": "stream",
     "text": [
      "73.7804417752238\n",
      "9.487729036781158\n",
      "Bartlett检验的P值为： 0.0\n",
      "Since p-value < 0.05, reject H0.\n",
      "\n",
      "Levene检验的P值为： 0.0043\n",
      "Since p-value < 0.05, reject H0.\n",
      "\n"
     ]
    },
    {
     "data": {
      "image/png": "[encoded data removed]",
      "text/plain": [
       "<Figure size 432x288 with 1 Axes>"
      ]
     },
     "metadata": {
      "needs_background": "light"
     },
     "output_type": "display_data"
    }
   ],
   "source": [
    "# 计算销售百分比的残差\n",
    "data_res = data.astype(float) * 1\n",
    "for k in range(a):\n",
    "    cnt = data_res[data_res[:,0] == k + 1,1]\n",
    "    data_res[data_res[:,0] == k + 1,1] = cnt - np.mean(cnt)\n",
    "# print(data_res)\n",
    "\n",
    "# 法1：残差与拟合值的关系图\n",
    "res = data_res[:,1]\n",
    "y = []\n",
    "for i in range(a):\n",
    "    for j in range(n):\n",
    "        y.append(np.mean(data[(data[:,0] == i + 1),1]))\n",
    "plt.scatter(y, res, c = \"red\")\n",
    "plt.title('Plot of residuals versus yˆij')\n",
    "plt.xlabel('y^ij')\n",
    "plt.ylabel('e_ij')\n",
    "\n",
    "# 用Bartlett检验进行方差齐性检验\n",
    "bart, pVal2 = stats.bartlett(group1, group2, group3, group4, group5)\n",
    "bart_stat = stats.chi2.isf(alpha, a-1)\n",
    "print(bart)\n",
    "print(bart_stat)\n",
    "print('Bartlett检验的P值为：', round(pVal2, 4))\n",
    "if pVal2 < alpha:\n",
    "    print('Since p-value < 0.05, reject H0.')\n",
    "else:\n",
    "    print('Accept H0')  \n",
    "\n",
    "# 用Levene检验进行方差齐性检验\n",
    "lene, pVal3 = stats.levene(group1, group2, group3, group4, group5)\n",
    "print('\\nLevene检验的P值为：', round(pVal3, 4))\n",
    "if pVal3 < alpha:\n",
    "    print('Since p-value < 0.05, reject H0.\\n')\n",
    "else:\n",
    "    print('Accept H0\\n')  "
   ]
  },
  {
   "cell_type": "code",
   "execution_count": 3,
   "metadata": {},
   "outputs": [
    {
     "name": "stdout",
     "output_type": "stream",
     "text": [
      "斜率为： 0.92\n"
     ]
    },
    {
     "data": {
      "text/plain": [
       "Text(0, 0.5, 'log_Si')"
      ]
     },
     "execution_count": 3,
     "metadata": {},
     "output_type": "execute_result"
    },
    {
     "data": {
      "image/png": "[encoded data removed]",
      "text/plain": [
       "<Figure size 432x288 with 1 Axes>"
      ]
     },
     "metadata": {
      "needs_background": "light"
     },
     "output_type": "display_data"
    }
   ],
   "source": [
    "# 求出各估计方法的标准差sigma_i和均值mu_i的对数\n",
    "# 通常用样本的标准差std_i和均值y_i代替总体的标准差sigma_i和均值mu_i\n",
    "log_y_1 = math.log10(np.mean(group1))\n",
    "log_y_2 = math.log10(np.mean(group2))\n",
    "log_y_3 = math.log10(np.mean(group3))\n",
    "log_y_4 = math.log10(np.mean(group4))\n",
    "log_y_5 = math.log10(np.mean(group5))\n",
    "log_y = [log_y_1, log_y_2, log_y_3, log_y_4, log_y_5]\n",
    "\n",
    "log_std_1 = math.log10(np.std(group1, ddof = 1))\n",
    "log_std_2 = math.log10(np.std(group2, ddof = 1))\n",
    "log_std_3 = math.log10(np.std(group3, ddof = 1))\n",
    "log_std_4 = math.log10(np.std(group4, ddof = 1))\n",
    "log_std_5 = math.log10(np.std(group5, ddof = 1))\n",
    "log_std = [log_std_1, log_std_2, log_std_3, log_std_4, log_std_5]\n",
    "\n",
    "# linregress(x,y)线性回归函数\n",
    "slope, intercept, r_value, p_value, std_err = stats.linregress(log_y, log_std)\n",
    "print('斜率为：', round(slope, 2))\n",
    "\n",
    "# 作图\n",
    "plt.scatter(log_y, log_std)\n",
    "plt.title('Plot of log_Si versus log yi· for the peak discharge data')\n",
    "plt.xlabel('log_yi·')\n",
    "plt.ylabel('log_Si')\n"
   ]
  },
  {
   "cell_type": "code",
   "execution_count": 4,
   "metadata": {},
   "outputs": [
    {
     "ename": "NameError",
     "evalue": "name 'data_' is not defined",
     "output_type": "error",
     "traceback": [
      "\u001b[1;31m---------------------------------------------------------------------------\u001b[0m",
      "\u001b[1;31mNameError\u001b[0m                                 Traceback (most recent call last)",
      "\u001b[1;32m<ipython-input-4-fadc401e0226>\u001b[0m in \u001b[0;36m<module>\u001b[1;34m\u001b[0m\n\u001b[0;32m     23\u001b[0m \u001b[1;32mfor\u001b[0m \u001b[0mi\u001b[0m \u001b[1;32min\u001b[0m \u001b[0mrange\u001b[0m\u001b[1;33m(\u001b[0m\u001b[0ma\u001b[0m\u001b[1;33m)\u001b[0m\u001b[1;33m:\u001b[0m\u001b[1;33m\u001b[0m\u001b[1;33m\u001b[0m\u001b[0m\n\u001b[0;32m     24\u001b[0m     \u001b[1;32mfor\u001b[0m \u001b[0mj\u001b[0m \u001b[1;32min\u001b[0m \u001b[0mrange\u001b[0m\u001b[1;33m(\u001b[0m\u001b[0mn\u001b[0m\u001b[1;33m)\u001b[0m\u001b[1;33m:\u001b[0m\u001b[1;33m\u001b[0m\u001b[1;33m\u001b[0m\u001b[0m\n\u001b[1;32m---> 25\u001b[1;33m         \u001b[0msqrt_y\u001b[0m\u001b[1;33m.\u001b[0m\u001b[0mappend\u001b[0m\u001b[1;33m(\u001b[0m\u001b[0mnp\u001b[0m\u001b[1;33m.\u001b[0m\u001b[0mmean\u001b[0m\u001b[1;33m(\u001b[0m\u001b[0mdata_\u001b[0m\u001b[1;33m[\u001b[0m\u001b[1;33m(\u001b[0m\u001b[0mdata_\u001b[0m\u001b[1;33m[\u001b[0m\u001b[1;33m:\u001b[0m\u001b[1;33m,\u001b[0m\u001b[1;36m0\u001b[0m\u001b[1;33m]\u001b[0m \u001b[1;33m==\u001b[0m \u001b[0mi\u001b[0m \u001b[1;33m+\u001b[0m \u001b[1;36m1\u001b[0m\u001b[1;33m)\u001b[0m\u001b[1;33m,\u001b[0m\u001b[1;36m1\u001b[0m\u001b[1;33m]\u001b[0m\u001b[1;33m)\u001b[0m\u001b[1;33m)\u001b[0m\u001b[1;33m\u001b[0m\u001b[1;33m\u001b[0m\u001b[0m\n\u001b[0m\u001b[0;32m     26\u001b[0m \u001b[0mplt\u001b[0m\u001b[1;33m.\u001b[0m\u001b[0mscatter\u001b[0m\u001b[1;33m(\u001b[0m\u001b[0msqrt_y\u001b[0m\u001b[1;33m,\u001b[0m \u001b[0msqrt_res\u001b[0m\u001b[1;33m,\u001b[0m \u001b[0mc\u001b[0m \u001b[1;33m=\u001b[0m \u001b[1;34m\"red\"\u001b[0m\u001b[1;33m)\u001b[0m\u001b[1;33m\u001b[0m\u001b[1;33m\u001b[0m\u001b[0m\n\u001b[0;32m     27\u001b[0m \u001b[0mplt\u001b[0m\u001b[1;33m.\u001b[0m\u001b[0mtitle\u001b[0m\u001b[1;33m(\u001b[0m\u001b[1;34m'Plot of residuals versus y_ij*'\u001b[0m\u001b[1;33m)\u001b[0m\u001b[1;33m\u001b[0m\u001b[1;33m\u001b[0m\u001b[0m\n",
      "\u001b[1;31mNameError\u001b[0m: name 'data_' is not defined"
     ]
    }
   ],
   "source": [
    "# 对y值开方，即通过开根号进行方差稳定化变换\n",
    "sqrt_group1 = np.log(group1)\n",
    "sqrt_group2 = np.log(group2)\n",
    "sqrt_group3 = np.log(group3)\n",
    "sqrt_group4 = np.log(group4)\n",
    "sqrt_group5 = np.log(group5)\n",
    "sqrt_groups = [sqrt_group1, sqrt_group2, sqrt_group3, sqrt_group4, sqrt_group5]\n",
    "sqrt_groups1 = pd.DataFrame(sqrt_groups)\n",
    "# print(sqrt_groups1)\n",
    "\n",
    "# 计算变换后销售百分比的残差\n",
    "df = np.array(sqrt_groups)\n",
    "sqrt_data = [data[:,0], df.reshape(1, 20).tolist()[0]]\n",
    "sqrt_data = np.array(sqrt_data * 1).T\n",
    "sqrt_data_res = sqrt_data * 1\n",
    "for k in range(a):\n",
    "    sqrt_cnt = sqrt_data_res[sqrt_data_res[:,0] == k + 1,1]\n",
    "    sqrt_data_res[sqrt_data_res[:,0] == k + 1,1] =sqrt_cnt - np.mean(sqrt_cnt)\n",
    "\n",
    "# 变换后的残差与拟合值的关系图\n",
    "sqrt_res = sqrt_data_res[:,1]\n",
    "sqrt_y = []\n",
    "for i in range(a):\n",
    "    for j in range(n):\n",
    "        sqrt_y.append(np.mean(data_[(data_[:,0] == i + 1),1]))\n",
    "plt.scatter(sqrt_y, sqrt_res, c = \"red\")\n",
    "plt.title('Plot of residuals versus y_ij*')\n",
    "plt.xlabel('y_ij*')\n",
    "plt.ylabel('e_ij*')"
   ]
  },
  {
   "cell_type": "code",
   "execution_count": 7,
   "metadata": {},
   "outputs": [
    {
     "name": "stdout",
     "output_type": "stream",
     "text": [
      "lmax_mle:  0.016756747738272192\n",
      "lmax_pearsonr:  0.014405180057034986\n"
     ]
    },
    {
     "data": {
      "image/png": "[encoded data removed]",
      "text/plain": [
       "<Figure size 432x288 with 1 Axes>"
      ]
     },
     "metadata": {
      "needs_background": "light"
     },
     "output_type": "display_data"
    },
    {
     "data": {
      "text/plain": [
       "Text(0, 0.5, 'e_ij*')"
      ]
     },
     "execution_count": 7,
     "metadata": {},
     "output_type": "execute_result"
    },
    {
     "data": {
      "image/png": "[encoded data removed]",
      "text/plain": [
       "<Figure size 432x288 with 1 Axes>"
      ]
     },
     "metadata": {
      "needs_background": "light"
     },
     "output_type": "display_data"
    }
   ],
   "source": [
    "# 作Box-Cox变换\n",
    "dataa = data[:,1] * 1\n",
    "bc, lmax_mle = stats.boxcox(dataa)\n",
    "lmax_pearsonr = stats.boxcox_normmax(dataa)\n",
    "print('lmax_mle: ', lmax_mle)\n",
    "print('lmax_pearsonr: ', lmax_pearsonr)\n",
    "\n",
    "fig = plt.figure()\n",
    "ax = fig.add_subplot(111)\n",
    "prob = stats.boxcox_normplot(dataa, -10, 10, plot = ax)\n",
    "ax.axvline(lmax_mle, color='r')\n",
    "ax.axvline(lmax_pearsonr, color='g', ls='--')\n",
    "plt.show()\n",
    "\n",
    "# 计算变换后销售百分比的残差\n",
    "bc_group1 = bc[0:4]\n",
    "bc_group2 = bc[4:8]\n",
    "bc_group3 = bc[8:12]\n",
    "bc_group4 = bc[12:16]\n",
    "bc_group5 = bc[16:20]\n",
    "bc_groups = [bc_group1, bc_group2, bc_group3, bc_group4, bc_group5]\n",
    "bc_groups1 = pd.DataFrame(bc_groups)\n",
    "# print(bc_groups1)\n",
    "df = np.array(bc_groups)\n",
    "bc_data = [data[:,0], df.reshape(1, 20).tolist()[0]]\n",
    "bc_data = np.array(bc_data * 1).T\n",
    "bc_data_res = bc_data * 1\n",
    "for k in range(a):\n",
    "    bc_cnt = bc_data_res[bc_data_res[:,0] == k + 1,1]\n",
    "    bc_data_res[bc_data_res[:,0] == k + 1,1] = bc_cnt - np.mean(bc_cnt)\n",
    "\n",
    "# 变换后的残差与拟合值的关系图\n",
    "bc_res = bc_data_res[:,1]\n",
    "bc_y = []\n",
    "for i in range(a):\n",
    "    for j in range(n):\n",
    "        bc_y.append(np.mean(bc_data[(bc_data[:,0] == i + 1),1]))\n",
    "plt.scatter(bc_y, bc_res, c = \"red\")\n",
    "plt.title('Plot of residuals versus y_ij*')\n",
    "plt.xlabel('y_ij*')\n",
    "plt.ylabel('e_ij*')"
   ]
  },
  {
   "cell_type": "code",
   "execution_count": 8,
   "metadata": {
    "scrolled": true
   },
   "outputs": [
    {
     "name": "stdout",
     "output_type": "stream",
     "text": [
      "Accept H0\n",
      "\n",
      "Accept H0\n",
      "\n",
      "Since p-value < 0.05, reject H0.\n",
      "\n",
      "Since p-value < 0.05, reject H0.\n",
      "\n",
      "             df  sum_sq  mean_sq          F        PR(>F)\n",
      "C(method)   4.0  170.80    42.70  40.666667  6.989360e-08\n",
      "Residual   15.0   15.75     1.05        NaN           NaN\n"
     ]
    }
   ],
   "source": [
    "# 开根号后，再用Levene检验进行方差齐性检验\n",
    "sqrt_lene, pVal4 = stats.levene(sqrt_group1, sqrt_group2, sqrt_group3, sqrt_group4, sqrt_group5)\n",
    "if pVal4 < alpha:\n",
    "    print('Since p-value < 0.05, reject H0.\\n')\n",
    "else:\n",
    "    print('Accept H0\\n')  \n",
    "    \n",
    "# Box-Cox变换后，再用Levene检验进行方差齐性检验 \n",
    "bc_lene, pVal5 = stats.levene(bc_group1, bc_group2, bc_group3, bc_group4, bc_group5)\n",
    "if pVal5 < alpha:\n",
    "    print('Since p-value < 0.05, reject H0.\\n')\n",
    "else:\n",
    "    print('Accept H0\\n') \n",
    "\n",
    "# 开根号后，Do the one-way ANOVA with transformation of square root\n",
    "sqrt_F0, pVal6 = stats.f_oneway(sqrt_group1, sqrt_group2, sqrt_group3, sqrt_group4, sqrt_group5)\n",
    "if pVal6 < alpha:\n",
    "    print('Since p-value < 0.05, reject H0.\\n')\n",
    "else:\n",
    "    print('Accept H0\\n') \n",
    "    \n",
    "# Box-Cox变换后，Do the one-way ANOVA with transformation of square root\n",
    "bc_F0, pVal7 = stats.f_oneway(bc_group1, bc_group2, bc_group3, bc_group4, bc_group5)\n",
    "if pVal7 < alpha:\n",
    "    print('Since p-value < 0.05, reject H0.\\n')\n",
    "else:\n",
    "    print('Accept H0\\n') \n",
    "\n",
    "# Elegant alternative implementation, with pandas & statsmodels\n",
    "for i in range(a):\n",
    "    data[0 + 4 * i:4 * (i + 1), 1] = list(sqrt_groups[i])\n",
    "#     data[0 + 4 * i:4 * (i + 1), 1] = list(bc_groups[i])\n",
    "df = pd.DataFrame(data, columns = ['method', 'Y'])   \n",
    "model = ols('Y ~ C(method)', df).fit()\n",
    "anovaResults = anova_lm(model)\n",
    "print(anovaResults)"
   ]
  },
  {
   "cell_type": "code",
   "execution_count": null,
   "metadata": {},
   "outputs": [],
   "source": []
  }
 ],
 "metadata": {
  "kernelspec": {
   "display_name": "Python 3",
   "language": "python",
   "name": "python3"
  },
  "language_info": {
   "codemirror_mode": {
    "name": "ipython",
    "version": 3
   },
   "file_extension": ".py",
   "mimetype": "text/x-python",
   "name": "python",
   "nbconvert_exporter": "python",
   "pygments_lexer": "ipython3",
   "version": "3.7.10"
  }
 },
 "nbformat": 4,
 "nbformat_minor": 4
}
